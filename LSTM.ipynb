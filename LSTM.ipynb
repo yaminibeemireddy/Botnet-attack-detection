{
 "cells": [
  {
   "cell_type": "code",
   "execution_count": 8,
   "id": "bc430138",
   "metadata": {
    "execution": {
     "iopub.execute_input": "2023-09-07T03:12:24.839006Z",
     "iopub.status.busy": "2023-09-07T03:12:24.838230Z",
     "iopub.status.idle": "2023-09-07T03:12:27.825407Z",
     "shell.execute_reply": "2023-09-07T03:12:27.824526Z"
    },
    "papermill": {
     "duration": 3.042665,
     "end_time": "2023-09-07T03:12:27.828343",
     "exception": false,
     "start_time": "2023-09-07T03:12:24.785678",
     "status": "completed"
    },
    "tags": []
   },
   "outputs": [
    {
     "name": "stderr",
     "output_type": "stream",
     "text": [
      "C:\\Users\\saidi\\AppData\\Local\\Temp\\ipykernel_7636\\2855256632.py:3: DeprecationWarning: Importing display from IPython.core.display is deprecated since IPython 7.14, please import from IPython display\n",
      "  from IPython.core.display import display, HTML\n"
     ]
    }
   ],
   "source": [
    "import numpy as np\n",
    "import pandas as pd\n",
    "from IPython.core.display import display, HTML\n",
    "import plotly.graph_objects as go\n",
    "import plotly.express as px\n",
    "from plotly.subplots import make_subplots\n",
    "import plotly.io as pio\n",
    "import seaborn as sns\n",
    "from importlib import reload\n",
    "import matplotlib.pyplot as plt\n",
    "import matplotlib\n",
    "import warnings\n",
    "%matplotlib inline\n",
    "warnings.filterwarnings('ignore')"
   ]
  },
  {
   "cell_type": "code",
   "execution_count": 9,
   "id": "d1ed1fb3",
   "metadata": {
    "execution": {
     "iopub.execute_input": "2023-09-07T03:12:27.928514Z",
     "iopub.status.busy": "2023-09-07T03:12:27.927888Z",
     "iopub.status.idle": "2023-09-07T03:12:28.741251Z",
     "shell.execute_reply": "2023-09-07T03:12:28.740317Z"
    },
    "papermill": {
     "duration": 0.866306,
     "end_time": "2023-09-07T03:12:28.744351",
     "exception": false,
     "start_time": "2023-09-07T03:12:27.878045",
     "status": "completed"
    },
    "tags": []
   },
   "outputs": [],
   "source": [
    "df = pd.read_csv('Data/UNSW_NB15_training-set.csv')"
   ]
  },
  {
   "cell_type": "code",
   "execution_count": 10,
   "id": "505d431b",
   "metadata": {},
   "outputs": [
    {
     "data": {
      "text/html": [
       "<div>\n",
       "<style scoped>\n",
       "    .dataframe tbody tr th:only-of-type {\n",
       "        vertical-align: middle;\n",
       "    }\n",
       "\n",
       "    .dataframe tbody tr th {\n",
       "        vertical-align: top;\n",
       "    }\n",
       "\n",
       "    .dataframe thead th {\n",
       "        text-align: right;\n",
       "    }\n",
       "</style>\n",
       "<table border=\"1\" class=\"dataframe\">\n",
       "  <thead>\n",
       "    <tr style=\"text-align: right;\">\n",
       "      <th></th>\n",
       "      <th>id</th>\n",
       "      <th>dur</th>\n",
       "      <th>proto</th>\n",
       "      <th>service</th>\n",
       "      <th>state</th>\n",
       "      <th>spkts</th>\n",
       "      <th>dpkts</th>\n",
       "      <th>sbytes</th>\n",
       "      <th>dbytes</th>\n",
       "      <th>rate</th>\n",
       "      <th>...</th>\n",
       "      <th>ct_dst_sport_ltm</th>\n",
       "      <th>ct_dst_src_ltm</th>\n",
       "      <th>is_ftp_login</th>\n",
       "      <th>ct_ftp_cmd</th>\n",
       "      <th>ct_flw_http_mthd</th>\n",
       "      <th>ct_src_ltm</th>\n",
       "      <th>ct_srv_dst</th>\n",
       "      <th>is_sm_ips_ports</th>\n",
       "      <th>attack_cat</th>\n",
       "      <th>label</th>\n",
       "    </tr>\n",
       "  </thead>\n",
       "  <tbody>\n",
       "    <tr>\n",
       "      <th>0</th>\n",
       "      <td>1</td>\n",
       "      <td>0.000011</td>\n",
       "      <td>udp</td>\n",
       "      <td>-</td>\n",
       "      <td>INT</td>\n",
       "      <td>2</td>\n",
       "      <td>0</td>\n",
       "      <td>496</td>\n",
       "      <td>0</td>\n",
       "      <td>90909.0902</td>\n",
       "      <td>...</td>\n",
       "      <td>1</td>\n",
       "      <td>2</td>\n",
       "      <td>0</td>\n",
       "      <td>0</td>\n",
       "      <td>0</td>\n",
       "      <td>1</td>\n",
       "      <td>2</td>\n",
       "      <td>0</td>\n",
       "      <td>Normal</td>\n",
       "      <td>0</td>\n",
       "    </tr>\n",
       "    <tr>\n",
       "      <th>1</th>\n",
       "      <td>2</td>\n",
       "      <td>0.000008</td>\n",
       "      <td>udp</td>\n",
       "      <td>-</td>\n",
       "      <td>INT</td>\n",
       "      <td>2</td>\n",
       "      <td>0</td>\n",
       "      <td>1762</td>\n",
       "      <td>0</td>\n",
       "      <td>125000.0003</td>\n",
       "      <td>...</td>\n",
       "      <td>1</td>\n",
       "      <td>2</td>\n",
       "      <td>0</td>\n",
       "      <td>0</td>\n",
       "      <td>0</td>\n",
       "      <td>1</td>\n",
       "      <td>2</td>\n",
       "      <td>0</td>\n",
       "      <td>Normal</td>\n",
       "      <td>0</td>\n",
       "    </tr>\n",
       "    <tr>\n",
       "      <th>2</th>\n",
       "      <td>3</td>\n",
       "      <td>0.000005</td>\n",
       "      <td>udp</td>\n",
       "      <td>-</td>\n",
       "      <td>INT</td>\n",
       "      <td>2</td>\n",
       "      <td>0</td>\n",
       "      <td>1068</td>\n",
       "      <td>0</td>\n",
       "      <td>200000.0051</td>\n",
       "      <td>...</td>\n",
       "      <td>1</td>\n",
       "      <td>3</td>\n",
       "      <td>0</td>\n",
       "      <td>0</td>\n",
       "      <td>0</td>\n",
       "      <td>1</td>\n",
       "      <td>3</td>\n",
       "      <td>0</td>\n",
       "      <td>Normal</td>\n",
       "      <td>0</td>\n",
       "    </tr>\n",
       "    <tr>\n",
       "      <th>3</th>\n",
       "      <td>4</td>\n",
       "      <td>0.000006</td>\n",
       "      <td>udp</td>\n",
       "      <td>-</td>\n",
       "      <td>INT</td>\n",
       "      <td>2</td>\n",
       "      <td>0</td>\n",
       "      <td>900</td>\n",
       "      <td>0</td>\n",
       "      <td>166666.6608</td>\n",
       "      <td>...</td>\n",
       "      <td>1</td>\n",
       "      <td>3</td>\n",
       "      <td>0</td>\n",
       "      <td>0</td>\n",
       "      <td>0</td>\n",
       "      <td>2</td>\n",
       "      <td>3</td>\n",
       "      <td>0</td>\n",
       "      <td>Normal</td>\n",
       "      <td>0</td>\n",
       "    </tr>\n",
       "    <tr>\n",
       "      <th>4</th>\n",
       "      <td>5</td>\n",
       "      <td>0.000010</td>\n",
       "      <td>udp</td>\n",
       "      <td>-</td>\n",
       "      <td>INT</td>\n",
       "      <td>2</td>\n",
       "      <td>0</td>\n",
       "      <td>2126</td>\n",
       "      <td>0</td>\n",
       "      <td>100000.0025</td>\n",
       "      <td>...</td>\n",
       "      <td>1</td>\n",
       "      <td>3</td>\n",
       "      <td>0</td>\n",
       "      <td>0</td>\n",
       "      <td>0</td>\n",
       "      <td>2</td>\n",
       "      <td>3</td>\n",
       "      <td>0</td>\n",
       "      <td>Normal</td>\n",
       "      <td>0</td>\n",
       "    </tr>\n",
       "  </tbody>\n",
       "</table>\n",
       "<p>5 rows × 45 columns</p>\n",
       "</div>"
      ],
      "text/plain": [
       "   id       dur proto service state  spkts  dpkts  sbytes  dbytes   \n",
       "0   1  0.000011   udp       -   INT      2      0     496       0  \\\n",
       "1   2  0.000008   udp       -   INT      2      0    1762       0   \n",
       "2   3  0.000005   udp       -   INT      2      0    1068       0   \n",
       "3   4  0.000006   udp       -   INT      2      0     900       0   \n",
       "4   5  0.000010   udp       -   INT      2      0    2126       0   \n",
       "\n",
       "          rate  ...  ct_dst_sport_ltm  ct_dst_src_ltm  is_ftp_login   \n",
       "0   90909.0902  ...                 1               2             0  \\\n",
       "1  125000.0003  ...                 1               2             0   \n",
       "2  200000.0051  ...                 1               3             0   \n",
       "3  166666.6608  ...                 1               3             0   \n",
       "4  100000.0025  ...                 1               3             0   \n",
       "\n",
       "   ct_ftp_cmd  ct_flw_http_mthd  ct_src_ltm  ct_srv_dst  is_sm_ips_ports   \n",
       "0           0                 0           1           2                0  \\\n",
       "1           0                 0           1           2                0   \n",
       "2           0                 0           1           3                0   \n",
       "3           0                 0           2           3                0   \n",
       "4           0                 0           2           3                0   \n",
       "\n",
       "   attack_cat  label  \n",
       "0      Normal      0  \n",
       "1      Normal      0  \n",
       "2      Normal      0  \n",
       "3      Normal      0  \n",
       "4      Normal      0  \n",
       "\n",
       "[5 rows x 45 columns]"
      ]
     },
     "execution_count": 10,
     "metadata": {},
     "output_type": "execute_result"
    }
   ],
   "source": [
    "df.head()"
   ]
  },
  {
   "cell_type": "code",
   "execution_count": 11,
   "id": "d4cf5ed2",
   "metadata": {
    "execution": {
     "iopub.execute_input": "2023-09-07T03:12:28.846364Z",
     "iopub.status.busy": "2023-09-07T03:12:28.845586Z",
     "iopub.status.idle": "2023-09-07T03:12:29.118077Z",
     "shell.execute_reply": "2023-09-07T03:12:29.116877Z"
    },
    "papermill": {
     "duration": 0.329139,
     "end_time": "2023-09-07T03:12:29.122963",
     "exception": false,
     "start_time": "2023-09-07T03:12:28.793824",
     "status": "completed"
    },
    "tags": []
   },
   "outputs": [
    {
     "name": "stdout",
     "output_type": "stream",
     "text": [
      "<class 'pandas.core.frame.DataFrame'>\n",
      "RangeIndex: 82332 entries, 0 to 82331\n",
      "Data columns (total 45 columns):\n",
      " #   Column             Non-Null Count  Dtype  \n",
      "---  ------             --------------  -----  \n",
      " 0   id                 82332 non-null  int64  \n",
      " 1   dur                82332 non-null  float64\n",
      " 2   proto              82332 non-null  object \n",
      " 3   service            82332 non-null  object \n",
      " 4   state              82332 non-null  object \n",
      " 5   spkts              82332 non-null  int64  \n",
      " 6   dpkts              82332 non-null  int64  \n",
      " 7   sbytes             82332 non-null  int64  \n",
      " 8   dbytes             82332 non-null  int64  \n",
      " 9   rate               82332 non-null  float64\n",
      " 10  sttl               82332 non-null  int64  \n",
      " 11  dttl               82332 non-null  int64  \n",
      " 12  sload              82332 non-null  float64\n",
      " 13  dload              82332 non-null  float64\n",
      " 14  sloss              82332 non-null  int64  \n",
      " 15  dloss              82332 non-null  int64  \n",
      " 16  sinpkt             82332 non-null  float64\n",
      " 17  dinpkt             82332 non-null  float64\n",
      " 18  sjit               82332 non-null  float64\n",
      " 19  djit               82332 non-null  float64\n",
      " 20  swin               82332 non-null  int64  \n",
      " 21  stcpb              82332 non-null  int64  \n",
      " 22  dtcpb              82332 non-null  int64  \n",
      " 23  dwin               82332 non-null  int64  \n",
      " 24  tcprtt             82332 non-null  float64\n",
      " 25  synack             82332 non-null  float64\n",
      " 26  ackdat             82332 non-null  float64\n",
      " 27  smean              82332 non-null  int64  \n",
      " 28  dmean              82332 non-null  int64  \n",
      " 29  trans_depth        82332 non-null  int64  \n",
      " 30  response_body_len  82332 non-null  int64  \n",
      " 31  ct_srv_src         82332 non-null  int64  \n",
      " 32  ct_state_ttl       82332 non-null  int64  \n",
      " 33  ct_dst_ltm         82332 non-null  int64  \n",
      " 34  ct_src_dport_ltm   82332 non-null  int64  \n",
      " 35  ct_dst_sport_ltm   82332 non-null  int64  \n",
      " 36  ct_dst_src_ltm     82332 non-null  int64  \n",
      " 37  is_ftp_login       82332 non-null  int64  \n",
      " 38  ct_ftp_cmd         82332 non-null  int64  \n",
      " 39  ct_flw_http_mthd   82332 non-null  int64  \n",
      " 40  ct_src_ltm         82332 non-null  int64  \n",
      " 41  ct_srv_dst         82332 non-null  int64  \n",
      " 42  is_sm_ips_ports    82332 non-null  int64  \n",
      " 43  attack_cat         82332 non-null  object \n",
      " 44  label              82332 non-null  int64  \n",
      "dtypes: float64(11), int64(30), object(4)\n",
      "memory usage: 28.3+ MB\n"
     ]
    }
   ],
   "source": [
    "df.info()"
   ]
  },
  {
   "cell_type": "code",
   "execution_count": 12,
   "id": "b56015fb",
   "metadata": {
    "execution": {
     "iopub.execute_input": "2023-09-07T03:12:29.224529Z",
     "iopub.status.busy": "2023-09-07T03:12:29.224116Z",
     "iopub.status.idle": "2023-09-07T03:12:29.280391Z",
     "shell.execute_reply": "2023-09-07T03:12:29.279028Z"
    },
    "papermill": {
     "duration": 0.110268,
     "end_time": "2023-09-07T03:12:29.283265",
     "exception": false,
     "start_time": "2023-09-07T03:12:29.172997",
     "status": "completed"
    },
    "tags": []
   },
   "outputs": [
    {
     "data": {
      "text/html": [
       "<div>\n",
       "<style scoped>\n",
       "    .dataframe tbody tr th:only-of-type {\n",
       "        vertical-align: middle;\n",
       "    }\n",
       "\n",
       "    .dataframe tbody tr th {\n",
       "        vertical-align: top;\n",
       "    }\n",
       "\n",
       "    .dataframe thead th {\n",
       "        text-align: right;\n",
       "    }\n",
       "</style>\n",
       "<table border=\"1\" class=\"dataframe\">\n",
       "  <thead>\n",
       "    <tr style=\"text-align: right;\">\n",
       "      <th></th>\n",
       "      <th>id</th>\n",
       "      <th>dur</th>\n",
       "      <th>proto</th>\n",
       "      <th>service</th>\n",
       "      <th>state</th>\n",
       "      <th>spkts</th>\n",
       "      <th>dpkts</th>\n",
       "      <th>sbytes</th>\n",
       "      <th>dbytes</th>\n",
       "      <th>rate</th>\n",
       "      <th>...</th>\n",
       "      <th>ct_dst_sport_ltm</th>\n",
       "      <th>ct_dst_src_ltm</th>\n",
       "      <th>is_ftp_login</th>\n",
       "      <th>ct_ftp_cmd</th>\n",
       "      <th>ct_flw_http_mthd</th>\n",
       "      <th>ct_src_ltm</th>\n",
       "      <th>ct_srv_dst</th>\n",
       "      <th>is_sm_ips_ports</th>\n",
       "      <th>attack_cat</th>\n",
       "      <th>label</th>\n",
       "    </tr>\n",
       "  </thead>\n",
       "  <tbody>\n",
       "    <tr>\n",
       "      <th>0</th>\n",
       "      <td>1</td>\n",
       "      <td>0.000011</td>\n",
       "      <td>udp</td>\n",
       "      <td>-</td>\n",
       "      <td>INT</td>\n",
       "      <td>2</td>\n",
       "      <td>0</td>\n",
       "      <td>496</td>\n",
       "      <td>0</td>\n",
       "      <td>90909.09020</td>\n",
       "      <td>...</td>\n",
       "      <td>1</td>\n",
       "      <td>2</td>\n",
       "      <td>0</td>\n",
       "      <td>0</td>\n",
       "      <td>0</td>\n",
       "      <td>1</td>\n",
       "      <td>2</td>\n",
       "      <td>0</td>\n",
       "      <td>Normal</td>\n",
       "      <td>0</td>\n",
       "    </tr>\n",
       "    <tr>\n",
       "      <th>1</th>\n",
       "      <td>2</td>\n",
       "      <td>0.000008</td>\n",
       "      <td>udp</td>\n",
       "      <td>-</td>\n",
       "      <td>INT</td>\n",
       "      <td>2</td>\n",
       "      <td>0</td>\n",
       "      <td>1762</td>\n",
       "      <td>0</td>\n",
       "      <td>125000.00030</td>\n",
       "      <td>...</td>\n",
       "      <td>1</td>\n",
       "      <td>2</td>\n",
       "      <td>0</td>\n",
       "      <td>0</td>\n",
       "      <td>0</td>\n",
       "      <td>1</td>\n",
       "      <td>2</td>\n",
       "      <td>0</td>\n",
       "      <td>Normal</td>\n",
       "      <td>0</td>\n",
       "    </tr>\n",
       "    <tr>\n",
       "      <th>2</th>\n",
       "      <td>3</td>\n",
       "      <td>0.000005</td>\n",
       "      <td>udp</td>\n",
       "      <td>-</td>\n",
       "      <td>INT</td>\n",
       "      <td>2</td>\n",
       "      <td>0</td>\n",
       "      <td>1068</td>\n",
       "      <td>0</td>\n",
       "      <td>200000.00510</td>\n",
       "      <td>...</td>\n",
       "      <td>1</td>\n",
       "      <td>3</td>\n",
       "      <td>0</td>\n",
       "      <td>0</td>\n",
       "      <td>0</td>\n",
       "      <td>1</td>\n",
       "      <td>3</td>\n",
       "      <td>0</td>\n",
       "      <td>Normal</td>\n",
       "      <td>0</td>\n",
       "    </tr>\n",
       "    <tr>\n",
       "      <th>3</th>\n",
       "      <td>4</td>\n",
       "      <td>0.000006</td>\n",
       "      <td>udp</td>\n",
       "      <td>-</td>\n",
       "      <td>INT</td>\n",
       "      <td>2</td>\n",
       "      <td>0</td>\n",
       "      <td>900</td>\n",
       "      <td>0</td>\n",
       "      <td>166666.66080</td>\n",
       "      <td>...</td>\n",
       "      <td>1</td>\n",
       "      <td>3</td>\n",
       "      <td>0</td>\n",
       "      <td>0</td>\n",
       "      <td>0</td>\n",
       "      <td>2</td>\n",
       "      <td>3</td>\n",
       "      <td>0</td>\n",
       "      <td>Normal</td>\n",
       "      <td>0</td>\n",
       "    </tr>\n",
       "    <tr>\n",
       "      <th>4</th>\n",
       "      <td>5</td>\n",
       "      <td>0.000010</td>\n",
       "      <td>udp</td>\n",
       "      <td>-</td>\n",
       "      <td>INT</td>\n",
       "      <td>2</td>\n",
       "      <td>0</td>\n",
       "      <td>2126</td>\n",
       "      <td>0</td>\n",
       "      <td>100000.00250</td>\n",
       "      <td>...</td>\n",
       "      <td>1</td>\n",
       "      <td>3</td>\n",
       "      <td>0</td>\n",
       "      <td>0</td>\n",
       "      <td>0</td>\n",
       "      <td>2</td>\n",
       "      <td>3</td>\n",
       "      <td>0</td>\n",
       "      <td>Normal</td>\n",
       "      <td>0</td>\n",
       "    </tr>\n",
       "    <tr>\n",
       "      <th>5</th>\n",
       "      <td>6</td>\n",
       "      <td>0.000003</td>\n",
       "      <td>udp</td>\n",
       "      <td>-</td>\n",
       "      <td>INT</td>\n",
       "      <td>2</td>\n",
       "      <td>0</td>\n",
       "      <td>784</td>\n",
       "      <td>0</td>\n",
       "      <td>333333.32150</td>\n",
       "      <td>...</td>\n",
       "      <td>1</td>\n",
       "      <td>2</td>\n",
       "      <td>0</td>\n",
       "      <td>0</td>\n",
       "      <td>0</td>\n",
       "      <td>2</td>\n",
       "      <td>2</td>\n",
       "      <td>0</td>\n",
       "      <td>Normal</td>\n",
       "      <td>0</td>\n",
       "    </tr>\n",
       "    <tr>\n",
       "      <th>6</th>\n",
       "      <td>7</td>\n",
       "      <td>0.000006</td>\n",
       "      <td>udp</td>\n",
       "      <td>-</td>\n",
       "      <td>INT</td>\n",
       "      <td>2</td>\n",
       "      <td>0</td>\n",
       "      <td>1960</td>\n",
       "      <td>0</td>\n",
       "      <td>166666.66080</td>\n",
       "      <td>...</td>\n",
       "      <td>1</td>\n",
       "      <td>2</td>\n",
       "      <td>0</td>\n",
       "      <td>0</td>\n",
       "      <td>0</td>\n",
       "      <td>2</td>\n",
       "      <td>2</td>\n",
       "      <td>0</td>\n",
       "      <td>Normal</td>\n",
       "      <td>0</td>\n",
       "    </tr>\n",
       "    <tr>\n",
       "      <th>7</th>\n",
       "      <td>8</td>\n",
       "      <td>0.000028</td>\n",
       "      <td>udp</td>\n",
       "      <td>-</td>\n",
       "      <td>INT</td>\n",
       "      <td>2</td>\n",
       "      <td>0</td>\n",
       "      <td>1384</td>\n",
       "      <td>0</td>\n",
       "      <td>35714.28522</td>\n",
       "      <td>...</td>\n",
       "      <td>1</td>\n",
       "      <td>3</td>\n",
       "      <td>0</td>\n",
       "      <td>0</td>\n",
       "      <td>0</td>\n",
       "      <td>1</td>\n",
       "      <td>3</td>\n",
       "      <td>0</td>\n",
       "      <td>Normal</td>\n",
       "      <td>0</td>\n",
       "    </tr>\n",
       "    <tr>\n",
       "      <th>8</th>\n",
       "      <td>9</td>\n",
       "      <td>0.000000</td>\n",
       "      <td>arp</td>\n",
       "      <td>-</td>\n",
       "      <td>INT</td>\n",
       "      <td>1</td>\n",
       "      <td>0</td>\n",
       "      <td>46</td>\n",
       "      <td>0</td>\n",
       "      <td>0.00000</td>\n",
       "      <td>...</td>\n",
       "      <td>2</td>\n",
       "      <td>2</td>\n",
       "      <td>0</td>\n",
       "      <td>0</td>\n",
       "      <td>0</td>\n",
       "      <td>2</td>\n",
       "      <td>2</td>\n",
       "      <td>1</td>\n",
       "      <td>Normal</td>\n",
       "      <td>0</td>\n",
       "    </tr>\n",
       "    <tr>\n",
       "      <th>9</th>\n",
       "      <td>10</td>\n",
       "      <td>0.000000</td>\n",
       "      <td>arp</td>\n",
       "      <td>-</td>\n",
       "      <td>INT</td>\n",
       "      <td>1</td>\n",
       "      <td>0</td>\n",
       "      <td>46</td>\n",
       "      <td>0</td>\n",
       "      <td>0.00000</td>\n",
       "      <td>...</td>\n",
       "      <td>2</td>\n",
       "      <td>2</td>\n",
       "      <td>0</td>\n",
       "      <td>0</td>\n",
       "      <td>0</td>\n",
       "      <td>2</td>\n",
       "      <td>2</td>\n",
       "      <td>1</td>\n",
       "      <td>Normal</td>\n",
       "      <td>0</td>\n",
       "    </tr>\n",
       "  </tbody>\n",
       "</table>\n",
       "<p>10 rows × 45 columns</p>\n",
       "</div>"
      ],
      "text/plain": [
       "   id       dur proto service state  spkts  dpkts  sbytes  dbytes   \n",
       "0   1  0.000011   udp       -   INT      2      0     496       0  \\\n",
       "1   2  0.000008   udp       -   INT      2      0    1762       0   \n",
       "2   3  0.000005   udp       -   INT      2      0    1068       0   \n",
       "3   4  0.000006   udp       -   INT      2      0     900       0   \n",
       "4   5  0.000010   udp       -   INT      2      0    2126       0   \n",
       "5   6  0.000003   udp       -   INT      2      0     784       0   \n",
       "6   7  0.000006   udp       -   INT      2      0    1960       0   \n",
       "7   8  0.000028   udp       -   INT      2      0    1384       0   \n",
       "8   9  0.000000   arp       -   INT      1      0      46       0   \n",
       "9  10  0.000000   arp       -   INT      1      0      46       0   \n",
       "\n",
       "           rate  ...  ct_dst_sport_ltm  ct_dst_src_ltm  is_ftp_login   \n",
       "0   90909.09020  ...                 1               2             0  \\\n",
       "1  125000.00030  ...                 1               2             0   \n",
       "2  200000.00510  ...                 1               3             0   \n",
       "3  166666.66080  ...                 1               3             0   \n",
       "4  100000.00250  ...                 1               3             0   \n",
       "5  333333.32150  ...                 1               2             0   \n",
       "6  166666.66080  ...                 1               2             0   \n",
       "7   35714.28522  ...                 1               3             0   \n",
       "8       0.00000  ...                 2               2             0   \n",
       "9       0.00000  ...                 2               2             0   \n",
       "\n",
       "   ct_ftp_cmd  ct_flw_http_mthd  ct_src_ltm  ct_srv_dst  is_sm_ips_ports   \n",
       "0           0                 0           1           2                0  \\\n",
       "1           0                 0           1           2                0   \n",
       "2           0                 0           1           3                0   \n",
       "3           0                 0           2           3                0   \n",
       "4           0                 0           2           3                0   \n",
       "5           0                 0           2           2                0   \n",
       "6           0                 0           2           2                0   \n",
       "7           0                 0           1           3                0   \n",
       "8           0                 0           2           2                1   \n",
       "9           0                 0           2           2                1   \n",
       "\n",
       "   attack_cat  label  \n",
       "0      Normal      0  \n",
       "1      Normal      0  \n",
       "2      Normal      0  \n",
       "3      Normal      0  \n",
       "4      Normal      0  \n",
       "5      Normal      0  \n",
       "6      Normal      0  \n",
       "7      Normal      0  \n",
       "8      Normal      0  \n",
       "9      Normal      0  \n",
       "\n",
       "[10 rows x 45 columns]"
      ]
     },
     "execution_count": 12,
     "metadata": {},
     "output_type": "execute_result"
    }
   ],
   "source": [
    "df.head(10)"
   ]
  },
  {
   "cell_type": "code",
   "execution_count": 13,
   "id": "8ea244be",
   "metadata": {
    "execution": {
     "iopub.execute_input": "2023-09-07T03:12:29.394409Z",
     "iopub.status.busy": "2023-09-07T03:12:29.394037Z",
     "iopub.status.idle": "2023-09-07T03:12:29.770897Z",
     "shell.execute_reply": "2023-09-07T03:12:29.769888Z"
    },
    "papermill": {
     "duration": 0.434191,
     "end_time": "2023-09-07T03:12:29.774250",
     "exception": false,
     "start_time": "2023-09-07T03:12:29.340059",
     "status": "completed"
    },
    "tags": []
   },
   "outputs": [
    {
     "data": {
      "text/html": [
       "<div>\n",
       "<style scoped>\n",
       "    .dataframe tbody tr th:only-of-type {\n",
       "        vertical-align: middle;\n",
       "    }\n",
       "\n",
       "    .dataframe tbody tr th {\n",
       "        vertical-align: top;\n",
       "    }\n",
       "\n",
       "    .dataframe thead th {\n",
       "        text-align: right;\n",
       "    }\n",
       "</style>\n",
       "<table border=\"1\" class=\"dataframe\">\n",
       "  <thead>\n",
       "    <tr style=\"text-align: right;\">\n",
       "      <th></th>\n",
       "      <th>id</th>\n",
       "      <th>dur</th>\n",
       "      <th>proto</th>\n",
       "      <th>service</th>\n",
       "      <th>state</th>\n",
       "      <th>spkts</th>\n",
       "      <th>dpkts</th>\n",
       "      <th>sbytes</th>\n",
       "      <th>dbytes</th>\n",
       "      <th>rate</th>\n",
       "      <th>...</th>\n",
       "      <th>ct_dst_sport_ltm</th>\n",
       "      <th>ct_dst_src_ltm</th>\n",
       "      <th>is_ftp_login</th>\n",
       "      <th>ct_ftp_cmd</th>\n",
       "      <th>ct_flw_http_mthd</th>\n",
       "      <th>ct_src_ltm</th>\n",
       "      <th>ct_srv_dst</th>\n",
       "      <th>is_sm_ips_ports</th>\n",
       "      <th>attack_cat</th>\n",
       "      <th>label</th>\n",
       "    </tr>\n",
       "  </thead>\n",
       "  <tbody>\n",
       "    <tr>\n",
       "      <th>count</th>\n",
       "      <td>82332.000000</td>\n",
       "      <td>82332.000000</td>\n",
       "      <td>82332</td>\n",
       "      <td>82332</td>\n",
       "      <td>82332</td>\n",
       "      <td>82332.000000</td>\n",
       "      <td>82332.000000</td>\n",
       "      <td>8.233200e+04</td>\n",
       "      <td>8.233200e+04</td>\n",
       "      <td>8.233200e+04</td>\n",
       "      <td>...</td>\n",
       "      <td>82332.000000</td>\n",
       "      <td>82332.000000</td>\n",
       "      <td>82332.000000</td>\n",
       "      <td>82332.000000</td>\n",
       "      <td>82332.000000</td>\n",
       "      <td>82332.000000</td>\n",
       "      <td>82332.000000</td>\n",
       "      <td>82332.000000</td>\n",
       "      <td>82332</td>\n",
       "      <td>82332.000000</td>\n",
       "    </tr>\n",
       "    <tr>\n",
       "      <th>unique</th>\n",
       "      <td>NaN</td>\n",
       "      <td>NaN</td>\n",
       "      <td>131</td>\n",
       "      <td>13</td>\n",
       "      <td>7</td>\n",
       "      <td>NaN</td>\n",
       "      <td>NaN</td>\n",
       "      <td>NaN</td>\n",
       "      <td>NaN</td>\n",
       "      <td>NaN</td>\n",
       "      <td>...</td>\n",
       "      <td>NaN</td>\n",
       "      <td>NaN</td>\n",
       "      <td>NaN</td>\n",
       "      <td>NaN</td>\n",
       "      <td>NaN</td>\n",
       "      <td>NaN</td>\n",
       "      <td>NaN</td>\n",
       "      <td>NaN</td>\n",
       "      <td>10</td>\n",
       "      <td>NaN</td>\n",
       "    </tr>\n",
       "    <tr>\n",
       "      <th>top</th>\n",
       "      <td>NaN</td>\n",
       "      <td>NaN</td>\n",
       "      <td>tcp</td>\n",
       "      <td>-</td>\n",
       "      <td>FIN</td>\n",
       "      <td>NaN</td>\n",
       "      <td>NaN</td>\n",
       "      <td>NaN</td>\n",
       "      <td>NaN</td>\n",
       "      <td>NaN</td>\n",
       "      <td>...</td>\n",
       "      <td>NaN</td>\n",
       "      <td>NaN</td>\n",
       "      <td>NaN</td>\n",
       "      <td>NaN</td>\n",
       "      <td>NaN</td>\n",
       "      <td>NaN</td>\n",
       "      <td>NaN</td>\n",
       "      <td>NaN</td>\n",
       "      <td>Normal</td>\n",
       "      <td>NaN</td>\n",
       "    </tr>\n",
       "    <tr>\n",
       "      <th>freq</th>\n",
       "      <td>NaN</td>\n",
       "      <td>NaN</td>\n",
       "      <td>43095</td>\n",
       "      <td>47153</td>\n",
       "      <td>39339</td>\n",
       "      <td>NaN</td>\n",
       "      <td>NaN</td>\n",
       "      <td>NaN</td>\n",
       "      <td>NaN</td>\n",
       "      <td>NaN</td>\n",
       "      <td>...</td>\n",
       "      <td>NaN</td>\n",
       "      <td>NaN</td>\n",
       "      <td>NaN</td>\n",
       "      <td>NaN</td>\n",
       "      <td>NaN</td>\n",
       "      <td>NaN</td>\n",
       "      <td>NaN</td>\n",
       "      <td>NaN</td>\n",
       "      <td>37000</td>\n",
       "      <td>NaN</td>\n",
       "    </tr>\n",
       "    <tr>\n",
       "      <th>mean</th>\n",
       "      <td>41166.500000</td>\n",
       "      <td>1.006756</td>\n",
       "      <td>NaN</td>\n",
       "      <td>NaN</td>\n",
       "      <td>NaN</td>\n",
       "      <td>18.666472</td>\n",
       "      <td>17.545936</td>\n",
       "      <td>7.993908e+03</td>\n",
       "      <td>1.323379e+04</td>\n",
       "      <td>8.241089e+04</td>\n",
       "      <td>...</td>\n",
       "      <td>3.663011</td>\n",
       "      <td>7.456360</td>\n",
       "      <td>0.008284</td>\n",
       "      <td>0.008381</td>\n",
       "      <td>0.129743</td>\n",
       "      <td>6.468360</td>\n",
       "      <td>9.164262</td>\n",
       "      <td>0.011126</td>\n",
       "      <td>NaN</td>\n",
       "      <td>0.550600</td>\n",
       "    </tr>\n",
       "    <tr>\n",
       "      <th>std</th>\n",
       "      <td>23767.345519</td>\n",
       "      <td>4.710444</td>\n",
       "      <td>NaN</td>\n",
       "      <td>NaN</td>\n",
       "      <td>NaN</td>\n",
       "      <td>133.916353</td>\n",
       "      <td>115.574086</td>\n",
       "      <td>1.716423e+05</td>\n",
       "      <td>1.514715e+05</td>\n",
       "      <td>1.486204e+05</td>\n",
       "      <td>...</td>\n",
       "      <td>5.915386</td>\n",
       "      <td>11.415191</td>\n",
       "      <td>0.091171</td>\n",
       "      <td>0.092485</td>\n",
       "      <td>0.638683</td>\n",
       "      <td>8.543927</td>\n",
       "      <td>11.121413</td>\n",
       "      <td>0.104891</td>\n",
       "      <td>NaN</td>\n",
       "      <td>0.497436</td>\n",
       "    </tr>\n",
       "    <tr>\n",
       "      <th>min</th>\n",
       "      <td>1.000000</td>\n",
       "      <td>0.000000</td>\n",
       "      <td>NaN</td>\n",
       "      <td>NaN</td>\n",
       "      <td>NaN</td>\n",
       "      <td>1.000000</td>\n",
       "      <td>0.000000</td>\n",
       "      <td>2.400000e+01</td>\n",
       "      <td>0.000000e+00</td>\n",
       "      <td>0.000000e+00</td>\n",
       "      <td>...</td>\n",
       "      <td>1.000000</td>\n",
       "      <td>1.000000</td>\n",
       "      <td>0.000000</td>\n",
       "      <td>0.000000</td>\n",
       "      <td>0.000000</td>\n",
       "      <td>1.000000</td>\n",
       "      <td>1.000000</td>\n",
       "      <td>0.000000</td>\n",
       "      <td>NaN</td>\n",
       "      <td>0.000000</td>\n",
       "    </tr>\n",
       "    <tr>\n",
       "      <th>25%</th>\n",
       "      <td>20583.750000</td>\n",
       "      <td>0.000008</td>\n",
       "      <td>NaN</td>\n",
       "      <td>NaN</td>\n",
       "      <td>NaN</td>\n",
       "      <td>2.000000</td>\n",
       "      <td>0.000000</td>\n",
       "      <td>1.140000e+02</td>\n",
       "      <td>0.000000e+00</td>\n",
       "      <td>2.860611e+01</td>\n",
       "      <td>...</td>\n",
       "      <td>1.000000</td>\n",
       "      <td>1.000000</td>\n",
       "      <td>0.000000</td>\n",
       "      <td>0.000000</td>\n",
       "      <td>0.000000</td>\n",
       "      <td>1.000000</td>\n",
       "      <td>2.000000</td>\n",
       "      <td>0.000000</td>\n",
       "      <td>NaN</td>\n",
       "      <td>0.000000</td>\n",
       "    </tr>\n",
       "    <tr>\n",
       "      <th>50%</th>\n",
       "      <td>41166.500000</td>\n",
       "      <td>0.014138</td>\n",
       "      <td>NaN</td>\n",
       "      <td>NaN</td>\n",
       "      <td>NaN</td>\n",
       "      <td>6.000000</td>\n",
       "      <td>2.000000</td>\n",
       "      <td>5.340000e+02</td>\n",
       "      <td>1.780000e+02</td>\n",
       "      <td>2.650177e+03</td>\n",
       "      <td>...</td>\n",
       "      <td>1.000000</td>\n",
       "      <td>3.000000</td>\n",
       "      <td>0.000000</td>\n",
       "      <td>0.000000</td>\n",
       "      <td>0.000000</td>\n",
       "      <td>3.000000</td>\n",
       "      <td>5.000000</td>\n",
       "      <td>0.000000</td>\n",
       "      <td>NaN</td>\n",
       "      <td>1.000000</td>\n",
       "    </tr>\n",
       "    <tr>\n",
       "      <th>75%</th>\n",
       "      <td>61749.250000</td>\n",
       "      <td>0.719360</td>\n",
       "      <td>NaN</td>\n",
       "      <td>NaN</td>\n",
       "      <td>NaN</td>\n",
       "      <td>12.000000</td>\n",
       "      <td>10.000000</td>\n",
       "      <td>1.280000e+03</td>\n",
       "      <td>9.560000e+02</td>\n",
       "      <td>1.111111e+05</td>\n",
       "      <td>...</td>\n",
       "      <td>3.000000</td>\n",
       "      <td>6.000000</td>\n",
       "      <td>0.000000</td>\n",
       "      <td>0.000000</td>\n",
       "      <td>0.000000</td>\n",
       "      <td>7.000000</td>\n",
       "      <td>11.000000</td>\n",
       "      <td>0.000000</td>\n",
       "      <td>NaN</td>\n",
       "      <td>1.000000</td>\n",
       "    </tr>\n",
       "    <tr>\n",
       "      <th>max</th>\n",
       "      <td>82332.000000</td>\n",
       "      <td>59.999989</td>\n",
       "      <td>NaN</td>\n",
       "      <td>NaN</td>\n",
       "      <td>NaN</td>\n",
       "      <td>10646.000000</td>\n",
       "      <td>11018.000000</td>\n",
       "      <td>1.435577e+07</td>\n",
       "      <td>1.465753e+07</td>\n",
       "      <td>1.000000e+06</td>\n",
       "      <td>...</td>\n",
       "      <td>38.000000</td>\n",
       "      <td>63.000000</td>\n",
       "      <td>2.000000</td>\n",
       "      <td>2.000000</td>\n",
       "      <td>16.000000</td>\n",
       "      <td>60.000000</td>\n",
       "      <td>62.000000</td>\n",
       "      <td>1.000000</td>\n",
       "      <td>NaN</td>\n",
       "      <td>1.000000</td>\n",
       "    </tr>\n",
       "  </tbody>\n",
       "</table>\n",
       "<p>11 rows × 45 columns</p>\n",
       "</div>"
      ],
      "text/plain": [
       "                  id           dur  proto service  state         spkts   \n",
       "count   82332.000000  82332.000000  82332   82332  82332  82332.000000  \\\n",
       "unique           NaN           NaN    131      13      7           NaN   \n",
       "top              NaN           NaN    tcp       -    FIN           NaN   \n",
       "freq             NaN           NaN  43095   47153  39339           NaN   \n",
       "mean    41166.500000      1.006756    NaN     NaN    NaN     18.666472   \n",
       "std     23767.345519      4.710444    NaN     NaN    NaN    133.916353   \n",
       "min         1.000000      0.000000    NaN     NaN    NaN      1.000000   \n",
       "25%     20583.750000      0.000008    NaN     NaN    NaN      2.000000   \n",
       "50%     41166.500000      0.014138    NaN     NaN    NaN      6.000000   \n",
       "75%     61749.250000      0.719360    NaN     NaN    NaN     12.000000   \n",
       "max     82332.000000     59.999989    NaN     NaN    NaN  10646.000000   \n",
       "\n",
       "               dpkts        sbytes        dbytes          rate  ...   \n",
       "count   82332.000000  8.233200e+04  8.233200e+04  8.233200e+04  ...  \\\n",
       "unique           NaN           NaN           NaN           NaN  ...   \n",
       "top              NaN           NaN           NaN           NaN  ...   \n",
       "freq             NaN           NaN           NaN           NaN  ...   \n",
       "mean       17.545936  7.993908e+03  1.323379e+04  8.241089e+04  ...   \n",
       "std       115.574086  1.716423e+05  1.514715e+05  1.486204e+05  ...   \n",
       "min         0.000000  2.400000e+01  0.000000e+00  0.000000e+00  ...   \n",
       "25%         0.000000  1.140000e+02  0.000000e+00  2.860611e+01  ...   \n",
       "50%         2.000000  5.340000e+02  1.780000e+02  2.650177e+03  ...   \n",
       "75%        10.000000  1.280000e+03  9.560000e+02  1.111111e+05  ...   \n",
       "max     11018.000000  1.435577e+07  1.465753e+07  1.000000e+06  ...   \n",
       "\n",
       "        ct_dst_sport_ltm  ct_dst_src_ltm  is_ftp_login    ct_ftp_cmd   \n",
       "count       82332.000000    82332.000000  82332.000000  82332.000000  \\\n",
       "unique               NaN             NaN           NaN           NaN   \n",
       "top                  NaN             NaN           NaN           NaN   \n",
       "freq                 NaN             NaN           NaN           NaN   \n",
       "mean            3.663011        7.456360      0.008284      0.008381   \n",
       "std             5.915386       11.415191      0.091171      0.092485   \n",
       "min             1.000000        1.000000      0.000000      0.000000   \n",
       "25%             1.000000        1.000000      0.000000      0.000000   \n",
       "50%             1.000000        3.000000      0.000000      0.000000   \n",
       "75%             3.000000        6.000000      0.000000      0.000000   \n",
       "max            38.000000       63.000000      2.000000      2.000000   \n",
       "\n",
       "        ct_flw_http_mthd    ct_src_ltm    ct_srv_dst  is_sm_ips_ports   \n",
       "count       82332.000000  82332.000000  82332.000000     82332.000000  \\\n",
       "unique               NaN           NaN           NaN              NaN   \n",
       "top                  NaN           NaN           NaN              NaN   \n",
       "freq                 NaN           NaN           NaN              NaN   \n",
       "mean            0.129743      6.468360      9.164262         0.011126   \n",
       "std             0.638683      8.543927     11.121413         0.104891   \n",
       "min             0.000000      1.000000      1.000000         0.000000   \n",
       "25%             0.000000      1.000000      2.000000         0.000000   \n",
       "50%             0.000000      3.000000      5.000000         0.000000   \n",
       "75%             0.000000      7.000000     11.000000         0.000000   \n",
       "max            16.000000     60.000000     62.000000         1.000000   \n",
       "\n",
       "        attack_cat         label  \n",
       "count        82332  82332.000000  \n",
       "unique          10           NaN  \n",
       "top         Normal           NaN  \n",
       "freq         37000           NaN  \n",
       "mean           NaN      0.550600  \n",
       "std            NaN      0.497436  \n",
       "min            NaN      0.000000  \n",
       "25%            NaN      0.000000  \n",
       "50%            NaN      1.000000  \n",
       "75%            NaN      1.000000  \n",
       "max            NaN      1.000000  \n",
       "\n",
       "[11 rows x 45 columns]"
      ]
     },
     "execution_count": 13,
     "metadata": {},
     "output_type": "execute_result"
    }
   ],
   "source": [
    "df.describe(include='all')"
   ]
  },
  {
   "cell_type": "code",
   "execution_count": 14,
   "id": "9ee8674f",
   "metadata": {
    "execution": {
     "iopub.execute_input": "2023-09-07T03:12:29.881990Z",
     "iopub.status.busy": "2023-09-07T03:12:29.881639Z",
     "iopub.status.idle": "2023-09-07T03:12:29.886201Z",
     "shell.execute_reply": "2023-09-07T03:12:29.885362Z"
    },
    "papermill": {
     "duration": 0.060421,
     "end_time": "2023-09-07T03:12:29.888466",
     "exception": false,
     "start_time": "2023-09-07T03:12:29.828045",
     "status": "completed"
    },
    "tags": []
   },
   "outputs": [],
   "source": [
    "list_drop = ['id', 'attack_cat']"
   ]
  },
  {
   "cell_type": "code",
   "execution_count": 15,
   "id": "b043d642",
   "metadata": {
    "execution": {
     "iopub.execute_input": "2023-09-07T03:12:29.994184Z",
     "iopub.status.busy": "2023-09-07T03:12:29.993850Z",
     "iopub.status.idle": "2023-09-07T03:12:30.011807Z",
     "shell.execute_reply": "2023-09-07T03:12:30.010763Z"
    },
    "papermill": {
     "duration": 0.074096,
     "end_time": "2023-09-07T03:12:30.014468",
     "exception": false,
     "start_time": "2023-09-07T03:12:29.940372",
     "status": "completed"
    },
    "tags": []
   },
   "outputs": [],
   "source": [
    "df.drop(list_drop,axis=1,inplace=True)"
   ]
  },
  {
   "cell_type": "code",
   "execution_count": 16,
   "id": "4d2d045a",
   "metadata": {
    "execution": {
     "iopub.execute_input": "2023-09-07T03:12:30.120006Z",
     "iopub.status.busy": "2023-09-07T03:12:30.119091Z",
     "iopub.status.idle": "2023-09-07T03:12:30.367886Z",
     "shell.execute_reply": "2023-09-07T03:12:30.366922Z"
    },
    "papermill": {
     "duration": 0.303984,
     "end_time": "2023-09-07T03:12:30.370473",
     "exception": false,
     "start_time": "2023-09-07T03:12:30.066489",
     "status": "completed"
    },
    "tags": []
   },
   "outputs": [
    {
     "data": {
      "text/html": [
       "<div>\n",
       "<style scoped>\n",
       "    .dataframe tbody tr th:only-of-type {\n",
       "        vertical-align: middle;\n",
       "    }\n",
       "\n",
       "    .dataframe tbody tr th {\n",
       "        vertical-align: top;\n",
       "    }\n",
       "\n",
       "    .dataframe thead th {\n",
       "        text-align: right;\n",
       "    }\n",
       "</style>\n",
       "<table border=\"1\" class=\"dataframe\">\n",
       "  <thead>\n",
       "    <tr style=\"text-align: right;\">\n",
       "      <th></th>\n",
       "      <th>dur</th>\n",
       "      <th>spkts</th>\n",
       "      <th>dpkts</th>\n",
       "      <th>sbytes</th>\n",
       "      <th>dbytes</th>\n",
       "      <th>rate</th>\n",
       "      <th>sttl</th>\n",
       "      <th>dttl</th>\n",
       "      <th>sload</th>\n",
       "      <th>dload</th>\n",
       "      <th>...</th>\n",
       "      <th>ct_src_dport_ltm</th>\n",
       "      <th>ct_dst_sport_ltm</th>\n",
       "      <th>ct_dst_src_ltm</th>\n",
       "      <th>is_ftp_login</th>\n",
       "      <th>ct_ftp_cmd</th>\n",
       "      <th>ct_flw_http_mthd</th>\n",
       "      <th>ct_src_ltm</th>\n",
       "      <th>ct_srv_dst</th>\n",
       "      <th>is_sm_ips_ports</th>\n",
       "      <th>label</th>\n",
       "    </tr>\n",
       "  </thead>\n",
       "  <tbody>\n",
       "    <tr>\n",
       "      <th>count</th>\n",
       "      <td>82332.000000</td>\n",
       "      <td>82332.000000</td>\n",
       "      <td>82332.000000</td>\n",
       "      <td>8.233200e+04</td>\n",
       "      <td>8.233200e+04</td>\n",
       "      <td>8.233200e+04</td>\n",
       "      <td>82332.000000</td>\n",
       "      <td>82332.000000</td>\n",
       "      <td>8.233200e+04</td>\n",
       "      <td>8.233200e+04</td>\n",
       "      <td>...</td>\n",
       "      <td>82332.000000</td>\n",
       "      <td>82332.000000</td>\n",
       "      <td>82332.000000</td>\n",
       "      <td>82332.000000</td>\n",
       "      <td>82332.000000</td>\n",
       "      <td>82332.000000</td>\n",
       "      <td>82332.000000</td>\n",
       "      <td>82332.000000</td>\n",
       "      <td>82332.000000</td>\n",
       "      <td>82332.000000</td>\n",
       "    </tr>\n",
       "    <tr>\n",
       "      <th>mean</th>\n",
       "      <td>1.006756</td>\n",
       "      <td>18.666472</td>\n",
       "      <td>17.545936</td>\n",
       "      <td>7.993908e+03</td>\n",
       "      <td>1.323379e+04</td>\n",
       "      <td>8.241089e+04</td>\n",
       "      <td>180.967667</td>\n",
       "      <td>95.713003</td>\n",
       "      <td>6.454902e+07</td>\n",
       "      <td>6.305470e+05</td>\n",
       "      <td>...</td>\n",
       "      <td>4.928898</td>\n",
       "      <td>3.663011</td>\n",
       "      <td>7.456360</td>\n",
       "      <td>0.008284</td>\n",
       "      <td>0.008381</td>\n",
       "      <td>0.129743</td>\n",
       "      <td>6.468360</td>\n",
       "      <td>9.164262</td>\n",
       "      <td>0.011126</td>\n",
       "      <td>0.550600</td>\n",
       "    </tr>\n",
       "    <tr>\n",
       "      <th>std</th>\n",
       "      <td>4.710444</td>\n",
       "      <td>133.916353</td>\n",
       "      <td>115.574086</td>\n",
       "      <td>1.716423e+05</td>\n",
       "      <td>1.514715e+05</td>\n",
       "      <td>1.486204e+05</td>\n",
       "      <td>101.513358</td>\n",
       "      <td>116.667722</td>\n",
       "      <td>1.798618e+08</td>\n",
       "      <td>2.393001e+06</td>\n",
       "      <td>...</td>\n",
       "      <td>8.389545</td>\n",
       "      <td>5.915386</td>\n",
       "      <td>11.415191</td>\n",
       "      <td>0.091171</td>\n",
       "      <td>0.092485</td>\n",
       "      <td>0.638683</td>\n",
       "      <td>8.543927</td>\n",
       "      <td>11.121413</td>\n",
       "      <td>0.104891</td>\n",
       "      <td>0.497436</td>\n",
       "    </tr>\n",
       "    <tr>\n",
       "      <th>min</th>\n",
       "      <td>0.000000</td>\n",
       "      <td>1.000000</td>\n",
       "      <td>0.000000</td>\n",
       "      <td>2.400000e+01</td>\n",
       "      <td>0.000000e+00</td>\n",
       "      <td>0.000000e+00</td>\n",
       "      <td>0.000000</td>\n",
       "      <td>0.000000</td>\n",
       "      <td>0.000000e+00</td>\n",
       "      <td>0.000000e+00</td>\n",
       "      <td>...</td>\n",
       "      <td>1.000000</td>\n",
       "      <td>1.000000</td>\n",
       "      <td>1.000000</td>\n",
       "      <td>0.000000</td>\n",
       "      <td>0.000000</td>\n",
       "      <td>0.000000</td>\n",
       "      <td>1.000000</td>\n",
       "      <td>1.000000</td>\n",
       "      <td>0.000000</td>\n",
       "      <td>0.000000</td>\n",
       "    </tr>\n",
       "    <tr>\n",
       "      <th>25%</th>\n",
       "      <td>0.000008</td>\n",
       "      <td>2.000000</td>\n",
       "      <td>0.000000</td>\n",
       "      <td>1.140000e+02</td>\n",
       "      <td>0.000000e+00</td>\n",
       "      <td>2.860611e+01</td>\n",
       "      <td>62.000000</td>\n",
       "      <td>0.000000</td>\n",
       "      <td>1.120247e+04</td>\n",
       "      <td>0.000000e+00</td>\n",
       "      <td>...</td>\n",
       "      <td>1.000000</td>\n",
       "      <td>1.000000</td>\n",
       "      <td>1.000000</td>\n",
       "      <td>0.000000</td>\n",
       "      <td>0.000000</td>\n",
       "      <td>0.000000</td>\n",
       "      <td>1.000000</td>\n",
       "      <td>2.000000</td>\n",
       "      <td>0.000000</td>\n",
       "      <td>0.000000</td>\n",
       "    </tr>\n",
       "    <tr>\n",
       "      <th>50%</th>\n",
       "      <td>0.014138</td>\n",
       "      <td>6.000000</td>\n",
       "      <td>2.000000</td>\n",
       "      <td>5.340000e+02</td>\n",
       "      <td>1.780000e+02</td>\n",
       "      <td>2.650177e+03</td>\n",
       "      <td>254.000000</td>\n",
       "      <td>29.000000</td>\n",
       "      <td>5.770032e+05</td>\n",
       "      <td>2.112951e+03</td>\n",
       "      <td>...</td>\n",
       "      <td>1.000000</td>\n",
       "      <td>1.000000</td>\n",
       "      <td>3.000000</td>\n",
       "      <td>0.000000</td>\n",
       "      <td>0.000000</td>\n",
       "      <td>0.000000</td>\n",
       "      <td>3.000000</td>\n",
       "      <td>5.000000</td>\n",
       "      <td>0.000000</td>\n",
       "      <td>1.000000</td>\n",
       "    </tr>\n",
       "    <tr>\n",
       "      <th>75%</th>\n",
       "      <td>0.719360</td>\n",
       "      <td>12.000000</td>\n",
       "      <td>10.000000</td>\n",
       "      <td>1.280000e+03</td>\n",
       "      <td>9.560000e+02</td>\n",
       "      <td>1.111111e+05</td>\n",
       "      <td>254.000000</td>\n",
       "      <td>252.000000</td>\n",
       "      <td>6.514286e+07</td>\n",
       "      <td>1.585808e+04</td>\n",
       "      <td>...</td>\n",
       "      <td>4.000000</td>\n",
       "      <td>3.000000</td>\n",
       "      <td>6.000000</td>\n",
       "      <td>0.000000</td>\n",
       "      <td>0.000000</td>\n",
       "      <td>0.000000</td>\n",
       "      <td>7.000000</td>\n",
       "      <td>11.000000</td>\n",
       "      <td>0.000000</td>\n",
       "      <td>1.000000</td>\n",
       "    </tr>\n",
       "    <tr>\n",
       "      <th>max</th>\n",
       "      <td>59.999989</td>\n",
       "      <td>10646.000000</td>\n",
       "      <td>11018.000000</td>\n",
       "      <td>1.435577e+07</td>\n",
       "      <td>1.465753e+07</td>\n",
       "      <td>1.000000e+06</td>\n",
       "      <td>255.000000</td>\n",
       "      <td>253.000000</td>\n",
       "      <td>5.268000e+09</td>\n",
       "      <td>2.082111e+07</td>\n",
       "      <td>...</td>\n",
       "      <td>59.000000</td>\n",
       "      <td>38.000000</td>\n",
       "      <td>63.000000</td>\n",
       "      <td>2.000000</td>\n",
       "      <td>2.000000</td>\n",
       "      <td>16.000000</td>\n",
       "      <td>60.000000</td>\n",
       "      <td>62.000000</td>\n",
       "      <td>1.000000</td>\n",
       "      <td>1.000000</td>\n",
       "    </tr>\n",
       "  </tbody>\n",
       "</table>\n",
       "<p>8 rows × 40 columns</p>\n",
       "</div>"
      ],
      "text/plain": [
       "                dur         spkts         dpkts        sbytes        dbytes   \n",
       "count  82332.000000  82332.000000  82332.000000  8.233200e+04  8.233200e+04  \\\n",
       "mean       1.006756     18.666472     17.545936  7.993908e+03  1.323379e+04   \n",
       "std        4.710444    133.916353    115.574086  1.716423e+05  1.514715e+05   \n",
       "min        0.000000      1.000000      0.000000  2.400000e+01  0.000000e+00   \n",
       "25%        0.000008      2.000000      0.000000  1.140000e+02  0.000000e+00   \n",
       "50%        0.014138      6.000000      2.000000  5.340000e+02  1.780000e+02   \n",
       "75%        0.719360     12.000000     10.000000  1.280000e+03  9.560000e+02   \n",
       "max       59.999989  10646.000000  11018.000000  1.435577e+07  1.465753e+07   \n",
       "\n",
       "               rate          sttl          dttl         sload         dload   \n",
       "count  8.233200e+04  82332.000000  82332.000000  8.233200e+04  8.233200e+04  \\\n",
       "mean   8.241089e+04    180.967667     95.713003  6.454902e+07  6.305470e+05   \n",
       "std    1.486204e+05    101.513358    116.667722  1.798618e+08  2.393001e+06   \n",
       "min    0.000000e+00      0.000000      0.000000  0.000000e+00  0.000000e+00   \n",
       "25%    2.860611e+01     62.000000      0.000000  1.120247e+04  0.000000e+00   \n",
       "50%    2.650177e+03    254.000000     29.000000  5.770032e+05  2.112951e+03   \n",
       "75%    1.111111e+05    254.000000    252.000000  6.514286e+07  1.585808e+04   \n",
       "max    1.000000e+06    255.000000    253.000000  5.268000e+09  2.082111e+07   \n",
       "\n",
       "       ...  ct_src_dport_ltm  ct_dst_sport_ltm  ct_dst_src_ltm  is_ftp_login   \n",
       "count  ...      82332.000000      82332.000000    82332.000000  82332.000000  \\\n",
       "mean   ...          4.928898          3.663011        7.456360      0.008284   \n",
       "std    ...          8.389545          5.915386       11.415191      0.091171   \n",
       "min    ...          1.000000          1.000000        1.000000      0.000000   \n",
       "25%    ...          1.000000          1.000000        1.000000      0.000000   \n",
       "50%    ...          1.000000          1.000000        3.000000      0.000000   \n",
       "75%    ...          4.000000          3.000000        6.000000      0.000000   \n",
       "max    ...         59.000000         38.000000       63.000000      2.000000   \n",
       "\n",
       "         ct_ftp_cmd  ct_flw_http_mthd    ct_src_ltm    ct_srv_dst   \n",
       "count  82332.000000      82332.000000  82332.000000  82332.000000  \\\n",
       "mean       0.008381          0.129743      6.468360      9.164262   \n",
       "std        0.092485          0.638683      8.543927     11.121413   \n",
       "min        0.000000          0.000000      1.000000      1.000000   \n",
       "25%        0.000000          0.000000      1.000000      2.000000   \n",
       "50%        0.000000          0.000000      3.000000      5.000000   \n",
       "75%        0.000000          0.000000      7.000000     11.000000   \n",
       "max        2.000000         16.000000     60.000000     62.000000   \n",
       "\n",
       "       is_sm_ips_ports         label  \n",
       "count     82332.000000  82332.000000  \n",
       "mean          0.011126      0.550600  \n",
       "std           0.104891      0.497436  \n",
       "min           0.000000      0.000000  \n",
       "25%           0.000000      0.000000  \n",
       "50%           0.000000      1.000000  \n",
       "75%           0.000000      1.000000  \n",
       "max           1.000000      1.000000  \n",
       "\n",
       "[8 rows x 40 columns]"
      ]
     },
     "execution_count": 16,
     "metadata": {},
     "output_type": "execute_result"
    }
   ],
   "source": [
    "df_numeric = df.select_dtypes(include=[np.number])\n",
    "df_numeric.describe(include='all')"
   ]
  },
  {
   "cell_type": "code",
   "execution_count": 17,
   "id": "5c8e2d93",
   "metadata": {},
   "outputs": [
    {
     "data": {
      "text/html": [
       "<div>\n",
       "<style scoped>\n",
       "    .dataframe tbody tr th:only-of-type {\n",
       "        vertical-align: middle;\n",
       "    }\n",
       "\n",
       "    .dataframe tbody tr th {\n",
       "        vertical-align: top;\n",
       "    }\n",
       "\n",
       "    .dataframe thead th {\n",
       "        text-align: right;\n",
       "    }\n",
       "</style>\n",
       "<table border=\"1\" class=\"dataframe\">\n",
       "  <thead>\n",
       "    <tr style=\"text-align: right;\">\n",
       "      <th></th>\n",
       "      <th>dur</th>\n",
       "      <th>proto</th>\n",
       "      <th>service</th>\n",
       "      <th>state</th>\n",
       "      <th>spkts</th>\n",
       "      <th>dpkts</th>\n",
       "      <th>sbytes</th>\n",
       "      <th>dbytes</th>\n",
       "      <th>rate</th>\n",
       "      <th>sttl</th>\n",
       "      <th>...</th>\n",
       "      <th>ct_src_dport_ltm</th>\n",
       "      <th>ct_dst_sport_ltm</th>\n",
       "      <th>ct_dst_src_ltm</th>\n",
       "      <th>is_ftp_login</th>\n",
       "      <th>ct_ftp_cmd</th>\n",
       "      <th>ct_flw_http_mthd</th>\n",
       "      <th>ct_src_ltm</th>\n",
       "      <th>ct_srv_dst</th>\n",
       "      <th>is_sm_ips_ports</th>\n",
       "      <th>label</th>\n",
       "    </tr>\n",
       "  </thead>\n",
       "  <tbody>\n",
       "    <tr>\n",
       "      <th>0</th>\n",
       "      <td>0.000011</td>\n",
       "      <td>udp</td>\n",
       "      <td>-</td>\n",
       "      <td>INT</td>\n",
       "      <td>2</td>\n",
       "      <td>0</td>\n",
       "      <td>496</td>\n",
       "      <td>0</td>\n",
       "      <td>90909.0902</td>\n",
       "      <td>254</td>\n",
       "      <td>...</td>\n",
       "      <td>1</td>\n",
       "      <td>1</td>\n",
       "      <td>2</td>\n",
       "      <td>0</td>\n",
       "      <td>0</td>\n",
       "      <td>0</td>\n",
       "      <td>1</td>\n",
       "      <td>2</td>\n",
       "      <td>0</td>\n",
       "      <td>0</td>\n",
       "    </tr>\n",
       "    <tr>\n",
       "      <th>1</th>\n",
       "      <td>0.000008</td>\n",
       "      <td>udp</td>\n",
       "      <td>-</td>\n",
       "      <td>INT</td>\n",
       "      <td>2</td>\n",
       "      <td>0</td>\n",
       "      <td>1762</td>\n",
       "      <td>0</td>\n",
       "      <td>125000.0003</td>\n",
       "      <td>254</td>\n",
       "      <td>...</td>\n",
       "      <td>1</td>\n",
       "      <td>1</td>\n",
       "      <td>2</td>\n",
       "      <td>0</td>\n",
       "      <td>0</td>\n",
       "      <td>0</td>\n",
       "      <td>1</td>\n",
       "      <td>2</td>\n",
       "      <td>0</td>\n",
       "      <td>0</td>\n",
       "    </tr>\n",
       "    <tr>\n",
       "      <th>2</th>\n",
       "      <td>0.000005</td>\n",
       "      <td>udp</td>\n",
       "      <td>-</td>\n",
       "      <td>INT</td>\n",
       "      <td>2</td>\n",
       "      <td>0</td>\n",
       "      <td>1068</td>\n",
       "      <td>0</td>\n",
       "      <td>200000.0051</td>\n",
       "      <td>254</td>\n",
       "      <td>...</td>\n",
       "      <td>1</td>\n",
       "      <td>1</td>\n",
       "      <td>3</td>\n",
       "      <td>0</td>\n",
       "      <td>0</td>\n",
       "      <td>0</td>\n",
       "      <td>1</td>\n",
       "      <td>3</td>\n",
       "      <td>0</td>\n",
       "      <td>0</td>\n",
       "    </tr>\n",
       "    <tr>\n",
       "      <th>3</th>\n",
       "      <td>0.000006</td>\n",
       "      <td>udp</td>\n",
       "      <td>-</td>\n",
       "      <td>INT</td>\n",
       "      <td>2</td>\n",
       "      <td>0</td>\n",
       "      <td>900</td>\n",
       "      <td>0</td>\n",
       "      <td>166666.6608</td>\n",
       "      <td>254</td>\n",
       "      <td>...</td>\n",
       "      <td>2</td>\n",
       "      <td>1</td>\n",
       "      <td>3</td>\n",
       "      <td>0</td>\n",
       "      <td>0</td>\n",
       "      <td>0</td>\n",
       "      <td>2</td>\n",
       "      <td>3</td>\n",
       "      <td>0</td>\n",
       "      <td>0</td>\n",
       "    </tr>\n",
       "    <tr>\n",
       "      <th>4</th>\n",
       "      <td>0.000010</td>\n",
       "      <td>udp</td>\n",
       "      <td>-</td>\n",
       "      <td>INT</td>\n",
       "      <td>2</td>\n",
       "      <td>0</td>\n",
       "      <td>2126</td>\n",
       "      <td>0</td>\n",
       "      <td>100000.0025</td>\n",
       "      <td>254</td>\n",
       "      <td>...</td>\n",
       "      <td>2</td>\n",
       "      <td>1</td>\n",
       "      <td>3</td>\n",
       "      <td>0</td>\n",
       "      <td>0</td>\n",
       "      <td>0</td>\n",
       "      <td>2</td>\n",
       "      <td>3</td>\n",
       "      <td>0</td>\n",
       "      <td>0</td>\n",
       "    </tr>\n",
       "  </tbody>\n",
       "</table>\n",
       "<p>5 rows × 43 columns</p>\n",
       "</div>"
      ],
      "text/plain": [
       "        dur proto service state  spkts  dpkts  sbytes  dbytes         rate   \n",
       "0  0.000011   udp       -   INT      2      0     496       0   90909.0902  \\\n",
       "1  0.000008   udp       -   INT      2      0    1762       0  125000.0003   \n",
       "2  0.000005   udp       -   INT      2      0    1068       0  200000.0051   \n",
       "3  0.000006   udp       -   INT      2      0     900       0  166666.6608   \n",
       "4  0.000010   udp       -   INT      2      0    2126       0  100000.0025   \n",
       "\n",
       "   sttl  ...  ct_src_dport_ltm  ct_dst_sport_ltm  ct_dst_src_ltm   \n",
       "0   254  ...                 1                 1               2  \\\n",
       "1   254  ...                 1                 1               2   \n",
       "2   254  ...                 1                 1               3   \n",
       "3   254  ...                 2                 1               3   \n",
       "4   254  ...                 2                 1               3   \n",
       "\n",
       "   is_ftp_login  ct_ftp_cmd  ct_flw_http_mthd  ct_src_ltm  ct_srv_dst   \n",
       "0             0           0                 0           1           2  \\\n",
       "1             0           0                 0           1           2   \n",
       "2             0           0                 0           1           3   \n",
       "3             0           0                 0           2           3   \n",
       "4             0           0                 0           2           3   \n",
       "\n",
       "   is_sm_ips_ports  label  \n",
       "0                0      0  \n",
       "1                0      0  \n",
       "2                0      0  \n",
       "3                0      0  \n",
       "4                0      0  \n",
       "\n",
       "[5 rows x 43 columns]"
      ]
     },
     "execution_count": 17,
     "metadata": {},
     "output_type": "execute_result"
    }
   ],
   "source": [
    "df.head()"
   ]
  },
  {
   "cell_type": "code",
   "execution_count": 18,
   "id": "cfc9ed02",
   "metadata": {},
   "outputs": [
    {
     "data": {
      "text/html": [
       "<div>\n",
       "<style scoped>\n",
       "    .dataframe tbody tr th:only-of-type {\n",
       "        vertical-align: middle;\n",
       "    }\n",
       "\n",
       "    .dataframe tbody tr th {\n",
       "        vertical-align: top;\n",
       "    }\n",
       "\n",
       "    .dataframe thead th {\n",
       "        text-align: right;\n",
       "    }\n",
       "</style>\n",
       "<table border=\"1\" class=\"dataframe\">\n",
       "  <thead>\n",
       "    <tr style=\"text-align: right;\">\n",
       "      <th></th>\n",
       "      <th>dur</th>\n",
       "      <th>proto</th>\n",
       "      <th>service</th>\n",
       "      <th>state</th>\n",
       "      <th>spkts</th>\n",
       "      <th>dpkts</th>\n",
       "      <th>sbytes</th>\n",
       "      <th>dbytes</th>\n",
       "      <th>rate</th>\n",
       "      <th>sttl</th>\n",
       "      <th>...</th>\n",
       "      <th>ct_src_dport_ltm</th>\n",
       "      <th>ct_dst_sport_ltm</th>\n",
       "      <th>ct_dst_src_ltm</th>\n",
       "      <th>is_ftp_login</th>\n",
       "      <th>ct_ftp_cmd</th>\n",
       "      <th>ct_flw_http_mthd</th>\n",
       "      <th>ct_src_ltm</th>\n",
       "      <th>ct_srv_dst</th>\n",
       "      <th>is_sm_ips_ports</th>\n",
       "      <th>label</th>\n",
       "    </tr>\n",
       "  </thead>\n",
       "  <tbody>\n",
       "    <tr>\n",
       "      <th>0</th>\n",
       "      <td>0.000011</td>\n",
       "      <td>udp</td>\n",
       "      <td>-</td>\n",
       "      <td>INT</td>\n",
       "      <td>2</td>\n",
       "      <td>0</td>\n",
       "      <td>496</td>\n",
       "      <td>0</td>\n",
       "      <td>90909.0902</td>\n",
       "      <td>254</td>\n",
       "      <td>...</td>\n",
       "      <td>1</td>\n",
       "      <td>1</td>\n",
       "      <td>2</td>\n",
       "      <td>0</td>\n",
       "      <td>0</td>\n",
       "      <td>0</td>\n",
       "      <td>1</td>\n",
       "      <td>2</td>\n",
       "      <td>0</td>\n",
       "      <td>0</td>\n",
       "    </tr>\n",
       "    <tr>\n",
       "      <th>1</th>\n",
       "      <td>0.000008</td>\n",
       "      <td>udp</td>\n",
       "      <td>-</td>\n",
       "      <td>INT</td>\n",
       "      <td>2</td>\n",
       "      <td>0</td>\n",
       "      <td>1762</td>\n",
       "      <td>0</td>\n",
       "      <td>125000.0003</td>\n",
       "      <td>254</td>\n",
       "      <td>...</td>\n",
       "      <td>1</td>\n",
       "      <td>1</td>\n",
       "      <td>2</td>\n",
       "      <td>0</td>\n",
       "      <td>0</td>\n",
       "      <td>0</td>\n",
       "      <td>1</td>\n",
       "      <td>2</td>\n",
       "      <td>0</td>\n",
       "      <td>0</td>\n",
       "    </tr>\n",
       "    <tr>\n",
       "      <th>2</th>\n",
       "      <td>0.000005</td>\n",
       "      <td>udp</td>\n",
       "      <td>-</td>\n",
       "      <td>INT</td>\n",
       "      <td>2</td>\n",
       "      <td>0</td>\n",
       "      <td>1068</td>\n",
       "      <td>0</td>\n",
       "      <td>200000.0051</td>\n",
       "      <td>254</td>\n",
       "      <td>...</td>\n",
       "      <td>1</td>\n",
       "      <td>1</td>\n",
       "      <td>3</td>\n",
       "      <td>0</td>\n",
       "      <td>0</td>\n",
       "      <td>0</td>\n",
       "      <td>1</td>\n",
       "      <td>3</td>\n",
       "      <td>0</td>\n",
       "      <td>0</td>\n",
       "    </tr>\n",
       "    <tr>\n",
       "      <th>3</th>\n",
       "      <td>0.000006</td>\n",
       "      <td>udp</td>\n",
       "      <td>-</td>\n",
       "      <td>INT</td>\n",
       "      <td>2</td>\n",
       "      <td>0</td>\n",
       "      <td>900</td>\n",
       "      <td>0</td>\n",
       "      <td>166666.6608</td>\n",
       "      <td>254</td>\n",
       "      <td>...</td>\n",
       "      <td>2</td>\n",
       "      <td>1</td>\n",
       "      <td>3</td>\n",
       "      <td>0</td>\n",
       "      <td>0</td>\n",
       "      <td>0</td>\n",
       "      <td>2</td>\n",
       "      <td>3</td>\n",
       "      <td>0</td>\n",
       "      <td>0</td>\n",
       "    </tr>\n",
       "    <tr>\n",
       "      <th>4</th>\n",
       "      <td>0.000010</td>\n",
       "      <td>udp</td>\n",
       "      <td>-</td>\n",
       "      <td>INT</td>\n",
       "      <td>2</td>\n",
       "      <td>0</td>\n",
       "      <td>2126</td>\n",
       "      <td>0</td>\n",
       "      <td>100000.0025</td>\n",
       "      <td>254</td>\n",
       "      <td>...</td>\n",
       "      <td>2</td>\n",
       "      <td>1</td>\n",
       "      <td>3</td>\n",
       "      <td>0</td>\n",
       "      <td>0</td>\n",
       "      <td>0</td>\n",
       "      <td>2</td>\n",
       "      <td>3</td>\n",
       "      <td>0</td>\n",
       "      <td>0</td>\n",
       "    </tr>\n",
       "  </tbody>\n",
       "</table>\n",
       "<p>5 rows × 43 columns</p>\n",
       "</div>"
      ],
      "text/plain": [
       "        dur proto service state  spkts  dpkts  sbytes  dbytes         rate   \n",
       "0  0.000011   udp       -   INT      2      0     496       0   90909.0902  \\\n",
       "1  0.000008   udp       -   INT      2      0    1762       0  125000.0003   \n",
       "2  0.000005   udp       -   INT      2      0    1068       0  200000.0051   \n",
       "3  0.000006   udp       -   INT      2      0     900       0  166666.6608   \n",
       "4  0.000010   udp       -   INT      2      0    2126       0  100000.0025   \n",
       "\n",
       "   sttl  ...  ct_src_dport_ltm  ct_dst_sport_ltm  ct_dst_src_ltm   \n",
       "0   254  ...                 1                 1               2  \\\n",
       "1   254  ...                 1                 1               2   \n",
       "2   254  ...                 1                 1               3   \n",
       "3   254  ...                 2                 1               3   \n",
       "4   254  ...                 2                 1               3   \n",
       "\n",
       "   is_ftp_login  ct_ftp_cmd  ct_flw_http_mthd  ct_src_ltm  ct_srv_dst   \n",
       "0             0           0                 0           1           2  \\\n",
       "1             0           0                 0           1           2   \n",
       "2             0           0                 0           1           3   \n",
       "3             0           0                 0           2           3   \n",
       "4             0           0                 0           2           3   \n",
       "\n",
       "   is_sm_ips_ports  label  \n",
       "0                0      0  \n",
       "1                0      0  \n",
       "2                0      0  \n",
       "3                0      0  \n",
       "4                0      0  \n",
       "\n",
       "[5 rows x 43 columns]"
      ]
     },
     "execution_count": 18,
     "metadata": {},
     "output_type": "execute_result"
    }
   ],
   "source": [
    "df.head()"
   ]
  },
  {
   "cell_type": "code",
   "execution_count": 19,
   "id": "56859b24",
   "metadata": {},
   "outputs": [
    {
     "data": {
      "text/plain": [
       "label\n",
       "1    45332\n",
       "0    37000\n",
       "Name: count, dtype: int64"
      ]
     },
     "execution_count": 19,
     "metadata": {},
     "output_type": "execute_result"
    }
   ],
   "source": [
    "df['label'].value_counts()"
   ]
  },
  {
   "cell_type": "code",
   "execution_count": 20,
   "id": "bbad721d",
   "metadata": {},
   "outputs": [
    {
     "data": {
      "text/html": [
       "<div>\n",
       "<style scoped>\n",
       "    .dataframe tbody tr th:only-of-type {\n",
       "        vertical-align: middle;\n",
       "    }\n",
       "\n",
       "    .dataframe tbody tr th {\n",
       "        vertical-align: top;\n",
       "    }\n",
       "\n",
       "    .dataframe thead th {\n",
       "        text-align: right;\n",
       "    }\n",
       "</style>\n",
       "<table border=\"1\" class=\"dataframe\">\n",
       "  <thead>\n",
       "    <tr style=\"text-align: right;\">\n",
       "      <th></th>\n",
       "      <th>dur</th>\n",
       "      <th>proto</th>\n",
       "      <th>service</th>\n",
       "      <th>state</th>\n",
       "      <th>spkts</th>\n",
       "      <th>dpkts</th>\n",
       "      <th>sbytes</th>\n",
       "      <th>dbytes</th>\n",
       "      <th>rate</th>\n",
       "      <th>sttl</th>\n",
       "      <th>...</th>\n",
       "      <th>ct_src_dport_ltm</th>\n",
       "      <th>ct_dst_sport_ltm</th>\n",
       "      <th>ct_dst_src_ltm</th>\n",
       "      <th>is_ftp_login</th>\n",
       "      <th>ct_ftp_cmd</th>\n",
       "      <th>ct_flw_http_mthd</th>\n",
       "      <th>ct_src_ltm</th>\n",
       "      <th>ct_srv_dst</th>\n",
       "      <th>is_sm_ips_ports</th>\n",
       "      <th>label</th>\n",
       "    </tr>\n",
       "  </thead>\n",
       "  <tbody>\n",
       "    <tr>\n",
       "      <th>0</th>\n",
       "      <td>0.000011</td>\n",
       "      <td>udp</td>\n",
       "      <td>-</td>\n",
       "      <td>INT</td>\n",
       "      <td>2</td>\n",
       "      <td>0</td>\n",
       "      <td>496</td>\n",
       "      <td>0</td>\n",
       "      <td>90909.0902</td>\n",
       "      <td>254</td>\n",
       "      <td>...</td>\n",
       "      <td>1</td>\n",
       "      <td>1</td>\n",
       "      <td>2</td>\n",
       "      <td>0</td>\n",
       "      <td>0</td>\n",
       "      <td>0</td>\n",
       "      <td>1</td>\n",
       "      <td>2</td>\n",
       "      <td>0</td>\n",
       "      <td>0</td>\n",
       "    </tr>\n",
       "    <tr>\n",
       "      <th>1</th>\n",
       "      <td>0.000008</td>\n",
       "      <td>udp</td>\n",
       "      <td>-</td>\n",
       "      <td>INT</td>\n",
       "      <td>2</td>\n",
       "      <td>0</td>\n",
       "      <td>1762</td>\n",
       "      <td>0</td>\n",
       "      <td>125000.0003</td>\n",
       "      <td>254</td>\n",
       "      <td>...</td>\n",
       "      <td>1</td>\n",
       "      <td>1</td>\n",
       "      <td>2</td>\n",
       "      <td>0</td>\n",
       "      <td>0</td>\n",
       "      <td>0</td>\n",
       "      <td>1</td>\n",
       "      <td>2</td>\n",
       "      <td>0</td>\n",
       "      <td>0</td>\n",
       "    </tr>\n",
       "    <tr>\n",
       "      <th>2</th>\n",
       "      <td>0.000005</td>\n",
       "      <td>udp</td>\n",
       "      <td>-</td>\n",
       "      <td>INT</td>\n",
       "      <td>2</td>\n",
       "      <td>0</td>\n",
       "      <td>1068</td>\n",
       "      <td>0</td>\n",
       "      <td>200000.0051</td>\n",
       "      <td>254</td>\n",
       "      <td>...</td>\n",
       "      <td>1</td>\n",
       "      <td>1</td>\n",
       "      <td>3</td>\n",
       "      <td>0</td>\n",
       "      <td>0</td>\n",
       "      <td>0</td>\n",
       "      <td>1</td>\n",
       "      <td>3</td>\n",
       "      <td>0</td>\n",
       "      <td>0</td>\n",
       "    </tr>\n",
       "    <tr>\n",
       "      <th>3</th>\n",
       "      <td>0.000006</td>\n",
       "      <td>udp</td>\n",
       "      <td>-</td>\n",
       "      <td>INT</td>\n",
       "      <td>2</td>\n",
       "      <td>0</td>\n",
       "      <td>900</td>\n",
       "      <td>0</td>\n",
       "      <td>166666.6608</td>\n",
       "      <td>254</td>\n",
       "      <td>...</td>\n",
       "      <td>2</td>\n",
       "      <td>1</td>\n",
       "      <td>3</td>\n",
       "      <td>0</td>\n",
       "      <td>0</td>\n",
       "      <td>0</td>\n",
       "      <td>2</td>\n",
       "      <td>3</td>\n",
       "      <td>0</td>\n",
       "      <td>0</td>\n",
       "    </tr>\n",
       "    <tr>\n",
       "      <th>4</th>\n",
       "      <td>0.000010</td>\n",
       "      <td>udp</td>\n",
       "      <td>-</td>\n",
       "      <td>INT</td>\n",
       "      <td>2</td>\n",
       "      <td>0</td>\n",
       "      <td>2126</td>\n",
       "      <td>0</td>\n",
       "      <td>100000.0025</td>\n",
       "      <td>254</td>\n",
       "      <td>...</td>\n",
       "      <td>2</td>\n",
       "      <td>1</td>\n",
       "      <td>3</td>\n",
       "      <td>0</td>\n",
       "      <td>0</td>\n",
       "      <td>0</td>\n",
       "      <td>2</td>\n",
       "      <td>3</td>\n",
       "      <td>0</td>\n",
       "      <td>0</td>\n",
       "    </tr>\n",
       "  </tbody>\n",
       "</table>\n",
       "<p>5 rows × 43 columns</p>\n",
       "</div>"
      ],
      "text/plain": [
       "        dur proto service state  spkts  dpkts  sbytes  dbytes         rate   \n",
       "0  0.000011   udp       -   INT      2      0     496       0   90909.0902  \\\n",
       "1  0.000008   udp       -   INT      2      0    1762       0  125000.0003   \n",
       "2  0.000005   udp       -   INT      2      0    1068       0  200000.0051   \n",
       "3  0.000006   udp       -   INT      2      0     900       0  166666.6608   \n",
       "4  0.000010   udp       -   INT      2      0    2126       0  100000.0025   \n",
       "\n",
       "   sttl  ...  ct_src_dport_ltm  ct_dst_sport_ltm  ct_dst_src_ltm   \n",
       "0   254  ...                 1                 1               2  \\\n",
       "1   254  ...                 1                 1               2   \n",
       "2   254  ...                 1                 1               3   \n",
       "3   254  ...                 2                 1               3   \n",
       "4   254  ...                 2                 1               3   \n",
       "\n",
       "   is_ftp_login  ct_ftp_cmd  ct_flw_http_mthd  ct_src_ltm  ct_srv_dst   \n",
       "0             0           0                 0           1           2  \\\n",
       "1             0           0                 0           1           2   \n",
       "2             0           0                 0           1           3   \n",
       "3             0           0                 0           2           3   \n",
       "4             0           0                 0           2           3   \n",
       "\n",
       "   is_sm_ips_ports  label  \n",
       "0                0      0  \n",
       "1                0      0  \n",
       "2                0      0  \n",
       "3                0      0  \n",
       "4                0      0  \n",
       "\n",
       "[5 rows x 43 columns]"
      ]
     },
     "execution_count": 20,
     "metadata": {},
     "output_type": "execute_result"
    }
   ],
   "source": [
    "df.head()"
   ]
  },
  {
   "cell_type": "code",
   "execution_count": 21,
   "id": "1d4adfa7",
   "metadata": {
    "execution": {
     "iopub.execute_input": "2023-09-07T03:12:30.478580Z",
     "iopub.status.busy": "2023-09-07T03:12:30.478265Z",
     "iopub.status.idle": "2023-09-07T03:12:30.769280Z",
     "shell.execute_reply": "2023-09-07T03:12:30.768337Z"
    },
    "papermill": {
     "duration": 0.348044,
     "end_time": "2023-09-07T03:12:30.771996",
     "exception": false,
     "start_time": "2023-09-07T03:12:30.423952",
     "status": "completed"
    },
    "tags": []
   },
   "outputs": [],
   "source": [
    "DEBUG =0\n",
    "\n",
    "for feature in df_numeric.columns:\n",
    "    if DEBUG == 1:\n",
    "        print(feature)\n",
    "        print('max = '+str(df_numeric[feature].max()))\n",
    "        print('75th = '+str(df_numeric[feature].quantile(0.95)))\n",
    "        print('median = '+str(df_numeric[feature].median()))\n",
    "        print(df_numeric[feature].max()>10*df_numeric[feature].median())\n",
    "        print('----------------------------------------------------')\n",
    "    if df_numeric[feature].max()>10*df_numeric[feature].median() and df_numeric[feature].max()>10 :\n",
    "        df[feature] = np.where(df[feature]<df[feature].quantile(0.95), df[feature], df[feature].quantile(0.95))"
   ]
  },
  {
   "cell_type": "code",
   "execution_count": 22,
   "id": "a8422993",
   "metadata": {
    "execution": {
     "iopub.execute_input": "2023-09-07T03:12:30.881888Z",
     "iopub.status.busy": "2023-09-07T03:12:30.881096Z",
     "iopub.status.idle": "2023-09-07T03:12:31.165358Z",
     "shell.execute_reply": "2023-09-07T03:12:31.164380Z"
    },
    "papermill": {
     "duration": 0.342502,
     "end_time": "2023-09-07T03:12:31.168351",
     "exception": false,
     "start_time": "2023-09-07T03:12:30.825849",
     "status": "completed"
    },
    "tags": []
   },
   "outputs": [
    {
     "data": {
      "text/html": [
       "<div>\n",
       "<style scoped>\n",
       "    .dataframe tbody tr th:only-of-type {\n",
       "        vertical-align: middle;\n",
       "    }\n",
       "\n",
       "    .dataframe tbody tr th {\n",
       "        vertical-align: top;\n",
       "    }\n",
       "\n",
       "    .dataframe thead th {\n",
       "        text-align: right;\n",
       "    }\n",
       "</style>\n",
       "<table border=\"1\" class=\"dataframe\">\n",
       "  <thead>\n",
       "    <tr style=\"text-align: right;\">\n",
       "      <th></th>\n",
       "      <th>dur</th>\n",
       "      <th>spkts</th>\n",
       "      <th>dpkts</th>\n",
       "      <th>sbytes</th>\n",
       "      <th>dbytes</th>\n",
       "      <th>rate</th>\n",
       "      <th>sttl</th>\n",
       "      <th>dttl</th>\n",
       "      <th>sload</th>\n",
       "      <th>dload</th>\n",
       "      <th>...</th>\n",
       "      <th>ct_src_dport_ltm</th>\n",
       "      <th>ct_dst_sport_ltm</th>\n",
       "      <th>ct_dst_src_ltm</th>\n",
       "      <th>is_ftp_login</th>\n",
       "      <th>ct_ftp_cmd</th>\n",
       "      <th>ct_flw_http_mthd</th>\n",
       "      <th>ct_src_ltm</th>\n",
       "      <th>ct_srv_dst</th>\n",
       "      <th>is_sm_ips_ports</th>\n",
       "      <th>label</th>\n",
       "    </tr>\n",
       "  </thead>\n",
       "  <tbody>\n",
       "    <tr>\n",
       "      <th>count</th>\n",
       "      <td>82332.000000</td>\n",
       "      <td>82332.00000</td>\n",
       "      <td>82332.000000</td>\n",
       "      <td>82332.000000</td>\n",
       "      <td>82332.000000</td>\n",
       "      <td>82332.000000</td>\n",
       "      <td>82332.000000</td>\n",
       "      <td>82332.000000</td>\n",
       "      <td>8.233200e+04</td>\n",
       "      <td>8.233200e+04</td>\n",
       "      <td>...</td>\n",
       "      <td>82332.000000</td>\n",
       "      <td>82332.000000</td>\n",
       "      <td>82332.000000</td>\n",
       "      <td>82332.000000</td>\n",
       "      <td>82332.000000</td>\n",
       "      <td>82332.000000</td>\n",
       "      <td>82332.000000</td>\n",
       "      <td>82332.000000</td>\n",
       "      <td>82332.000000</td>\n",
       "      <td>82332.000000</td>\n",
       "    </tr>\n",
       "    <tr>\n",
       "      <th>mean</th>\n",
       "      <td>0.445016</td>\n",
       "      <td>11.84186</td>\n",
       "      <td>9.178424</td>\n",
       "      <td>1580.566135</td>\n",
       "      <td>2866.918367</td>\n",
       "      <td>71576.702810</td>\n",
       "      <td>180.967667</td>\n",
       "      <td>95.713003</td>\n",
       "      <td>4.649418e+07</td>\n",
       "      <td>3.105380e+05</td>\n",
       "      <td>...</td>\n",
       "      <td>4.466611</td>\n",
       "      <td>3.388901</td>\n",
       "      <td>7.160679</td>\n",
       "      <td>0.008284</td>\n",
       "      <td>0.008381</td>\n",
       "      <td>0.092066</td>\n",
       "      <td>5.974809</td>\n",
       "      <td>8.832532</td>\n",
       "      <td>0.011126</td>\n",
       "      <td>0.550600</td>\n",
       "    </tr>\n",
       "    <tr>\n",
       "      <th>std</th>\n",
       "      <td>0.672222</td>\n",
       "      <td>15.66461</td>\n",
       "      <td>14.504212</td>\n",
       "      <td>2948.850472</td>\n",
       "      <td>7525.606738</td>\n",
       "      <td>102631.946851</td>\n",
       "      <td>101.513358</td>\n",
       "      <td>116.667722</td>\n",
       "      <td>7.417784e+07</td>\n",
       "      <td>8.918691e+05</td>\n",
       "      <td>...</td>\n",
       "      <td>6.685037</td>\n",
       "      <td>5.029129</td>\n",
       "      <td>10.481621</td>\n",
       "      <td>0.091171</td>\n",
       "      <td>0.092485</td>\n",
       "      <td>0.289121</td>\n",
       "      <td>6.867156</td>\n",
       "      <td>10.124902</td>\n",
       "      <td>0.104891</td>\n",
       "      <td>0.497436</td>\n",
       "    </tr>\n",
       "    <tr>\n",
       "      <th>min</th>\n",
       "      <td>0.000000</td>\n",
       "      <td>1.00000</td>\n",
       "      <td>0.000000</td>\n",
       "      <td>24.000000</td>\n",
       "      <td>0.000000</td>\n",
       "      <td>0.000000</td>\n",
       "      <td>0.000000</td>\n",
       "      <td>0.000000</td>\n",
       "      <td>0.000000e+00</td>\n",
       "      <td>0.000000e+00</td>\n",
       "      <td>...</td>\n",
       "      <td>1.000000</td>\n",
       "      <td>1.000000</td>\n",
       "      <td>1.000000</td>\n",
       "      <td>0.000000</td>\n",
       "      <td>0.000000</td>\n",
       "      <td>0.000000</td>\n",
       "      <td>1.000000</td>\n",
       "      <td>1.000000</td>\n",
       "      <td>0.000000</td>\n",
       "      <td>0.000000</td>\n",
       "    </tr>\n",
       "    <tr>\n",
       "      <th>25%</th>\n",
       "      <td>0.000008</td>\n",
       "      <td>2.00000</td>\n",
       "      <td>0.000000</td>\n",
       "      <td>114.000000</td>\n",
       "      <td>0.000000</td>\n",
       "      <td>28.606114</td>\n",
       "      <td>62.000000</td>\n",
       "      <td>0.000000</td>\n",
       "      <td>1.120247e+04</td>\n",
       "      <td>0.000000e+00</td>\n",
       "      <td>...</td>\n",
       "      <td>1.000000</td>\n",
       "      <td>1.000000</td>\n",
       "      <td>1.000000</td>\n",
       "      <td>0.000000</td>\n",
       "      <td>0.000000</td>\n",
       "      <td>0.000000</td>\n",
       "      <td>1.000000</td>\n",
       "      <td>2.000000</td>\n",
       "      <td>0.000000</td>\n",
       "      <td>0.000000</td>\n",
       "    </tr>\n",
       "    <tr>\n",
       "      <th>50%</th>\n",
       "      <td>0.014138</td>\n",
       "      <td>6.00000</td>\n",
       "      <td>2.000000</td>\n",
       "      <td>534.000000</td>\n",
       "      <td>178.000000</td>\n",
       "      <td>2650.176667</td>\n",
       "      <td>254.000000</td>\n",
       "      <td>29.000000</td>\n",
       "      <td>5.770032e+05</td>\n",
       "      <td>2.112951e+03</td>\n",
       "      <td>...</td>\n",
       "      <td>1.000000</td>\n",
       "      <td>1.000000</td>\n",
       "      <td>3.000000</td>\n",
       "      <td>0.000000</td>\n",
       "      <td>0.000000</td>\n",
       "      <td>0.000000</td>\n",
       "      <td>3.000000</td>\n",
       "      <td>5.000000</td>\n",
       "      <td>0.000000</td>\n",
       "      <td>1.000000</td>\n",
       "    </tr>\n",
       "    <tr>\n",
       "      <th>75%</th>\n",
       "      <td>0.719360</td>\n",
       "      <td>12.00000</td>\n",
       "      <td>10.000000</td>\n",
       "      <td>1280.000000</td>\n",
       "      <td>956.000000</td>\n",
       "      <td>111111.107200</td>\n",
       "      <td>254.000000</td>\n",
       "      <td>252.000000</td>\n",
       "      <td>6.514286e+07</td>\n",
       "      <td>1.585808e+04</td>\n",
       "      <td>...</td>\n",
       "      <td>4.000000</td>\n",
       "      <td>3.000000</td>\n",
       "      <td>6.000000</td>\n",
       "      <td>0.000000</td>\n",
       "      <td>0.000000</td>\n",
       "      <td>0.000000</td>\n",
       "      <td>7.000000</td>\n",
       "      <td>11.000000</td>\n",
       "      <td>0.000000</td>\n",
       "      <td>1.000000</td>\n",
       "    </tr>\n",
       "    <tr>\n",
       "      <th>max</th>\n",
       "      <td>2.403792</td>\n",
       "      <td>60.00000</td>\n",
       "      <td>54.000000</td>\n",
       "      <td>12472.000000</td>\n",
       "      <td>30622.000000</td>\n",
       "      <td>333333.321500</td>\n",
       "      <td>255.000000</td>\n",
       "      <td>253.000000</td>\n",
       "      <td>2.666667e+08</td>\n",
       "      <td>3.741446e+06</td>\n",
       "      <td>...</td>\n",
       "      <td>25.000000</td>\n",
       "      <td>18.000000</td>\n",
       "      <td>37.000000</td>\n",
       "      <td>2.000000</td>\n",
       "      <td>2.000000</td>\n",
       "      <td>1.000000</td>\n",
       "      <td>25.000000</td>\n",
       "      <td>36.000000</td>\n",
       "      <td>1.000000</td>\n",
       "      <td>1.000000</td>\n",
       "    </tr>\n",
       "  </tbody>\n",
       "</table>\n",
       "<p>8 rows × 40 columns</p>\n",
       "</div>"
      ],
      "text/plain": [
       "                dur        spkts         dpkts        sbytes        dbytes   \n",
       "count  82332.000000  82332.00000  82332.000000  82332.000000  82332.000000  \\\n",
       "mean       0.445016     11.84186      9.178424   1580.566135   2866.918367   \n",
       "std        0.672222     15.66461     14.504212   2948.850472   7525.606738   \n",
       "min        0.000000      1.00000      0.000000     24.000000      0.000000   \n",
       "25%        0.000008      2.00000      0.000000    114.000000      0.000000   \n",
       "50%        0.014138      6.00000      2.000000    534.000000    178.000000   \n",
       "75%        0.719360     12.00000     10.000000   1280.000000    956.000000   \n",
       "max        2.403792     60.00000     54.000000  12472.000000  30622.000000   \n",
       "\n",
       "                rate          sttl          dttl         sload         dload   \n",
       "count   82332.000000  82332.000000  82332.000000  8.233200e+04  8.233200e+04  \\\n",
       "mean    71576.702810    180.967667     95.713003  4.649418e+07  3.105380e+05   \n",
       "std    102631.946851    101.513358    116.667722  7.417784e+07  8.918691e+05   \n",
       "min         0.000000      0.000000      0.000000  0.000000e+00  0.000000e+00   \n",
       "25%        28.606114     62.000000      0.000000  1.120247e+04  0.000000e+00   \n",
       "50%      2650.176667    254.000000     29.000000  5.770032e+05  2.112951e+03   \n",
       "75%    111111.107200    254.000000    252.000000  6.514286e+07  1.585808e+04   \n",
       "max    333333.321500    255.000000    253.000000  2.666667e+08  3.741446e+06   \n",
       "\n",
       "       ...  ct_src_dport_ltm  ct_dst_sport_ltm  ct_dst_src_ltm  is_ftp_login   \n",
       "count  ...      82332.000000      82332.000000    82332.000000  82332.000000  \\\n",
       "mean   ...          4.466611          3.388901        7.160679      0.008284   \n",
       "std    ...          6.685037          5.029129       10.481621      0.091171   \n",
       "min    ...          1.000000          1.000000        1.000000      0.000000   \n",
       "25%    ...          1.000000          1.000000        1.000000      0.000000   \n",
       "50%    ...          1.000000          1.000000        3.000000      0.000000   \n",
       "75%    ...          4.000000          3.000000        6.000000      0.000000   \n",
       "max    ...         25.000000         18.000000       37.000000      2.000000   \n",
       "\n",
       "         ct_ftp_cmd  ct_flw_http_mthd    ct_src_ltm    ct_srv_dst   \n",
       "count  82332.000000      82332.000000  82332.000000  82332.000000  \\\n",
       "mean       0.008381          0.092066      5.974809      8.832532   \n",
       "std        0.092485          0.289121      6.867156     10.124902   \n",
       "min        0.000000          0.000000      1.000000      1.000000   \n",
       "25%        0.000000          0.000000      1.000000      2.000000   \n",
       "50%        0.000000          0.000000      3.000000      5.000000   \n",
       "75%        0.000000          0.000000      7.000000     11.000000   \n",
       "max        2.000000          1.000000     25.000000     36.000000   \n",
       "\n",
       "       is_sm_ips_ports         label  \n",
       "count     82332.000000  82332.000000  \n",
       "mean          0.011126      0.550600  \n",
       "std           0.104891      0.497436  \n",
       "min           0.000000      0.000000  \n",
       "25%           0.000000      0.000000  \n",
       "50%           0.000000      1.000000  \n",
       "75%           0.000000      1.000000  \n",
       "max           1.000000      1.000000  \n",
       "\n",
       "[8 rows x 40 columns]"
      ]
     },
     "execution_count": 22,
     "metadata": {},
     "output_type": "execute_result"
    }
   ],
   "source": [
    "df_numeric = df.select_dtypes(include=[np.number])\n",
    "df_numeric.describe(include='all')"
   ]
  },
  {
   "cell_type": "code",
   "execution_count": 23,
   "id": "e6540f0c",
   "metadata": {
    "execution": {
     "iopub.execute_input": "2023-09-07T03:12:31.280030Z",
     "iopub.status.busy": "2023-09-07T03:12:31.279700Z",
     "iopub.status.idle": "2023-09-07T03:12:31.412744Z",
     "shell.execute_reply": "2023-09-07T03:12:31.411655Z"
    },
    "papermill": {
     "duration": 0.192656,
     "end_time": "2023-09-07T03:12:31.415551",
     "exception": false,
     "start_time": "2023-09-07T03:12:31.222895",
     "status": "completed"
    },
    "tags": []
   },
   "outputs": [],
   "source": [
    "df_numeric = df.select_dtypes(include=[np.number])\n",
    "df_before = df_numeric.copy()\n",
    "DEBUG = 0\n",
    "for feature in df_numeric.columns:\n",
    "    if DEBUG == 1:\n",
    "        print(feature)\n",
    "        print('nunique = '+str(df_numeric[feature].nunique()))\n",
    "        print(df_numeric[feature].nunique()>50)\n",
    "        print('----------------------------------------------------')\n",
    "    if df_numeric[feature].nunique()>50:\n",
    "        if df_numeric[feature].min()==0:\n",
    "            df[feature] = np.log(df[feature]+1)\n",
    "        else:\n",
    "            df[feature] = np.log(df[feature])\n",
    "\n",
    "df_numeric = df.select_dtypes(include=[np.number])"
   ]
  },
  {
   "cell_type": "code",
   "execution_count": 24,
   "id": "95981f72",
   "metadata": {
    "execution": {
     "iopub.execute_input": "2023-09-07T03:12:31.525828Z",
     "iopub.status.busy": "2023-09-07T03:12:31.525473Z",
     "iopub.status.idle": "2023-09-07T03:12:31.614626Z",
     "shell.execute_reply": "2023-09-07T03:12:31.613632Z"
    },
    "papermill": {
     "duration": 0.1476,
     "end_time": "2023-09-07T03:12:31.617514",
     "exception": false,
     "start_time": "2023-09-07T03:12:31.469914",
     "status": "completed"
    },
    "tags": []
   },
   "outputs": [
    {
     "data": {
      "text/html": [
       "<div>\n",
       "<style scoped>\n",
       "    .dataframe tbody tr th:only-of-type {\n",
       "        vertical-align: middle;\n",
       "    }\n",
       "\n",
       "    .dataframe tbody tr th {\n",
       "        vertical-align: top;\n",
       "    }\n",
       "\n",
       "    .dataframe thead th {\n",
       "        text-align: right;\n",
       "    }\n",
       "</style>\n",
       "<table border=\"1\" class=\"dataframe\">\n",
       "  <thead>\n",
       "    <tr style=\"text-align: right;\">\n",
       "      <th></th>\n",
       "      <th>proto</th>\n",
       "      <th>service</th>\n",
       "      <th>state</th>\n",
       "    </tr>\n",
       "  </thead>\n",
       "  <tbody>\n",
       "    <tr>\n",
       "      <th>count</th>\n",
       "      <td>82332</td>\n",
       "      <td>82332</td>\n",
       "      <td>82332</td>\n",
       "    </tr>\n",
       "    <tr>\n",
       "      <th>unique</th>\n",
       "      <td>131</td>\n",
       "      <td>13</td>\n",
       "      <td>7</td>\n",
       "    </tr>\n",
       "    <tr>\n",
       "      <th>top</th>\n",
       "      <td>tcp</td>\n",
       "      <td>-</td>\n",
       "      <td>FIN</td>\n",
       "    </tr>\n",
       "    <tr>\n",
       "      <th>freq</th>\n",
       "      <td>43095</td>\n",
       "      <td>47153</td>\n",
       "      <td>39339</td>\n",
       "    </tr>\n",
       "  </tbody>\n",
       "</table>\n",
       "</div>"
      ],
      "text/plain": [
       "        proto service  state\n",
       "count   82332   82332  82332\n",
       "unique    131      13      7\n",
       "top       tcp       -    FIN\n",
       "freq    43095   47153  39339"
      ]
     },
     "execution_count": 24,
     "metadata": {},
     "output_type": "execute_result"
    }
   ],
   "source": [
    "df_cat = df.select_dtypes(exclude=[np.number])\n",
    "df_cat.describe(include='all')"
   ]
  },
  {
   "cell_type": "code",
   "execution_count": 25,
   "id": "ab035d95",
   "metadata": {
    "execution": {
     "iopub.execute_input": "2023-09-07T03:12:31.731746Z",
     "iopub.status.busy": "2023-09-07T03:12:31.730691Z",
     "iopub.status.idle": "2023-09-07T03:12:31.829513Z",
     "shell.execute_reply": "2023-09-07T03:12:31.828528Z"
    },
    "papermill": {
     "duration": 0.158049,
     "end_time": "2023-09-07T03:12:31.832695",
     "exception": false,
     "start_time": "2023-09-07T03:12:31.674646",
     "status": "completed"
    },
    "tags": []
   },
   "outputs": [],
   "source": [
    "DEBUG = 0\n",
    "for feature in df_cat.columns:\n",
    "    if DEBUG == 1:\n",
    "        print(feature)\n",
    "        print('nunique = '+str(df_cat[feature].nunique()))\n",
    "        print(df_cat[feature].nunique()>6)\n",
    "        print(sum(df[feature].isin(df[feature].value_counts().head().index)))\n",
    "        print('----------------------------------------------------')\n",
    "    \n",
    "    if df_cat[feature].nunique()>6:\n",
    "        df[feature] = np.where(df[feature].isin(df[feature].value_counts().head().index), df[feature], '-')"
   ]
  },
  {
   "cell_type": "code",
   "execution_count": 26,
   "id": "4ddad4a2",
   "metadata": {
    "execution": {
     "iopub.execute_input": "2023-09-07T03:12:31.945215Z",
     "iopub.status.busy": "2023-09-07T03:12:31.944377Z",
     "iopub.status.idle": "2023-09-07T03:12:32.037510Z",
     "shell.execute_reply": "2023-09-07T03:12:32.036142Z"
    },
    "papermill": {
     "duration": 0.152648,
     "end_time": "2023-09-07T03:12:32.040226",
     "exception": false,
     "start_time": "2023-09-07T03:12:31.887578",
     "status": "completed"
    },
    "tags": []
   },
   "outputs": [
    {
     "data": {
      "text/html": [
       "<div>\n",
       "<style scoped>\n",
       "    .dataframe tbody tr th:only-of-type {\n",
       "        vertical-align: middle;\n",
       "    }\n",
       "\n",
       "    .dataframe tbody tr th {\n",
       "        vertical-align: top;\n",
       "    }\n",
       "\n",
       "    .dataframe thead th {\n",
       "        text-align: right;\n",
       "    }\n",
       "</style>\n",
       "<table border=\"1\" class=\"dataframe\">\n",
       "  <thead>\n",
       "    <tr style=\"text-align: right;\">\n",
       "      <th></th>\n",
       "      <th>proto</th>\n",
       "      <th>service</th>\n",
       "      <th>state</th>\n",
       "    </tr>\n",
       "  </thead>\n",
       "  <tbody>\n",
       "    <tr>\n",
       "      <th>count</th>\n",
       "      <td>82332</td>\n",
       "      <td>82332</td>\n",
       "      <td>82332</td>\n",
       "    </tr>\n",
       "    <tr>\n",
       "      <th>unique</th>\n",
       "      <td>6</td>\n",
       "      <td>5</td>\n",
       "      <td>6</td>\n",
       "    </tr>\n",
       "    <tr>\n",
       "      <th>top</th>\n",
       "      <td>tcp</td>\n",
       "      <td>-</td>\n",
       "      <td>FIN</td>\n",
       "    </tr>\n",
       "    <tr>\n",
       "      <th>freq</th>\n",
       "      <td>43095</td>\n",
       "      <td>49275</td>\n",
       "      <td>39339</td>\n",
       "    </tr>\n",
       "  </tbody>\n",
       "</table>\n",
       "</div>"
      ],
      "text/plain": [
       "        proto service  state\n",
       "count   82332   82332  82332\n",
       "unique      6       5      6\n",
       "top       tcp       -    FIN\n",
       "freq    43095   49275  39339"
      ]
     },
     "execution_count": 26,
     "metadata": {},
     "output_type": "execute_result"
    }
   ],
   "source": [
    "df_cat = df.select_dtypes(exclude=[np.number])\n",
    "df_cat.describe(include='all')"
   ]
  },
  {
   "cell_type": "code",
   "execution_count": 27,
   "id": "9dc0fdac",
   "metadata": {
    "execution": {
     "iopub.execute_input": "2023-09-07T03:12:32.154356Z",
     "iopub.status.busy": "2023-09-07T03:12:32.153953Z",
     "iopub.status.idle": "2023-09-07T03:12:32.177761Z",
     "shell.execute_reply": "2023-09-07T03:12:32.176231Z"
    },
    "papermill": {
     "duration": 0.0838,
     "end_time": "2023-09-07T03:12:32.180151",
     "exception": false,
     "start_time": "2023-09-07T03:12:32.096351",
     "status": "completed"
    },
    "tags": []
   },
   "outputs": [
    {
     "data": {
      "text/plain": [
       "Index(['tcp', 'udp', '-', 'unas', 'arp'], dtype='object', name='proto')"
      ]
     },
     "execution_count": 27,
     "metadata": {},
     "output_type": "execute_result"
    }
   ],
   "source": [
    "df['proto'].value_counts().head().index"
   ]
  },
  {
   "cell_type": "code",
   "execution_count": 28,
   "id": "b3a10862",
   "metadata": {
    "execution": {
     "iopub.execute_input": "2023-09-07T03:12:32.297018Z",
     "iopub.status.busy": "2023-09-07T03:12:32.296317Z",
     "iopub.status.idle": "2023-09-07T03:12:32.318967Z",
     "shell.execute_reply": "2023-09-07T03:12:32.317660Z"
    },
    "papermill": {
     "duration": 0.083249,
     "end_time": "2023-09-07T03:12:32.321723",
     "exception": false,
     "start_time": "2023-09-07T03:12:32.238474",
     "status": "completed"
    },
    "tags": []
   },
   "outputs": [
    {
     "data": {
      "text/plain": [
       "Index(['tcp', 'udp', '-', 'unas', 'arp', 'ospf'], dtype='object', name='proto')"
      ]
     },
     "execution_count": 28,
     "metadata": {},
     "output_type": "execute_result"
    }
   ],
   "source": [
    "df['proto'].value_counts().index"
   ]
  },
  {
   "cell_type": "code",
   "execution_count": 29,
   "id": "9862267d",
   "metadata": {},
   "outputs": [
    {
     "data": {
      "text/html": [
       "<div>\n",
       "<style scoped>\n",
       "    .dataframe tbody tr th:only-of-type {\n",
       "        vertical-align: middle;\n",
       "    }\n",
       "\n",
       "    .dataframe tbody tr th {\n",
       "        vertical-align: top;\n",
       "    }\n",
       "\n",
       "    .dataframe thead th {\n",
       "        text-align: right;\n",
       "    }\n",
       "</style>\n",
       "<table border=\"1\" class=\"dataframe\">\n",
       "  <thead>\n",
       "    <tr style=\"text-align: right;\">\n",
       "      <th></th>\n",
       "      <th>dur</th>\n",
       "      <th>proto</th>\n",
       "      <th>service</th>\n",
       "      <th>state</th>\n",
       "      <th>spkts</th>\n",
       "      <th>dpkts</th>\n",
       "      <th>sbytes</th>\n",
       "      <th>dbytes</th>\n",
       "      <th>rate</th>\n",
       "      <th>sttl</th>\n",
       "      <th>...</th>\n",
       "      <th>ct_src_dport_ltm</th>\n",
       "      <th>ct_dst_sport_ltm</th>\n",
       "      <th>ct_dst_src_ltm</th>\n",
       "      <th>is_ftp_login</th>\n",
       "      <th>ct_ftp_cmd</th>\n",
       "      <th>ct_flw_http_mthd</th>\n",
       "      <th>ct_src_ltm</th>\n",
       "      <th>ct_srv_dst</th>\n",
       "      <th>is_sm_ips_ports</th>\n",
       "      <th>label</th>\n",
       "    </tr>\n",
       "  </thead>\n",
       "  <tbody>\n",
       "    <tr>\n",
       "      <th>0</th>\n",
       "      <td>0.000011</td>\n",
       "      <td>udp</td>\n",
       "      <td>-</td>\n",
       "      <td>INT</td>\n",
       "      <td>0.693147</td>\n",
       "      <td>0.0</td>\n",
       "      <td>6.206576</td>\n",
       "      <td>0.0</td>\n",
       "      <td>11.417626</td>\n",
       "      <td>254</td>\n",
       "      <td>...</td>\n",
       "      <td>1.0</td>\n",
       "      <td>1.0</td>\n",
       "      <td>2.0</td>\n",
       "      <td>0</td>\n",
       "      <td>0</td>\n",
       "      <td>0.0</td>\n",
       "      <td>1.0</td>\n",
       "      <td>2.0</td>\n",
       "      <td>0</td>\n",
       "      <td>0</td>\n",
       "    </tr>\n",
       "    <tr>\n",
       "      <th>1</th>\n",
       "      <td>0.000008</td>\n",
       "      <td>udp</td>\n",
       "      <td>-</td>\n",
       "      <td>INT</td>\n",
       "      <td>0.693147</td>\n",
       "      <td>0.0</td>\n",
       "      <td>7.474205</td>\n",
       "      <td>0.0</td>\n",
       "      <td>11.736077</td>\n",
       "      <td>254</td>\n",
       "      <td>...</td>\n",
       "      <td>1.0</td>\n",
       "      <td>1.0</td>\n",
       "      <td>2.0</td>\n",
       "      <td>0</td>\n",
       "      <td>0</td>\n",
       "      <td>0.0</td>\n",
       "      <td>1.0</td>\n",
       "      <td>2.0</td>\n",
       "      <td>0</td>\n",
       "      <td>0</td>\n",
       "    </tr>\n",
       "    <tr>\n",
       "      <th>2</th>\n",
       "      <td>0.000005</td>\n",
       "      <td>udp</td>\n",
       "      <td>-</td>\n",
       "      <td>INT</td>\n",
       "      <td>0.693147</td>\n",
       "      <td>0.0</td>\n",
       "      <td>6.973543</td>\n",
       "      <td>0.0</td>\n",
       "      <td>12.206078</td>\n",
       "      <td>254</td>\n",
       "      <td>...</td>\n",
       "      <td>1.0</td>\n",
       "      <td>1.0</td>\n",
       "      <td>3.0</td>\n",
       "      <td>0</td>\n",
       "      <td>0</td>\n",
       "      <td>0.0</td>\n",
       "      <td>1.0</td>\n",
       "      <td>3.0</td>\n",
       "      <td>0</td>\n",
       "      <td>0</td>\n",
       "    </tr>\n",
       "    <tr>\n",
       "      <th>3</th>\n",
       "      <td>0.000006</td>\n",
       "      <td>udp</td>\n",
       "      <td>-</td>\n",
       "      <td>INT</td>\n",
       "      <td>0.693147</td>\n",
       "      <td>0.0</td>\n",
       "      <td>6.802395</td>\n",
       "      <td>0.0</td>\n",
       "      <td>12.023757</td>\n",
       "      <td>254</td>\n",
       "      <td>...</td>\n",
       "      <td>2.0</td>\n",
       "      <td>1.0</td>\n",
       "      <td>3.0</td>\n",
       "      <td>0</td>\n",
       "      <td>0</td>\n",
       "      <td>0.0</td>\n",
       "      <td>2.0</td>\n",
       "      <td>3.0</td>\n",
       "      <td>0</td>\n",
       "      <td>0</td>\n",
       "    </tr>\n",
       "    <tr>\n",
       "      <th>4</th>\n",
       "      <td>0.000010</td>\n",
       "      <td>udp</td>\n",
       "      <td>-</td>\n",
       "      <td>INT</td>\n",
       "      <td>0.693147</td>\n",
       "      <td>0.0</td>\n",
       "      <td>7.661998</td>\n",
       "      <td>0.0</td>\n",
       "      <td>11.512935</td>\n",
       "      <td>254</td>\n",
       "      <td>...</td>\n",
       "      <td>2.0</td>\n",
       "      <td>1.0</td>\n",
       "      <td>3.0</td>\n",
       "      <td>0</td>\n",
       "      <td>0</td>\n",
       "      <td>0.0</td>\n",
       "      <td>2.0</td>\n",
       "      <td>3.0</td>\n",
       "      <td>0</td>\n",
       "      <td>0</td>\n",
       "    </tr>\n",
       "  </tbody>\n",
       "</table>\n",
       "<p>5 rows × 43 columns</p>\n",
       "</div>"
      ],
      "text/plain": [
       "        dur proto service state     spkts  dpkts    sbytes  dbytes       rate   \n",
       "0  0.000011   udp       -   INT  0.693147    0.0  6.206576     0.0  11.417626  \\\n",
       "1  0.000008   udp       -   INT  0.693147    0.0  7.474205     0.0  11.736077   \n",
       "2  0.000005   udp       -   INT  0.693147    0.0  6.973543     0.0  12.206078   \n",
       "3  0.000006   udp       -   INT  0.693147    0.0  6.802395     0.0  12.023757   \n",
       "4  0.000010   udp       -   INT  0.693147    0.0  7.661998     0.0  11.512935   \n",
       "\n",
       "   sttl  ...  ct_src_dport_ltm  ct_dst_sport_ltm  ct_dst_src_ltm   \n",
       "0   254  ...               1.0               1.0             2.0  \\\n",
       "1   254  ...               1.0               1.0             2.0   \n",
       "2   254  ...               1.0               1.0             3.0   \n",
       "3   254  ...               2.0               1.0             3.0   \n",
       "4   254  ...               2.0               1.0             3.0   \n",
       "\n",
       "   is_ftp_login  ct_ftp_cmd  ct_flw_http_mthd  ct_src_ltm  ct_srv_dst   \n",
       "0             0           0               0.0         1.0         2.0  \\\n",
       "1             0           0               0.0         1.0         2.0   \n",
       "2             0           0               0.0         1.0         3.0   \n",
       "3             0           0               0.0         2.0         3.0   \n",
       "4             0           0               0.0         2.0         3.0   \n",
       "\n",
       "   is_sm_ips_ports  label  \n",
       "0                0      0  \n",
       "1                0      0  \n",
       "2                0      0  \n",
       "3                0      0  \n",
       "4                0      0  \n",
       "\n",
       "[5 rows x 43 columns]"
      ]
     },
     "execution_count": 29,
     "metadata": {},
     "output_type": "execute_result"
    }
   ],
   "source": [
    "df.head()"
   ]
  },
  {
   "cell_type": "code",
   "execution_count": 30,
   "id": "811f476c",
   "metadata": {},
   "outputs": [
    {
     "data": {
      "text/html": [
       "<div>\n",
       "<style scoped>\n",
       "    .dataframe tbody tr th:only-of-type {\n",
       "        vertical-align: middle;\n",
       "    }\n",
       "\n",
       "    .dataframe tbody tr th {\n",
       "        vertical-align: top;\n",
       "    }\n",
       "\n",
       "    .dataframe thead th {\n",
       "        text-align: right;\n",
       "    }\n",
       "</style>\n",
       "<table border=\"1\" class=\"dataframe\">\n",
       "  <thead>\n",
       "    <tr style=\"text-align: right;\">\n",
       "      <th></th>\n",
       "      <th>dur</th>\n",
       "      <th>proto</th>\n",
       "      <th>service</th>\n",
       "      <th>state</th>\n",
       "      <th>spkts</th>\n",
       "      <th>dpkts</th>\n",
       "      <th>sbytes</th>\n",
       "      <th>dbytes</th>\n",
       "      <th>rate</th>\n",
       "      <th>sttl</th>\n",
       "      <th>...</th>\n",
       "      <th>ct_src_dport_ltm</th>\n",
       "      <th>ct_dst_sport_ltm</th>\n",
       "      <th>ct_dst_src_ltm</th>\n",
       "      <th>is_ftp_login</th>\n",
       "      <th>ct_ftp_cmd</th>\n",
       "      <th>ct_flw_http_mthd</th>\n",
       "      <th>ct_src_ltm</th>\n",
       "      <th>ct_srv_dst</th>\n",
       "      <th>is_sm_ips_ports</th>\n",
       "      <th>label</th>\n",
       "    </tr>\n",
       "  </thead>\n",
       "  <tbody>\n",
       "    <tr>\n",
       "      <th>0</th>\n",
       "      <td>0.000011</td>\n",
       "      <td>udp</td>\n",
       "      <td>-</td>\n",
       "      <td>INT</td>\n",
       "      <td>0.693147</td>\n",
       "      <td>0.0</td>\n",
       "      <td>6.206576</td>\n",
       "      <td>0.0</td>\n",
       "      <td>11.417626</td>\n",
       "      <td>254</td>\n",
       "      <td>...</td>\n",
       "      <td>1.0</td>\n",
       "      <td>1.0</td>\n",
       "      <td>2.0</td>\n",
       "      <td>0</td>\n",
       "      <td>0</td>\n",
       "      <td>0.0</td>\n",
       "      <td>1.0</td>\n",
       "      <td>2.0</td>\n",
       "      <td>0</td>\n",
       "      <td>0</td>\n",
       "    </tr>\n",
       "    <tr>\n",
       "      <th>1</th>\n",
       "      <td>0.000008</td>\n",
       "      <td>udp</td>\n",
       "      <td>-</td>\n",
       "      <td>INT</td>\n",
       "      <td>0.693147</td>\n",
       "      <td>0.0</td>\n",
       "      <td>7.474205</td>\n",
       "      <td>0.0</td>\n",
       "      <td>11.736077</td>\n",
       "      <td>254</td>\n",
       "      <td>...</td>\n",
       "      <td>1.0</td>\n",
       "      <td>1.0</td>\n",
       "      <td>2.0</td>\n",
       "      <td>0</td>\n",
       "      <td>0</td>\n",
       "      <td>0.0</td>\n",
       "      <td>1.0</td>\n",
       "      <td>2.0</td>\n",
       "      <td>0</td>\n",
       "      <td>0</td>\n",
       "    </tr>\n",
       "    <tr>\n",
       "      <th>2</th>\n",
       "      <td>0.000005</td>\n",
       "      <td>udp</td>\n",
       "      <td>-</td>\n",
       "      <td>INT</td>\n",
       "      <td>0.693147</td>\n",
       "      <td>0.0</td>\n",
       "      <td>6.973543</td>\n",
       "      <td>0.0</td>\n",
       "      <td>12.206078</td>\n",
       "      <td>254</td>\n",
       "      <td>...</td>\n",
       "      <td>1.0</td>\n",
       "      <td>1.0</td>\n",
       "      <td>3.0</td>\n",
       "      <td>0</td>\n",
       "      <td>0</td>\n",
       "      <td>0.0</td>\n",
       "      <td>1.0</td>\n",
       "      <td>3.0</td>\n",
       "      <td>0</td>\n",
       "      <td>0</td>\n",
       "    </tr>\n",
       "    <tr>\n",
       "      <th>3</th>\n",
       "      <td>0.000006</td>\n",
       "      <td>udp</td>\n",
       "      <td>-</td>\n",
       "      <td>INT</td>\n",
       "      <td>0.693147</td>\n",
       "      <td>0.0</td>\n",
       "      <td>6.802395</td>\n",
       "      <td>0.0</td>\n",
       "      <td>12.023757</td>\n",
       "      <td>254</td>\n",
       "      <td>...</td>\n",
       "      <td>2.0</td>\n",
       "      <td>1.0</td>\n",
       "      <td>3.0</td>\n",
       "      <td>0</td>\n",
       "      <td>0</td>\n",
       "      <td>0.0</td>\n",
       "      <td>2.0</td>\n",
       "      <td>3.0</td>\n",
       "      <td>0</td>\n",
       "      <td>0</td>\n",
       "    </tr>\n",
       "    <tr>\n",
       "      <th>4</th>\n",
       "      <td>0.000010</td>\n",
       "      <td>udp</td>\n",
       "      <td>-</td>\n",
       "      <td>INT</td>\n",
       "      <td>0.693147</td>\n",
       "      <td>0.0</td>\n",
       "      <td>7.661998</td>\n",
       "      <td>0.0</td>\n",
       "      <td>11.512935</td>\n",
       "      <td>254</td>\n",
       "      <td>...</td>\n",
       "      <td>2.0</td>\n",
       "      <td>1.0</td>\n",
       "      <td>3.0</td>\n",
       "      <td>0</td>\n",
       "      <td>0</td>\n",
       "      <td>0.0</td>\n",
       "      <td>2.0</td>\n",
       "      <td>3.0</td>\n",
       "      <td>0</td>\n",
       "      <td>0</td>\n",
       "    </tr>\n",
       "  </tbody>\n",
       "</table>\n",
       "<p>5 rows × 43 columns</p>\n",
       "</div>"
      ],
      "text/plain": [
       "        dur proto service state     spkts  dpkts    sbytes  dbytes       rate   \n",
       "0  0.000011   udp       -   INT  0.693147    0.0  6.206576     0.0  11.417626  \\\n",
       "1  0.000008   udp       -   INT  0.693147    0.0  7.474205     0.0  11.736077   \n",
       "2  0.000005   udp       -   INT  0.693147    0.0  6.973543     0.0  12.206078   \n",
       "3  0.000006   udp       -   INT  0.693147    0.0  6.802395     0.0  12.023757   \n",
       "4  0.000010   udp       -   INT  0.693147    0.0  7.661998     0.0  11.512935   \n",
       "\n",
       "   sttl  ...  ct_src_dport_ltm  ct_dst_sport_ltm  ct_dst_src_ltm   \n",
       "0   254  ...               1.0               1.0             2.0  \\\n",
       "1   254  ...               1.0               1.0             2.0   \n",
       "2   254  ...               1.0               1.0             3.0   \n",
       "3   254  ...               2.0               1.0             3.0   \n",
       "4   254  ...               2.0               1.0             3.0   \n",
       "\n",
       "   is_ftp_login  ct_ftp_cmd  ct_flw_http_mthd  ct_src_ltm  ct_srv_dst   \n",
       "0             0           0               0.0         1.0         2.0  \\\n",
       "1             0           0               0.0         1.0         2.0   \n",
       "2             0           0               0.0         1.0         3.0   \n",
       "3             0           0               0.0         2.0         3.0   \n",
       "4             0           0               0.0         2.0         3.0   \n",
       "\n",
       "   is_sm_ips_ports  label  \n",
       "0                0      0  \n",
       "1                0      0  \n",
       "2                0      0  \n",
       "3                0      0  \n",
       "4                0      0  \n",
       "\n",
       "[5 rows x 43 columns]"
      ]
     },
     "execution_count": 30,
     "metadata": {},
     "output_type": "execute_result"
    }
   ],
   "source": [
    "df.head()"
   ]
  },
  {
   "cell_type": "code",
   "execution_count": 31,
   "id": "08163923",
   "metadata": {},
   "outputs": [
    {
     "data": {
      "text/plain": [
       "label\n",
       "1    45332\n",
       "0    37000\n",
       "Name: count, dtype: int64"
      ]
     },
     "execution_count": 31,
     "metadata": {},
     "output_type": "execute_result"
    }
   ],
   "source": [
    "df['label'].value_counts()"
   ]
  },
  {
   "cell_type": "code",
   "execution_count": 78,
   "id": "9bfcecd6",
   "metadata": {},
   "outputs": [
    {
     "data": {
      "text/html": [
       "<div>\n",
       "<style scoped>\n",
       "    .dataframe tbody tr th:only-of-type {\n",
       "        vertical-align: middle;\n",
       "    }\n",
       "\n",
       "    .dataframe tbody tr th {\n",
       "        vertical-align: top;\n",
       "    }\n",
       "\n",
       "    .dataframe thead th {\n",
       "        text-align: right;\n",
       "    }\n",
       "</style>\n",
       "<table border=\"1\" class=\"dataframe\">\n",
       "  <thead>\n",
       "    <tr style=\"text-align: right;\">\n",
       "      <th></th>\n",
       "      <th>dur</th>\n",
       "      <th>proto</th>\n",
       "      <th>service</th>\n",
       "      <th>state</th>\n",
       "      <th>spkts</th>\n",
       "      <th>dpkts</th>\n",
       "      <th>sbytes</th>\n",
       "      <th>dbytes</th>\n",
       "      <th>rate</th>\n",
       "      <th>sttl</th>\n",
       "      <th>...</th>\n",
       "      <th>ct_src_dport_ltm</th>\n",
       "      <th>ct_dst_sport_ltm</th>\n",
       "      <th>ct_dst_src_ltm</th>\n",
       "      <th>is_ftp_login</th>\n",
       "      <th>ct_ftp_cmd</th>\n",
       "      <th>ct_flw_http_mthd</th>\n",
       "      <th>ct_src_ltm</th>\n",
       "      <th>ct_srv_dst</th>\n",
       "      <th>is_sm_ips_ports</th>\n",
       "      <th>label</th>\n",
       "    </tr>\n",
       "  </thead>\n",
       "  <tbody>\n",
       "    <tr>\n",
       "      <th>0</th>\n",
       "      <td>0.000011</td>\n",
       "      <td>udp</td>\n",
       "      <td>-</td>\n",
       "      <td>INT</td>\n",
       "      <td>0.693147</td>\n",
       "      <td>0.0</td>\n",
       "      <td>6.206576</td>\n",
       "      <td>0.0</td>\n",
       "      <td>11.417626</td>\n",
       "      <td>254</td>\n",
       "      <td>...</td>\n",
       "      <td>1.0</td>\n",
       "      <td>1.0</td>\n",
       "      <td>2.0</td>\n",
       "      <td>0</td>\n",
       "      <td>0</td>\n",
       "      <td>0.0</td>\n",
       "      <td>1.0</td>\n",
       "      <td>2.0</td>\n",
       "      <td>0</td>\n",
       "      <td>0</td>\n",
       "    </tr>\n",
       "    <tr>\n",
       "      <th>1</th>\n",
       "      <td>0.000008</td>\n",
       "      <td>udp</td>\n",
       "      <td>-</td>\n",
       "      <td>INT</td>\n",
       "      <td>0.693147</td>\n",
       "      <td>0.0</td>\n",
       "      <td>7.474205</td>\n",
       "      <td>0.0</td>\n",
       "      <td>11.736077</td>\n",
       "      <td>254</td>\n",
       "      <td>...</td>\n",
       "      <td>1.0</td>\n",
       "      <td>1.0</td>\n",
       "      <td>2.0</td>\n",
       "      <td>0</td>\n",
       "      <td>0</td>\n",
       "      <td>0.0</td>\n",
       "      <td>1.0</td>\n",
       "      <td>2.0</td>\n",
       "      <td>0</td>\n",
       "      <td>0</td>\n",
       "    </tr>\n",
       "    <tr>\n",
       "      <th>2</th>\n",
       "      <td>0.000005</td>\n",
       "      <td>udp</td>\n",
       "      <td>-</td>\n",
       "      <td>INT</td>\n",
       "      <td>0.693147</td>\n",
       "      <td>0.0</td>\n",
       "      <td>6.973543</td>\n",
       "      <td>0.0</td>\n",
       "      <td>12.206078</td>\n",
       "      <td>254</td>\n",
       "      <td>...</td>\n",
       "      <td>1.0</td>\n",
       "      <td>1.0</td>\n",
       "      <td>3.0</td>\n",
       "      <td>0</td>\n",
       "      <td>0</td>\n",
       "      <td>0.0</td>\n",
       "      <td>1.0</td>\n",
       "      <td>3.0</td>\n",
       "      <td>0</td>\n",
       "      <td>0</td>\n",
       "    </tr>\n",
       "    <tr>\n",
       "      <th>3</th>\n",
       "      <td>0.000006</td>\n",
       "      <td>udp</td>\n",
       "      <td>-</td>\n",
       "      <td>INT</td>\n",
       "      <td>0.693147</td>\n",
       "      <td>0.0</td>\n",
       "      <td>6.802395</td>\n",
       "      <td>0.0</td>\n",
       "      <td>12.023757</td>\n",
       "      <td>254</td>\n",
       "      <td>...</td>\n",
       "      <td>2.0</td>\n",
       "      <td>1.0</td>\n",
       "      <td>3.0</td>\n",
       "      <td>0</td>\n",
       "      <td>0</td>\n",
       "      <td>0.0</td>\n",
       "      <td>2.0</td>\n",
       "      <td>3.0</td>\n",
       "      <td>0</td>\n",
       "      <td>0</td>\n",
       "    </tr>\n",
       "    <tr>\n",
       "      <th>4</th>\n",
       "      <td>0.000010</td>\n",
       "      <td>udp</td>\n",
       "      <td>-</td>\n",
       "      <td>INT</td>\n",
       "      <td>0.693147</td>\n",
       "      <td>0.0</td>\n",
       "      <td>7.661998</td>\n",
       "      <td>0.0</td>\n",
       "      <td>11.512935</td>\n",
       "      <td>254</td>\n",
       "      <td>...</td>\n",
       "      <td>2.0</td>\n",
       "      <td>1.0</td>\n",
       "      <td>3.0</td>\n",
       "      <td>0</td>\n",
       "      <td>0</td>\n",
       "      <td>0.0</td>\n",
       "      <td>2.0</td>\n",
       "      <td>3.0</td>\n",
       "      <td>0</td>\n",
       "      <td>0</td>\n",
       "    </tr>\n",
       "  </tbody>\n",
       "</table>\n",
       "<p>5 rows × 43 columns</p>\n",
       "</div>"
      ],
      "text/plain": [
       "        dur proto service state     spkts  dpkts    sbytes  dbytes       rate   \n",
       "0  0.000011   udp       -   INT  0.693147    0.0  6.206576     0.0  11.417626  \\\n",
       "1  0.000008   udp       -   INT  0.693147    0.0  7.474205     0.0  11.736077   \n",
       "2  0.000005   udp       -   INT  0.693147    0.0  6.973543     0.0  12.206078   \n",
       "3  0.000006   udp       -   INT  0.693147    0.0  6.802395     0.0  12.023757   \n",
       "4  0.000010   udp       -   INT  0.693147    0.0  7.661998     0.0  11.512935   \n",
       "\n",
       "   sttl  ...  ct_src_dport_ltm  ct_dst_sport_ltm  ct_dst_src_ltm   \n",
       "0   254  ...               1.0               1.0             2.0  \\\n",
       "1   254  ...               1.0               1.0             2.0   \n",
       "2   254  ...               1.0               1.0             3.0   \n",
       "3   254  ...               2.0               1.0             3.0   \n",
       "4   254  ...               2.0               1.0             3.0   \n",
       "\n",
       "   is_ftp_login  ct_ftp_cmd  ct_flw_http_mthd  ct_src_ltm  ct_srv_dst   \n",
       "0             0           0               0.0         1.0         2.0  \\\n",
       "1             0           0               0.0         1.0         2.0   \n",
       "2             0           0               0.0         1.0         3.0   \n",
       "3             0           0               0.0         2.0         3.0   \n",
       "4             0           0               0.0         2.0         3.0   \n",
       "\n",
       "   is_sm_ips_ports  label  \n",
       "0                0      0  \n",
       "1                0      0  \n",
       "2                0      0  \n",
       "3                0      0  \n",
       "4                0      0  \n",
       "\n",
       "[5 rows x 43 columns]"
      ]
     },
     "execution_count": 78,
     "metadata": {},
     "output_type": "execute_result"
    }
   ],
   "source": [
    "df.head()"
   ]
  },
  {
   "cell_type": "code",
   "execution_count": 32,
   "id": "8308657f",
   "metadata": {
    "execution": {
     "iopub.execute_input": "2023-09-07T03:12:32.441806Z",
     "iopub.status.busy": "2023-09-07T03:12:32.440769Z",
     "iopub.status.idle": "2023-09-07T03:12:32.456214Z",
     "shell.execute_reply": "2023-09-07T03:12:32.455212Z"
    },
    "papermill": {
     "duration": 0.078584,
     "end_time": "2023-09-07T03:12:32.458959",
     "exception": false,
     "start_time": "2023-09-07T03:12:32.380375",
     "status": "completed"
    },
    "tags": []
   },
   "outputs": [],
   "source": [
    "X = df.iloc[:,:-1]\n",
    "y = df.iloc[:,-1]"
   ]
  },
  {
   "cell_type": "code",
   "execution_count": 33,
   "id": "74e50f90",
   "metadata": {},
   "outputs": [
    {
     "data": {
      "text/plain": [
       "label\n",
       "1    45332\n",
       "0    37000\n",
       "Name: count, dtype: int64"
      ]
     },
     "execution_count": 33,
     "metadata": {},
     "output_type": "execute_result"
    }
   ],
   "source": [
    "y.value_counts()"
   ]
  },
  {
   "cell_type": "code",
   "execution_count": 34,
   "id": "ff0a90f2",
   "metadata": {
    "execution": {
     "iopub.execute_input": "2023-09-07T03:12:32.578554Z",
     "iopub.status.busy": "2023-09-07T03:12:32.577979Z",
     "iopub.status.idle": "2023-09-07T03:12:32.584700Z",
     "shell.execute_reply": "2023-09-07T03:12:32.583891Z"
    },
    "papermill": {
     "duration": 0.068532,
     "end_time": "2023-09-07T03:12:32.586986",
     "exception": false,
     "start_time": "2023-09-07T03:12:32.518454",
     "status": "completed"
    },
    "tags": []
   },
   "outputs": [
    {
     "data": {
      "text/plain": [
       "(82332, 42)"
      ]
     },
     "execution_count": 34,
     "metadata": {},
     "output_type": "execute_result"
    }
   ],
   "source": [
    "X.head()\n",
    "feature_names = list(X.columns)\n",
    "np.shape(X)"
   ]
  },
  {
   "cell_type": "code",
   "execution_count": 35,
   "id": "f6dec6ea",
   "metadata": {
    "execution": {
     "iopub.execute_input": "2023-09-07T03:12:32.708826Z",
     "iopub.status.busy": "2023-09-07T03:12:32.708380Z",
     "iopub.status.idle": "2023-09-07T03:12:33.086025Z",
     "shell.execute_reply": "2023-09-07T03:12:33.084672Z"
    },
    "papermill": {
     "duration": 0.439553,
     "end_time": "2023-09-07T03:12:33.089145",
     "exception": false,
     "start_time": "2023-09-07T03:12:32.649592",
     "status": "completed"
    },
    "tags": []
   },
   "outputs": [],
   "source": [
    "from sklearn.compose import ColumnTransformer\n",
    "from sklearn.preprocessing import OneHotEncoder\n",
    "ct = ColumnTransformer(transformers=[('encoder', OneHotEncoder(), [1,2,3])], remainder='passthrough')\n",
    "X = np.array(ct.fit_transform(X))"
   ]
  },
  {
   "cell_type": "code",
   "execution_count": 36,
   "id": "7b44dd3f",
   "metadata": {
    "execution": {
     "iopub.execute_input": "2023-09-07T03:12:33.206484Z",
     "iopub.status.busy": "2023-09-07T03:12:33.206087Z",
     "iopub.status.idle": "2023-09-07T03:12:33.213208Z",
     "shell.execute_reply": "2023-09-07T03:12:33.212165Z"
    },
    "papermill": {
     "duration": 0.069628,
     "end_time": "2023-09-07T03:12:33.215849",
     "exception": false,
     "start_time": "2023-09-07T03:12:33.146221",
     "status": "completed"
    },
    "tags": []
   },
   "outputs": [
    {
     "data": {
      "text/plain": [
       "(82332, 56)"
      ]
     },
     "execution_count": 36,
     "metadata": {},
     "output_type": "execute_result"
    }
   ],
   "source": [
    "np.shape(X)"
   ]
  },
  {
   "cell_type": "code",
   "execution_count": 37,
   "id": "798c1823",
   "metadata": {
    "execution": {
     "iopub.execute_input": "2023-09-07T03:12:33.335261Z",
     "iopub.status.busy": "2023-09-07T03:12:33.334670Z",
     "iopub.status.idle": "2023-09-07T03:12:33.420677Z",
     "shell.execute_reply": "2023-09-07T03:12:33.419662Z"
    },
    "papermill": {
     "duration": 0.150197,
     "end_time": "2023-09-07T03:12:33.423527",
     "exception": false,
     "start_time": "2023-09-07T03:12:33.273330",
     "status": "completed"
    },
    "tags": []
   },
   "outputs": [
    {
     "data": {
      "text/html": [
       "<div>\n",
       "<style scoped>\n",
       "    .dataframe tbody tr th:only-of-type {\n",
       "        vertical-align: middle;\n",
       "    }\n",
       "\n",
       "    .dataframe tbody tr th {\n",
       "        vertical-align: top;\n",
       "    }\n",
       "\n",
       "    .dataframe thead th {\n",
       "        text-align: right;\n",
       "    }\n",
       "</style>\n",
       "<table border=\"1\" class=\"dataframe\">\n",
       "  <thead>\n",
       "    <tr style=\"text-align: right;\">\n",
       "      <th></th>\n",
       "      <th>proto</th>\n",
       "      <th>service</th>\n",
       "      <th>state</th>\n",
       "    </tr>\n",
       "  </thead>\n",
       "  <tbody>\n",
       "    <tr>\n",
       "      <th>count</th>\n",
       "      <td>82332</td>\n",
       "      <td>82332</td>\n",
       "      <td>82332</td>\n",
       "    </tr>\n",
       "    <tr>\n",
       "      <th>unique</th>\n",
       "      <td>6</td>\n",
       "      <td>5</td>\n",
       "      <td>6</td>\n",
       "    </tr>\n",
       "    <tr>\n",
       "      <th>top</th>\n",
       "      <td>tcp</td>\n",
       "      <td>-</td>\n",
       "      <td>FIN</td>\n",
       "    </tr>\n",
       "    <tr>\n",
       "      <th>freq</th>\n",
       "      <td>43095</td>\n",
       "      <td>49275</td>\n",
       "      <td>39339</td>\n",
       "    </tr>\n",
       "  </tbody>\n",
       "</table>\n",
       "</div>"
      ],
      "text/plain": [
       "        proto service  state\n",
       "count   82332   82332  82332\n",
       "unique      6       5      6\n",
       "top       tcp       -    FIN\n",
       "freq    43095   49275  39339"
      ]
     },
     "execution_count": 37,
     "metadata": {},
     "output_type": "execute_result"
    }
   ],
   "source": [
    "df_cat.describe(include='all')"
   ]
  },
  {
   "cell_type": "code",
   "execution_count": 38,
   "id": "5dcceab8",
   "metadata": {
    "execution": {
     "iopub.execute_input": "2023-09-07T03:12:33.546763Z",
     "iopub.status.busy": "2023-09-07T03:12:33.546417Z",
     "iopub.status.idle": "2023-09-07T03:12:33.553215Z",
     "shell.execute_reply": "2023-09-07T03:12:33.552502Z"
    },
    "papermill": {
     "duration": 0.073031,
     "end_time": "2023-09-07T03:12:33.555298",
     "exception": false,
     "start_time": "2023-09-07T03:12:33.482267",
     "status": "completed"
    },
    "tags": []
   },
   "outputs": [
    {
     "data": {
      "text/plain": [
       "array([0.00000000e+00, 0.00000000e+00, 0.00000000e+00, 0.00000000e+00,\n",
       "       1.00000000e+00, 0.00000000e+00, 1.00000000e+00, 0.00000000e+00,\n",
       "       0.00000000e+00, 0.00000000e+00, 0.00000000e+00, 0.00000000e+00,\n",
       "       0.00000000e+00, 0.00000000e+00, 0.00000000e+00, 1.00000000e+00,\n",
       "       0.00000000e+00, 1.09999395e-05, 6.93147181e-01, 0.00000000e+00,\n",
       "       6.20657593e+00, 0.00000000e+00, 1.14176263e+01, 2.54000000e+02,\n",
       "       0.00000000e+00, 1.90104856e+01, 0.00000000e+00, 0.00000000e+00,\n",
       "       0.00000000e+00, 1.09399400e-02, 0.00000000e+00, 0.00000000e+00,\n",
       "       0.00000000e+00, 0.00000000e+00, 0.00000000e+00, 0.00000000e+00,\n",
       "       0.00000000e+00, 0.00000000e+00, 0.00000000e+00, 0.00000000e+00,\n",
       "       5.51342875e+00, 0.00000000e+00, 0.00000000e+00, 0.00000000e+00,\n",
       "       2.00000000e+00, 2.00000000e+00, 1.00000000e+00, 1.00000000e+00,\n",
       "       1.00000000e+00, 2.00000000e+00, 0.00000000e+00, 0.00000000e+00,\n",
       "       0.00000000e+00, 1.00000000e+00, 2.00000000e+00, 0.00000000e+00])"
      ]
     },
     "execution_count": 38,
     "metadata": {},
     "output_type": "execute_result"
    }
   ],
   "source": [
    "X[0]"
   ]
  },
  {
   "cell_type": "code",
   "execution_count": 39,
   "id": "8c3bcbf3",
   "metadata": {
    "execution": {
     "iopub.execute_input": "2023-09-07T03:12:33.807706Z",
     "iopub.status.busy": "2023-09-07T03:12:33.807103Z",
     "iopub.status.idle": "2023-09-07T03:12:33.855265Z",
     "shell.execute_reply": "2023-09-07T03:12:33.854210Z"
    },
    "papermill": {
     "duration": 0.111652,
     "end_time": "2023-09-07T03:12:33.858181",
     "exception": false,
     "start_time": "2023-09-07T03:12:33.746529",
     "status": "completed"
    },
    "tags": []
   },
   "outputs": [],
   "source": [
    "for label in list(df_cat['state'].value_counts().index)[::-1][1:]:\n",
    "    feature_names.insert(0,label)\n",
    "    \n",
    "for label in list(df_cat['service'].value_counts().index)[::-1][1:]:\n",
    "    feature_names.insert(0,label)\n",
    "    \n",
    "for label in list(df_cat['proto'].value_counts().index)[::-1][1:]:\n",
    "    feature_names.insert(0,label)"
   ]
  },
  {
   "cell_type": "code",
   "execution_count": 40,
   "id": "c71c5dac",
   "metadata": {
    "execution": {
     "iopub.execute_input": "2023-09-07T03:12:34.113755Z",
     "iopub.status.busy": "2023-09-07T03:12:34.113404Z",
     "iopub.status.idle": "2023-09-07T03:12:34.233161Z",
     "shell.execute_reply": "2023-09-07T03:12:34.232190Z"
    },
    "papermill": {
     "duration": 0.18552,
     "end_time": "2023-09-07T03:12:34.235729",
     "exception": false,
     "start_time": "2023-09-07T03:12:34.050209",
     "status": "completed"
    },
    "tags": []
   },
   "outputs": [],
   "source": [
    "from sklearn.model_selection import train_test_split\n",
    "X_train, X_test, y_train, y_test = train_test_split(X, y, \n",
    "                                                    test_size = 0.2, \n",
    "                                                    random_state = 0,\n",
    "                                                    stratify=y)"
   ]
  },
  {
   "cell_type": "code",
   "execution_count": 41,
   "id": "445e7671",
   "metadata": {
    "execution": {
     "iopub.execute_input": "2023-09-07T03:12:34.359503Z",
     "iopub.status.busy": "2023-09-07T03:12:34.359203Z",
     "iopub.status.idle": "2023-09-07T03:12:34.443906Z",
     "shell.execute_reply": "2023-09-07T03:12:34.442627Z"
    },
    "papermill": {
     "duration": 0.15037,
     "end_time": "2023-09-07T03:12:34.446371",
     "exception": false,
     "start_time": "2023-09-07T03:12:34.296001",
     "status": "completed"
    },
    "tags": []
   },
   "outputs": [
    {
     "data": {
      "text/html": [
       "<div>\n",
       "<style scoped>\n",
       "    .dataframe tbody tr th:only-of-type {\n",
       "        vertical-align: middle;\n",
       "    }\n",
       "\n",
       "    .dataframe tbody tr th {\n",
       "        vertical-align: top;\n",
       "    }\n",
       "\n",
       "    .dataframe thead th {\n",
       "        text-align: right;\n",
       "    }\n",
       "</style>\n",
       "<table border=\"1\" class=\"dataframe\">\n",
       "  <thead>\n",
       "    <tr style=\"text-align: right;\">\n",
       "      <th></th>\n",
       "      <th>proto</th>\n",
       "      <th>service</th>\n",
       "      <th>state</th>\n",
       "    </tr>\n",
       "  </thead>\n",
       "  <tbody>\n",
       "    <tr>\n",
       "      <th>count</th>\n",
       "      <td>82332</td>\n",
       "      <td>82332</td>\n",
       "      <td>82332</td>\n",
       "    </tr>\n",
       "    <tr>\n",
       "      <th>unique</th>\n",
       "      <td>6</td>\n",
       "      <td>5</td>\n",
       "      <td>6</td>\n",
       "    </tr>\n",
       "    <tr>\n",
       "      <th>top</th>\n",
       "      <td>tcp</td>\n",
       "      <td>-</td>\n",
       "      <td>FIN</td>\n",
       "    </tr>\n",
       "    <tr>\n",
       "      <th>freq</th>\n",
       "      <td>43095</td>\n",
       "      <td>49275</td>\n",
       "      <td>39339</td>\n",
       "    </tr>\n",
       "  </tbody>\n",
       "</table>\n",
       "</div>"
      ],
      "text/plain": [
       "        proto service  state\n",
       "count   82332   82332  82332\n",
       "unique      6       5      6\n",
       "top       tcp       -    FIN\n",
       "freq    43095   49275  39339"
      ]
     },
     "execution_count": 41,
     "metadata": {},
     "output_type": "execute_result"
    }
   ],
   "source": [
    "df_cat.describe(include='all')"
   ]
  },
  {
   "cell_type": "code",
   "execution_count": 42,
   "id": "96749d19",
   "metadata": {
    "execution": {
     "iopub.execute_input": "2023-09-07T03:12:34.569373Z",
     "iopub.status.busy": "2023-09-07T03:12:34.569016Z",
     "iopub.status.idle": "2023-09-07T03:12:34.637122Z",
     "shell.execute_reply": "2023-09-07T03:12:34.635880Z"
    },
    "papermill": {
     "duration": 0.133594,
     "end_time": "2023-09-07T03:12:34.640067",
     "exception": false,
     "start_time": "2023-09-07T03:12:34.506473",
     "status": "completed"
    },
    "tags": []
   },
   "outputs": [],
   "source": [
    "from sklearn.preprocessing import StandardScaler\n",
    "sc = StandardScaler()\n",
    "X_train[:, 18:] = sc.fit_transform(X_train[:, 18:])\n",
    "X_test[:, 18:] = sc.transform(X_test[:, 18:])"
   ]
  },
  {
   "cell_type": "code",
   "execution_count": 43,
   "id": "86aeb177",
   "metadata": {
    "execution": {
     "iopub.execute_input": "2023-09-07T03:12:34.765269Z",
     "iopub.status.busy": "2023-09-07T03:12:34.764944Z",
     "iopub.status.idle": "2023-09-07T03:12:34.773687Z",
     "shell.execute_reply": "2023-09-07T03:12:34.772534Z"
    },
    "papermill": {
     "duration": 0.072649,
     "end_time": "2023-09-07T03:12:34.776293",
     "exception": false,
     "start_time": "2023-09-07T03:12:34.703644",
     "status": "completed"
    },
    "tags": []
   },
   "outputs": [],
   "source": [
    "from sklearn.metrics import f1_score, precision_score, recall_score, accuracy_score\n",
    "from sklearn.metrics import confusion_matrix\n",
    "import time\n",
    "model_performance = pd.DataFrame(columns=['Accuracy','Recall','Precision','F1-Score','time to train','time to predict','total time'])\n"
   ]
  },
  {
   "cell_type": "code",
   "execution_count": 44,
   "id": "5b45729a",
   "metadata": {
    "execution": {
     "iopub.execute_input": "2023-09-07T03:12:34.900923Z",
     "iopub.status.busy": "2023-09-07T03:12:34.900570Z",
     "iopub.status.idle": "2023-09-07T03:12:57.185520Z",
     "shell.execute_reply": "2023-09-07T03:12:57.184072Z"
    },
    "papermill": {
     "duration": 22.350646,
     "end_time": "2023-09-07T03:12:57.189040",
     "exception": false,
     "start_time": "2023-09-07T03:12:34.838394",
     "status": "completed"
    },
    "tags": []
   },
   "outputs": [],
   "source": [
    "from tensorflow.keras.models import Sequential\n",
    "from tensorflow.keras.layers import Dense, LSTM, GRU\n",
    "from keras import metrics\n",
    "import keras\n",
    "import numpy as np\n",
    "from numpy import array"
   ]
  },
  {
   "cell_type": "code",
   "execution_count": 45,
   "id": "496082ba",
   "metadata": {},
   "outputs": [],
   "source": [
    "from keras import backend as K\n",
    "\n",
    "def recall_m(y_true, y_pred):\n",
    "    true_positives = K.sum(K.round(K.clip(y_true * y_pred, 0, 1)))\n",
    "    possible_positives = K.sum(K.round(K.clip(y_true, 0, 1)))\n",
    "    recall = true_positives / (possible_positives + K.epsilon())\n",
    "    return recall\n",
    "\n",
    "def precision_m(y_true, y_pred):\n",
    "    true_positives = K.sum(K.round(K.clip(y_true * y_pred, 0, 1)))\n",
    "    predicted_positives = K.sum(K.round(K.clip(y_pred, 0, 1)))\n",
    "    precision = true_positives / (predicted_positives + K.epsilon())\n",
    "    return precision\n",
    "\n",
    "def f1_m(y_true, y_pred):\n",
    "    precision = precision_m(y_true, y_pred)\n",
    "    recall = recall_m(y_true, y_pred)\n",
    "    return 2*((precision*recall)/(precision+recall+K.epsilon()))"
   ]
  },
  {
   "cell_type": "code",
   "execution_count": 46,
   "id": "30e4361d",
   "metadata": {},
   "outputs": [
    {
     "name": "stdout",
     "output_type": "stream",
     "text": [
      "WARNING:tensorflow:From c:\\Users\\saidi\\AppData\\Local\\Programs\\Python\\Python311\\Lib\\site-packages\\keras\\src\\optimizers\\__init__.py:309: The name tf.train.Optimizer is deprecated. Please use tf.compat.v1.train.Optimizer instead.\n",
      "\n",
      "Epoch 1/200\n",
      "WARNING:tensorflow:From c:\\Users\\saidi\\AppData\\Local\\Programs\\Python\\Python311\\Lib\\site-packages\\keras\\src\\utils\\tf_utils.py:492: The name tf.ragged.RaggedTensorValue is deprecated. Please use tf.compat.v1.ragged.RaggedTensorValue instead.\n",
      "\n",
      "WARNING:tensorflow:From c:\\Users\\saidi\\AppData\\Local\\Programs\\Python\\Python311\\Lib\\site-packages\\keras\\src\\engine\\base_layer_utils.py:384: The name tf.executing_eagerly_outside_functions is deprecated. Please use tf.compat.v1.executing_eagerly_outside_functions instead.\n",
      "\n",
      "33/33 - 2s - loss: 2.4856 - accuracy: 0.3977 - f1_m: 0.0622 - precision_m: 0.2398 - recall_m: 0.0362 - 2s/epoch - 60ms/step\n",
      "Epoch 2/200\n",
      "33/33 - 0s - loss: 1.4146 - accuracy: 0.5536 - f1_m: 0.6403 - precision_m: 0.8955 - recall_m: 0.5248 - 78ms/epoch - 2ms/step\n",
      "Epoch 3/200\n",
      "33/33 - 0s - loss: 0.7696 - accuracy: 0.6739 - f1_m: 0.7305 - precision_m: 0.7566 - recall_m: 0.7141 - 113ms/epoch - 3ms/step\n",
      "Epoch 4/200\n",
      "33/33 - 0s - loss: 0.5214 - accuracy: 0.7485 - f1_m: 0.7132 - precision_m: 0.5756 - recall_m: 0.9416 - 75ms/epoch - 2ms/step\n",
      "Epoch 5/200\n",
      "33/33 - 0s - loss: 0.4282 - accuracy: 0.7669 - f1_m: 0.7028 - precision_m: 0.5534 - recall_m: 0.9631 - 71ms/epoch - 2ms/step\n",
      "Epoch 6/200\n",
      "33/33 - 0s - loss: 0.3711 - accuracy: 0.7916 - f1_m: 0.7008 - precision_m: 0.5563 - recall_m: 0.9472 - 70ms/epoch - 2ms/step\n",
      "Epoch 7/200\n",
      "33/33 - 0s - loss: 0.3352 - accuracy: 0.8166 - f1_m: 0.7019 - precision_m: 0.5532 - recall_m: 0.9602 - 75ms/epoch - 2ms/step\n",
      "Epoch 8/200\n",
      "33/33 - 0s - loss: 0.3092 - accuracy: 0.8356 - f1_m: 0.7051 - precision_m: 0.5518 - recall_m: 0.9765 - 74ms/epoch - 2ms/step\n",
      "Epoch 9/200\n",
      "33/33 - 0s - loss: 0.2862 - accuracy: 0.8555 - f1_m: 0.7066 - precision_m: 0.5508 - recall_m: 0.9856 - 78ms/epoch - 2ms/step\n",
      "Epoch 10/200\n",
      "33/33 - 0s - loss: 0.2661 - accuracy: 0.8752 - f1_m: 0.7091 - precision_m: 0.5508 - recall_m: 0.9953 - 82ms/epoch - 2ms/step\n",
      "Epoch 11/200\n",
      "33/33 - 0s - loss: 0.2494 - accuracy: 0.8876 - f1_m: 0.7099 - precision_m: 0.5508 - recall_m: 0.9984 - 70ms/epoch - 2ms/step\n",
      "Epoch 12/200\n",
      "33/33 - 0s - loss: 0.2354 - accuracy: 0.8955 - f1_m: 0.7099 - precision_m: 0.5506 - recall_m: 0.9991 - 77ms/epoch - 2ms/step\n",
      "Epoch 13/200\n",
      "33/33 - 0s - loss: 0.2234 - accuracy: 0.8990 - f1_m: 0.7100 - precision_m: 0.5507 - recall_m: 0.9994 - 77ms/epoch - 2ms/step\n",
      "Epoch 14/200\n",
      "33/33 - 0s - loss: 0.2137 - accuracy: 0.9051 - f1_m: 0.7101 - precision_m: 0.5507 - recall_m: 0.9995 - 76ms/epoch - 2ms/step\n",
      "Epoch 15/200\n",
      "33/33 - 0s - loss: 0.2054 - accuracy: 0.9078 - f1_m: 0.7100 - precision_m: 0.5506 - recall_m: 0.9996 - 84ms/epoch - 3ms/step\n",
      "Epoch 16/200\n",
      "33/33 - 0s - loss: 0.1987 - accuracy: 0.9094 - f1_m: 0.7100 - precision_m: 0.5506 - recall_m: 0.9997 - 85ms/epoch - 3ms/step\n",
      "Epoch 17/200\n",
      "33/33 - 0s - loss: 0.1931 - accuracy: 0.9127 - f1_m: 0.7101 - precision_m: 0.5506 - recall_m: 0.9998 - 75ms/epoch - 2ms/step\n",
      "Epoch 18/200\n",
      "33/33 - 0s - loss: 0.1888 - accuracy: 0.9143 - f1_m: 0.7100 - precision_m: 0.5506 - recall_m: 0.9997 - 80ms/epoch - 2ms/step\n",
      "Epoch 19/200\n",
      "33/33 - 0s - loss: 0.1847 - accuracy: 0.9164 - f1_m: 0.7101 - precision_m: 0.5507 - recall_m: 0.9998 - 76ms/epoch - 2ms/step\n",
      "Epoch 20/200\n",
      "33/33 - 0s - loss: 0.1812 - accuracy: 0.9187 - f1_m: 0.7101 - precision_m: 0.5506 - recall_m: 0.9999 - 84ms/epoch - 3ms/step\n",
      "Epoch 21/200\n",
      "33/33 - 0s - loss: 0.1779 - accuracy: 0.9207 - f1_m: 0.7101 - precision_m: 0.5506 - recall_m: 0.9999 - 90ms/epoch - 3ms/step\n",
      "Epoch 22/200\n",
      "33/33 - 0s - loss: 0.1752 - accuracy: 0.9220 - f1_m: 0.7101 - precision_m: 0.5506 - recall_m: 0.9999 - 92ms/epoch - 3ms/step\n",
      "Epoch 23/200\n",
      "33/33 - 0s - loss: 0.1726 - accuracy: 0.9236 - f1_m: 0.7101 - precision_m: 0.5506 - recall_m: 0.9998 - 90ms/epoch - 3ms/step\n",
      "Epoch 24/200\n",
      "33/33 - 0s - loss: 0.1697 - accuracy: 0.9258 - f1_m: 0.7100 - precision_m: 0.5505 - recall_m: 0.9998 - 91ms/epoch - 3ms/step\n",
      "Epoch 25/200\n",
      "33/33 - 0s - loss: 0.1668 - accuracy: 0.9271 - f1_m: 0.7101 - precision_m: 0.5506 - recall_m: 0.9998 - 74ms/epoch - 2ms/step\n",
      "Epoch 26/200\n",
      "33/33 - 0s - loss: 0.1645 - accuracy: 0.9283 - f1_m: 0.7101 - precision_m: 0.5506 - recall_m: 1.0000 - 82ms/epoch - 2ms/step\n",
      "Epoch 27/200\n",
      "33/33 - 0s - loss: 0.1618 - accuracy: 0.9298 - f1_m: 0.7101 - precision_m: 0.5506 - recall_m: 0.9999 - 129ms/epoch - 4ms/step\n",
      "Epoch 28/200\n",
      "33/33 - 0s - loss: 0.1594 - accuracy: 0.9310 - f1_m: 0.7101 - precision_m: 0.5506 - recall_m: 0.9999 - 71ms/epoch - 2ms/step\n",
      "Epoch 29/200\n",
      "33/33 - 0s - loss: 0.1571 - accuracy: 0.9316 - f1_m: 0.7101 - precision_m: 0.5506 - recall_m: 0.9998 - 81ms/epoch - 2ms/step\n",
      "Epoch 30/200\n",
      "33/33 - 0s - loss: 0.1551 - accuracy: 0.9332 - f1_m: 0.7101 - precision_m: 0.5506 - recall_m: 0.9999 - 81ms/epoch - 2ms/step\n",
      "Epoch 31/200\n",
      "33/33 - 0s - loss: 0.1526 - accuracy: 0.9352 - f1_m: 0.7101 - precision_m: 0.5506 - recall_m: 0.9999 - 69ms/epoch - 2ms/step\n",
      "Epoch 32/200\n",
      "33/33 - 0s - loss: 0.1513 - accuracy: 0.9358 - f1_m: 0.7101 - precision_m: 0.5506 - recall_m: 1.0000 - 75ms/epoch - 2ms/step\n",
      "Epoch 33/200\n",
      "33/33 - 0s - loss: 0.1494 - accuracy: 0.9364 - f1_m: 0.7101 - precision_m: 0.5506 - recall_m: 0.9999 - 68ms/epoch - 2ms/step\n",
      "Epoch 34/200\n",
      "33/33 - 0s - loss: 0.1468 - accuracy: 0.9384 - f1_m: 0.7101 - precision_m: 0.5506 - recall_m: 1.0000 - 71ms/epoch - 2ms/step\n",
      "Epoch 35/200\n",
      "33/33 - 0s - loss: 0.1451 - accuracy: 0.9394 - f1_m: 0.7101 - precision_m: 0.5506 - recall_m: 1.0000 - 75ms/epoch - 2ms/step\n",
      "Epoch 36/200\n",
      "33/33 - 0s - loss: 0.1434 - accuracy: 0.9407 - f1_m: 0.7101 - precision_m: 0.5506 - recall_m: 0.9999 - 76ms/epoch - 2ms/step\n",
      "Epoch 37/200\n",
      "33/33 - 0s - loss: 0.1418 - accuracy: 0.9414 - f1_m: 0.7101 - precision_m: 0.5506 - recall_m: 0.9999 - 67ms/epoch - 2ms/step\n",
      "Epoch 38/200\n",
      "33/33 - 0s - loss: 0.1407 - accuracy: 0.9419 - f1_m: 0.7101 - precision_m: 0.5506 - recall_m: 1.0000 - 69ms/epoch - 2ms/step\n",
      "Epoch 39/200\n",
      "33/33 - 0s - loss: 0.1392 - accuracy: 0.9435 - f1_m: 0.7101 - precision_m: 0.5506 - recall_m: 1.0000 - 74ms/epoch - 2ms/step\n",
      "Epoch 40/200\n",
      "33/33 - 0s - loss: 0.1376 - accuracy: 0.9443 - f1_m: 0.7101 - precision_m: 0.5506 - recall_m: 0.9999 - 60ms/epoch - 2ms/step\n",
      "Epoch 41/200\n",
      "33/33 - 0s - loss: 0.1358 - accuracy: 0.9450 - f1_m: 0.7101 - precision_m: 0.5506 - recall_m: 0.9999 - 60ms/epoch - 2ms/step\n",
      "Epoch 42/200\n",
      "33/33 - 0s - loss: 0.1348 - accuracy: 0.9465 - f1_m: 0.7101 - precision_m: 0.5506 - recall_m: 1.0000 - 56ms/epoch - 2ms/step\n",
      "Epoch 43/200\n",
      "33/33 - 0s - loss: 0.1334 - accuracy: 0.9469 - f1_m: 0.7100 - precision_m: 0.5506 - recall_m: 0.9999 - 58ms/epoch - 2ms/step\n",
      "Epoch 44/200\n",
      "33/33 - 0s - loss: 0.1328 - accuracy: 0.9472 - f1_m: 0.7101 - precision_m: 0.5506 - recall_m: 0.9999 - 61ms/epoch - 2ms/step\n",
      "Epoch 45/200\n",
      "33/33 - 0s - loss: 0.1319 - accuracy: 0.9477 - f1_m: 0.7101 - precision_m: 0.5506 - recall_m: 1.0000 - 81ms/epoch - 2ms/step\n",
      "Epoch 46/200\n",
      "33/33 - 0s - loss: 0.1303 - accuracy: 0.9490 - f1_m: 0.7101 - precision_m: 0.5506 - recall_m: 0.9999 - 53ms/epoch - 2ms/step\n",
      "Epoch 47/200\n",
      "33/33 - 0s - loss: 0.1297 - accuracy: 0.9490 - f1_m: 0.7101 - precision_m: 0.5506 - recall_m: 1.0000 - 61ms/epoch - 2ms/step\n",
      "Epoch 48/200\n",
      "33/33 - 0s - loss: 0.1282 - accuracy: 0.9498 - f1_m: 0.7101 - precision_m: 0.5506 - recall_m: 1.0000 - 91ms/epoch - 3ms/step\n",
      "Epoch 49/200\n",
      "33/33 - 0s - loss: 0.1275 - accuracy: 0.9507 - f1_m: 0.7101 - precision_m: 0.5505 - recall_m: 0.9999 - 51ms/epoch - 2ms/step\n",
      "Epoch 50/200\n",
      "33/33 - 0s - loss: 0.1266 - accuracy: 0.9517 - f1_m: 0.7101 - precision_m: 0.5506 - recall_m: 1.0000 - 64ms/epoch - 2ms/step\n",
      "Epoch 51/200\n",
      "33/33 - 0s - loss: 0.1257 - accuracy: 0.9519 - f1_m: 0.7101 - precision_m: 0.5506 - recall_m: 0.9999 - 60ms/epoch - 2ms/step\n",
      "Epoch 52/200\n",
      "33/33 - 0s - loss: 0.1250 - accuracy: 0.9518 - f1_m: 0.7101 - precision_m: 0.5506 - recall_m: 1.0000 - 56ms/epoch - 2ms/step\n",
      "Epoch 53/200\n",
      "33/33 - 0s - loss: 0.1253 - accuracy: 0.9515 - f1_m: 0.7101 - precision_m: 0.5506 - recall_m: 1.0000 - 57ms/epoch - 2ms/step\n",
      "Epoch 54/200\n",
      "33/33 - 0s - loss: 0.1236 - accuracy: 0.9529 - f1_m: 0.7101 - precision_m: 0.5506 - recall_m: 1.0000 - 57ms/epoch - 2ms/step\n",
      "Epoch 55/200\n",
      "33/33 - 0s - loss: 0.1228 - accuracy: 0.9534 - f1_m: 0.7102 - precision_m: 0.5506 - recall_m: 1.0000 - 68ms/epoch - 2ms/step\n",
      "Epoch 56/200\n",
      "33/33 - 0s - loss: 0.1223 - accuracy: 0.9530 - f1_m: 0.7101 - precision_m: 0.5506 - recall_m: 0.9999 - 75ms/epoch - 2ms/step\n",
      "Epoch 57/200\n",
      "33/33 - 0s - loss: 0.1219 - accuracy: 0.9531 - f1_m: 0.7101 - precision_m: 0.5506 - recall_m: 1.0000 - 69ms/epoch - 2ms/step\n",
      "Epoch 58/200\n",
      "33/33 - 0s - loss: 0.1210 - accuracy: 0.9539 - f1_m: 0.7101 - precision_m: 0.5506 - recall_m: 0.9999 - 68ms/epoch - 2ms/step\n",
      "Epoch 59/200\n",
      "33/33 - 0s - loss: 0.1200 - accuracy: 0.9536 - f1_m: 0.7101 - precision_m: 0.5506 - recall_m: 1.0000 - 67ms/epoch - 2ms/step\n",
      "Epoch 60/200\n",
      "33/33 - 0s - loss: 0.1188 - accuracy: 0.9551 - f1_m: 0.7101 - precision_m: 0.5506 - recall_m: 1.0000 - 67ms/epoch - 2ms/step\n",
      "Epoch 61/200\n",
      "33/33 - 0s - loss: 0.1182 - accuracy: 0.9551 - f1_m: 0.7101 - precision_m: 0.5506 - recall_m: 1.0000 - 65ms/epoch - 2ms/step\n",
      "Epoch 62/200\n",
      "33/33 - 0s - loss: 0.1179 - accuracy: 0.9548 - f1_m: 0.7101 - precision_m: 0.5506 - recall_m: 1.0000 - 69ms/epoch - 2ms/step\n",
      "Epoch 63/200\n",
      "33/33 - 0s - loss: 0.1171 - accuracy: 0.9553 - f1_m: 0.7101 - precision_m: 0.5506 - recall_m: 1.0000 - 75ms/epoch - 2ms/step\n",
      "Epoch 64/200\n",
      "33/33 - 0s - loss: 0.1159 - accuracy: 0.9559 - f1_m: 0.7102 - precision_m: 0.5506 - recall_m: 1.0000 - 69ms/epoch - 2ms/step\n",
      "Epoch 65/200\n",
      "33/33 - 0s - loss: 0.1153 - accuracy: 0.9558 - f1_m: 0.7101 - precision_m: 0.5506 - recall_m: 1.0000 - 64ms/epoch - 2ms/step\n",
      "Epoch 66/200\n",
      "33/33 - 0s - loss: 0.1143 - accuracy: 0.9564 - f1_m: 0.7101 - precision_m: 0.5506 - recall_m: 1.0000 - 67ms/epoch - 2ms/step\n",
      "Epoch 67/200\n",
      "33/33 - 0s - loss: 0.1133 - accuracy: 0.9564 - f1_m: 0.7101 - precision_m: 0.5506 - recall_m: 1.0000 - 74ms/epoch - 2ms/step\n",
      "Epoch 68/200\n",
      "33/33 - 0s - loss: 0.1126 - accuracy: 0.9567 - f1_m: 0.7101 - precision_m: 0.5506 - recall_m: 1.0000 - 72ms/epoch - 2ms/step\n",
      "Epoch 69/200\n",
      "33/33 - 0s - loss: 0.1119 - accuracy: 0.9568 - f1_m: 0.7100 - precision_m: 0.5505 - recall_m: 0.9999 - 65ms/epoch - 2ms/step\n",
      "Epoch 70/200\n",
      "33/33 - 0s - loss: 0.1111 - accuracy: 0.9571 - f1_m: 0.7101 - precision_m: 0.5506 - recall_m: 0.9999 - 69ms/epoch - 2ms/step\n",
      "Epoch 71/200\n",
      "33/33 - 0s - loss: 0.1100 - accuracy: 0.9576 - f1_m: 0.7101 - precision_m: 0.5506 - recall_m: 1.0000 - 112ms/epoch - 3ms/step\n",
      "Epoch 72/200\n",
      "33/33 - 0s - loss: 0.1094 - accuracy: 0.9578 - f1_m: 0.7101 - precision_m: 0.5506 - recall_m: 1.0000 - 77ms/epoch - 2ms/step\n",
      "Epoch 73/200\n",
      "33/33 - 0s - loss: 0.1090 - accuracy: 0.9581 - f1_m: 0.7101 - precision_m: 0.5506 - recall_m: 1.0000 - 67ms/epoch - 2ms/step\n",
      "Epoch 74/200\n",
      "33/33 - 0s - loss: 0.1084 - accuracy: 0.9583 - f1_m: 0.7101 - precision_m: 0.5506 - recall_m: 1.0000 - 60ms/epoch - 2ms/step\n",
      "Epoch 75/200\n",
      "33/33 - 0s - loss: 0.1075 - accuracy: 0.9585 - f1_m: 0.7101 - precision_m: 0.5506 - recall_m: 1.0000 - 54ms/epoch - 2ms/step\n",
      "Epoch 76/200\n",
      "33/33 - 0s - loss: 0.1071 - accuracy: 0.9592 - f1_m: 0.7100 - precision_m: 0.5506 - recall_m: 1.0000 - 80ms/epoch - 2ms/step\n",
      "Epoch 77/200\n",
      "33/33 - 0s - loss: 0.1063 - accuracy: 0.9589 - f1_m: 0.7101 - precision_m: 0.5506 - recall_m: 1.0000 - 71ms/epoch - 2ms/step\n",
      "Epoch 78/200\n",
      "33/33 - 0s - loss: 0.1062 - accuracy: 0.9593 - f1_m: 0.7101 - precision_m: 0.5506 - recall_m: 0.9999 - 80ms/epoch - 2ms/step\n",
      "Epoch 79/200\n",
      "33/33 - 0s - loss: 0.1054 - accuracy: 0.9593 - f1_m: 0.7101 - precision_m: 0.5506 - recall_m: 1.0000 - 56ms/epoch - 2ms/step\n",
      "Epoch 80/200\n",
      "33/33 - 0s - loss: 0.1052 - accuracy: 0.9595 - f1_m: 0.7101 - precision_m: 0.5506 - recall_m: 1.0000 - 59ms/epoch - 2ms/step\n",
      "Epoch 81/200\n",
      "33/33 - 0s - loss: 0.1044 - accuracy: 0.9597 - f1_m: 0.7101 - precision_m: 0.5506 - recall_m: 1.0000 - 77ms/epoch - 2ms/step\n",
      "Epoch 82/200\n",
      "33/33 - 0s - loss: 0.1048 - accuracy: 0.9590 - f1_m: 0.7101 - precision_m: 0.5506 - recall_m: 1.0000 - 72ms/epoch - 2ms/step\n",
      "Epoch 83/200\n",
      "33/33 - 0s - loss: 0.1040 - accuracy: 0.9595 - f1_m: 0.7101 - precision_m: 0.5506 - recall_m: 0.9999 - 67ms/epoch - 2ms/step\n",
      "Epoch 84/200\n",
      "33/33 - 0s - loss: 0.1033 - accuracy: 0.9605 - f1_m: 0.7100 - precision_m: 0.5506 - recall_m: 1.0000 - 78ms/epoch - 2ms/step\n",
      "Epoch 85/200\n",
      "33/33 - 0s - loss: 0.1031 - accuracy: 0.9601 - f1_m: 0.7101 - precision_m: 0.5506 - recall_m: 1.0000 - 73ms/epoch - 2ms/step\n",
      "Epoch 86/200\n",
      "33/33 - 0s - loss: 0.1023 - accuracy: 0.9606 - f1_m: 0.7101 - precision_m: 0.5506 - recall_m: 1.0000 - 128ms/epoch - 4ms/step\n",
      "Epoch 87/200\n",
      "33/33 - 0s - loss: 0.1025 - accuracy: 0.9601 - f1_m: 0.7101 - precision_m: 0.5506 - recall_m: 1.0000 - 64ms/epoch - 2ms/step\n",
      "Epoch 88/200\n",
      "33/33 - 0s - loss: 0.1025 - accuracy: 0.9603 - f1_m: 0.7101 - precision_m: 0.5506 - recall_m: 1.0000 - 57ms/epoch - 2ms/step\n",
      "Epoch 89/200\n",
      "33/33 - 0s - loss: 0.1010 - accuracy: 0.9610 - f1_m: 0.7102 - precision_m: 0.5506 - recall_m: 1.0000 - 67ms/epoch - 2ms/step\n",
      "Epoch 90/200\n",
      "33/33 - 0s - loss: 0.1010 - accuracy: 0.9616 - f1_m: 0.7101 - precision_m: 0.5506 - recall_m: 1.0000 - 66ms/epoch - 2ms/step\n",
      "Epoch 91/200\n",
      "33/33 - 0s - loss: 0.1008 - accuracy: 0.9614 - f1_m: 0.7101 - precision_m: 0.5506 - recall_m: 1.0000 - 78ms/epoch - 2ms/step\n",
      "Epoch 92/200\n",
      "33/33 - 0s - loss: 0.1002 - accuracy: 0.9611 - f1_m: 0.7101 - precision_m: 0.5505 - recall_m: 0.9999 - 71ms/epoch - 2ms/step\n",
      "Epoch 93/200\n",
      "33/33 - 0s - loss: 0.1000 - accuracy: 0.9616 - f1_m: 0.7101 - precision_m: 0.5506 - recall_m: 1.0000 - 63ms/epoch - 2ms/step\n",
      "Epoch 94/200\n",
      "33/33 - 0s - loss: 0.1003 - accuracy: 0.9614 - f1_m: 0.7101 - precision_m: 0.5506 - recall_m: 0.9999 - 71ms/epoch - 2ms/step\n",
      "Epoch 95/200\n",
      "33/33 - 0s - loss: 0.0998 - accuracy: 0.9618 - f1_m: 0.7101 - precision_m: 0.5506 - recall_m: 1.0000 - 67ms/epoch - 2ms/step\n",
      "Epoch 96/200\n",
      "33/33 - 0s - loss: 0.0991 - accuracy: 0.9616 - f1_m: 0.7101 - precision_m: 0.5506 - recall_m: 1.0000 - 67ms/epoch - 2ms/step\n",
      "Epoch 97/200\n",
      "33/33 - 0s - loss: 0.0985 - accuracy: 0.9625 - f1_m: 0.7101 - precision_m: 0.5506 - recall_m: 1.0000 - 67ms/epoch - 2ms/step\n",
      "Epoch 98/200\n",
      "33/33 - 0s - loss: 0.0983 - accuracy: 0.9621 - f1_m: 0.7101 - precision_m: 0.5506 - recall_m: 1.0000 - 64ms/epoch - 2ms/step\n",
      "Epoch 99/200\n",
      "33/33 - 0s - loss: 0.0981 - accuracy: 0.9622 - f1_m: 0.7101 - precision_m: 0.5506 - recall_m: 1.0000 - 80ms/epoch - 2ms/step\n",
      "Epoch 100/200\n",
      "33/33 - 0s - loss: 0.0976 - accuracy: 0.9623 - f1_m: 0.7101 - precision_m: 0.5506 - recall_m: 0.9999 - 70ms/epoch - 2ms/step\n",
      "Epoch 101/200\n",
      "33/33 - 0s - loss: 0.0977 - accuracy: 0.9623 - f1_m: 0.7101 - precision_m: 0.5506 - recall_m: 1.0000 - 71ms/epoch - 2ms/step\n",
      "Epoch 102/200\n",
      "33/33 - 0s - loss: 0.0971 - accuracy: 0.9624 - f1_m: 0.7101 - precision_m: 0.5505 - recall_m: 1.0000 - 67ms/epoch - 2ms/step\n",
      "Epoch 103/200\n",
      "33/33 - 0s - loss: 0.0970 - accuracy: 0.9628 - f1_m: 0.7101 - precision_m: 0.5506 - recall_m: 1.0000 - 72ms/epoch - 2ms/step\n",
      "Epoch 104/200\n",
      "33/33 - 0s - loss: 0.0973 - accuracy: 0.9624 - f1_m: 0.7101 - precision_m: 0.5506 - recall_m: 1.0000 - 79ms/epoch - 2ms/step\n",
      "Epoch 105/200\n",
      "33/33 - 0s - loss: 0.0968 - accuracy: 0.9623 - f1_m: 0.7101 - precision_m: 0.5506 - recall_m: 1.0000 - 70ms/epoch - 2ms/step\n",
      "Epoch 106/200\n",
      "33/33 - 0s - loss: 0.0963 - accuracy: 0.9627 - f1_m: 0.7101 - precision_m: 0.5506 - recall_m: 0.9999 - 72ms/epoch - 2ms/step\n",
      "Epoch 107/200\n",
      "33/33 - 0s - loss: 0.0962 - accuracy: 0.9629 - f1_m: 0.7101 - precision_m: 0.5506 - recall_m: 1.0000 - 126ms/epoch - 4ms/step\n",
      "Epoch 108/200\n",
      "33/33 - 0s - loss: 0.0964 - accuracy: 0.9630 - f1_m: 0.7101 - precision_m: 0.5506 - recall_m: 1.0000 - 88ms/epoch - 3ms/step\n",
      "Epoch 109/200\n",
      "33/33 - 0s - loss: 0.0962 - accuracy: 0.9627 - f1_m: 0.7101 - precision_m: 0.5506 - recall_m: 1.0000 - 66ms/epoch - 2ms/step\n",
      "Epoch 110/200\n",
      "33/33 - 0s - loss: 0.0962 - accuracy: 0.9631 - f1_m: 0.7101 - precision_m: 0.5506 - recall_m: 1.0000 - 67ms/epoch - 2ms/step\n",
      "Epoch 111/200\n",
      "33/33 - 0s - loss: 0.0961 - accuracy: 0.9627 - f1_m: 0.7101 - precision_m: 0.5506 - recall_m: 1.0000 - 67ms/epoch - 2ms/step\n",
      "Epoch 112/200\n",
      "33/33 - 0s - loss: 0.0956 - accuracy: 0.9631 - f1_m: 0.7101 - precision_m: 0.5506 - recall_m: 1.0000 - 67ms/epoch - 2ms/step\n",
      "Epoch 113/200\n",
      "33/33 - 0s - loss: 0.0956 - accuracy: 0.9629 - f1_m: 0.7102 - precision_m: 0.5506 - recall_m: 1.0000 - 78ms/epoch - 2ms/step\n",
      "Epoch 114/200\n",
      "33/33 - 0s - loss: 0.0957 - accuracy: 0.9626 - f1_m: 0.7101 - precision_m: 0.5506 - recall_m: 1.0000 - 65ms/epoch - 2ms/step\n",
      "Epoch 115/200\n",
      "33/33 - 0s - loss: 0.0953 - accuracy: 0.9628 - f1_m: 0.7101 - precision_m: 0.5506 - recall_m: 1.0000 - 64ms/epoch - 2ms/step\n",
      "Epoch 116/200\n",
      "33/33 - 0s - loss: 0.0953 - accuracy: 0.9629 - f1_m: 0.7101 - precision_m: 0.5506 - recall_m: 1.0000 - 65ms/epoch - 2ms/step\n",
      "Epoch 117/200\n",
      "33/33 - 0s - loss: 0.0947 - accuracy: 0.9628 - f1_m: 0.7101 - precision_m: 0.5506 - recall_m: 1.0000 - 88ms/epoch - 3ms/step\n",
      "Epoch 118/200\n",
      "33/33 - 0s - loss: 0.0948 - accuracy: 0.9629 - f1_m: 0.7101 - precision_m: 0.5506 - recall_m: 1.0000 - 69ms/epoch - 2ms/step\n",
      "Epoch 119/200\n",
      "33/33 - 0s - loss: 0.0945 - accuracy: 0.9632 - f1_m: 0.7101 - precision_m: 0.5506 - recall_m: 1.0000 - 67ms/epoch - 2ms/step\n",
      "Epoch 120/200\n",
      "33/33 - 0s - loss: 0.0939 - accuracy: 0.9640 - f1_m: 0.7101 - precision_m: 0.5506 - recall_m: 1.0000 - 67ms/epoch - 2ms/step\n",
      "Epoch 121/200\n",
      "33/33 - 0s - loss: 0.0934 - accuracy: 0.9636 - f1_m: 0.7101 - precision_m: 0.5506 - recall_m: 1.0000 - 66ms/epoch - 2ms/step\n",
      "Epoch 122/200\n",
      "33/33 - 0s - loss: 0.0947 - accuracy: 0.9629 - f1_m: 0.7101 - precision_m: 0.5506 - recall_m: 1.0000 - 67ms/epoch - 2ms/step\n",
      "Epoch 123/200\n",
      "33/33 - 0s - loss: 0.0944 - accuracy: 0.9632 - f1_m: 0.7101 - precision_m: 0.5506 - recall_m: 1.0000 - 83ms/epoch - 3ms/step\n",
      "Epoch 124/200\n",
      "33/33 - 0s - loss: 0.0947 - accuracy: 0.9623 - f1_m: 0.7101 - precision_m: 0.5506 - recall_m: 1.0000 - 75ms/epoch - 2ms/step\n",
      "Epoch 125/200\n",
      "33/33 - 0s - loss: 0.0932 - accuracy: 0.9636 - f1_m: 0.7101 - precision_m: 0.5506 - recall_m: 1.0000 - 78ms/epoch - 2ms/step\n",
      "Epoch 126/200\n",
      "33/33 - 0s - loss: 0.0933 - accuracy: 0.9636 - f1_m: 0.7101 - precision_m: 0.5506 - recall_m: 1.0000 - 75ms/epoch - 2ms/step\n",
      "Epoch 127/200\n",
      "33/33 - 0s - loss: 0.0929 - accuracy: 0.9636 - f1_m: 0.7101 - precision_m: 0.5506 - recall_m: 1.0000 - 68ms/epoch - 2ms/step\n",
      "Epoch 128/200\n",
      "33/33 - 0s - loss: 0.0927 - accuracy: 0.9640 - f1_m: 0.7101 - precision_m: 0.5506 - recall_m: 1.0000 - 68ms/epoch - 2ms/step\n",
      "Epoch 129/200\n",
      "33/33 - 0s - loss: 0.0929 - accuracy: 0.9640 - f1_m: 0.7101 - precision_m: 0.5506 - recall_m: 1.0000 - 119ms/epoch - 4ms/step\n",
      "Epoch 130/200\n",
      "33/33 - 0s - loss: 0.0927 - accuracy: 0.9639 - f1_m: 0.7101 - precision_m: 0.5506 - recall_m: 1.0000 - 81ms/epoch - 2ms/step\n",
      "Epoch 131/200\n",
      "33/33 - 0s - loss: 0.0928 - accuracy: 0.9638 - f1_m: 0.7101 - precision_m: 0.5506 - recall_m: 1.0000 - 65ms/epoch - 2ms/step\n",
      "Epoch 132/200\n",
      "33/33 - 0s - loss: 0.0926 - accuracy: 0.9638 - f1_m: 0.7101 - precision_m: 0.5506 - recall_m: 1.0000 - 78ms/epoch - 2ms/step\n",
      "Epoch 133/200\n",
      "33/33 - 0s - loss: 0.0922 - accuracy: 0.9641 - f1_m: 0.7101 - precision_m: 0.5506 - recall_m: 1.0000 - 74ms/epoch - 2ms/step\n",
      "Epoch 134/200\n",
      "33/33 - 0s - loss: 0.0927 - accuracy: 0.9640 - f1_m: 0.7101 - precision_m: 0.5506 - recall_m: 1.0000 - 70ms/epoch - 2ms/step\n",
      "Epoch 135/200\n",
      "33/33 - 0s - loss: 0.0922 - accuracy: 0.9639 - f1_m: 0.7101 - precision_m: 0.5506 - recall_m: 1.0000 - 66ms/epoch - 2ms/step\n",
      "Epoch 136/200\n",
      "33/33 - 0s - loss: 0.0919 - accuracy: 0.9650 - f1_m: 0.7101 - precision_m: 0.5506 - recall_m: 1.0000 - 92ms/epoch - 3ms/step\n",
      "Epoch 137/200\n",
      "33/33 - 0s - loss: 0.0917 - accuracy: 0.9641 - f1_m: 0.7101 - precision_m: 0.5507 - recall_m: 1.0000 - 73ms/epoch - 2ms/step\n",
      "Epoch 138/200\n",
      "33/33 - 0s - loss: 0.0914 - accuracy: 0.9649 - f1_m: 0.7101 - precision_m: 0.5506 - recall_m: 1.0000 - 85ms/epoch - 3ms/step\n",
      "Epoch 139/200\n",
      "33/33 - 0s - loss: 0.0913 - accuracy: 0.9647 - f1_m: 0.7101 - precision_m: 0.5506 - recall_m: 1.0000 - 83ms/epoch - 3ms/step\n",
      "Epoch 140/200\n",
      "33/33 - 0s - loss: 0.0915 - accuracy: 0.9647 - f1_m: 0.7102 - precision_m: 0.5506 - recall_m: 1.0000 - 68ms/epoch - 2ms/step\n",
      "Epoch 141/200\n",
      "33/33 - 0s - loss: 0.0911 - accuracy: 0.9644 - f1_m: 0.7101 - precision_m: 0.5506 - recall_m: 1.0000 - 82ms/epoch - 2ms/step\n",
      "Epoch 142/200\n",
      "33/33 - 0s - loss: 0.0909 - accuracy: 0.9652 - f1_m: 0.7101 - precision_m: 0.5506 - recall_m: 1.0000 - 79ms/epoch - 2ms/step\n",
      "Epoch 143/200\n",
      "33/33 - 0s - loss: 0.0910 - accuracy: 0.9647 - f1_m: 0.7101 - precision_m: 0.5506 - recall_m: 1.0000 - 64ms/epoch - 2ms/step\n",
      "Epoch 144/200\n",
      "33/33 - 0s - loss: 0.0909 - accuracy: 0.9650 - f1_m: 0.7101 - precision_m: 0.5506 - recall_m: 1.0000 - 73ms/epoch - 2ms/step\n",
      "Epoch 145/200\n",
      "33/33 - 0s - loss: 0.0907 - accuracy: 0.9650 - f1_m: 0.7101 - precision_m: 0.5506 - recall_m: 1.0000 - 69ms/epoch - 2ms/step\n",
      "Epoch 146/200\n",
      "33/33 - 0s - loss: 0.0908 - accuracy: 0.9648 - f1_m: 0.7101 - precision_m: 0.5506 - recall_m: 1.0000 - 70ms/epoch - 2ms/step\n",
      "Epoch 147/200\n",
      "33/33 - 0s - loss: 0.0912 - accuracy: 0.9647 - f1_m: 0.7101 - precision_m: 0.5506 - recall_m: 1.0000 - 73ms/epoch - 2ms/step\n",
      "Epoch 148/200\n",
      "33/33 - 0s - loss: 0.0904 - accuracy: 0.9652 - f1_m: 0.7101 - precision_m: 0.5506 - recall_m: 1.0000 - 74ms/epoch - 2ms/step\n",
      "Epoch 149/200\n",
      "33/33 - 0s - loss: 0.0902 - accuracy: 0.9651 - f1_m: 0.7101 - precision_m: 0.5506 - recall_m: 1.0000 - 82ms/epoch - 2ms/step\n",
      "Epoch 150/200\n",
      "33/33 - 0s - loss: 0.0903 - accuracy: 0.9654 - f1_m: 0.7101 - precision_m: 0.5506 - recall_m: 1.0000 - 103ms/epoch - 3ms/step\n",
      "Epoch 151/200\n",
      "33/33 - 0s - loss: 0.0897 - accuracy: 0.9654 - f1_m: 0.7101 - precision_m: 0.5506 - recall_m: 1.0000 - 81ms/epoch - 2ms/step\n",
      "Epoch 152/200\n",
      "33/33 - 0s - loss: 0.0905 - accuracy: 0.9647 - f1_m: 0.7101 - precision_m: 0.5506 - recall_m: 1.0000 - 65ms/epoch - 2ms/step\n",
      "Epoch 153/200\n",
      "33/33 - 0s - loss: 0.0898 - accuracy: 0.9653 - f1_m: 0.7101 - precision_m: 0.5506 - recall_m: 1.0000 - 77ms/epoch - 2ms/step\n",
      "Epoch 154/200\n",
      "33/33 - 0s - loss: 0.0900 - accuracy: 0.9657 - f1_m: 0.7101 - precision_m: 0.5506 - recall_m: 1.0000 - 72ms/epoch - 2ms/step\n",
      "Epoch 155/200\n",
      "33/33 - 0s - loss: 0.0895 - accuracy: 0.9654 - f1_m: 0.7101 - precision_m: 0.5506 - recall_m: 1.0000 - 62ms/epoch - 2ms/step\n",
      "Epoch 156/200\n",
      "33/33 - 0s - loss: 0.0892 - accuracy: 0.9657 - f1_m: 0.7101 - precision_m: 0.5506 - recall_m: 1.0000 - 88ms/epoch - 3ms/step\n",
      "Epoch 157/200\n",
      "33/33 - 0s - loss: 0.0890 - accuracy: 0.9657 - f1_m: 0.7102 - precision_m: 0.5506 - recall_m: 1.0000 - 67ms/epoch - 2ms/step\n",
      "Epoch 158/200\n",
      "33/33 - 0s - loss: 0.0892 - accuracy: 0.9659 - f1_m: 0.7101 - precision_m: 0.5506 - recall_m: 1.0000 - 85ms/epoch - 3ms/step\n",
      "Epoch 159/200\n",
      "33/33 - 0s - loss: 0.0902 - accuracy: 0.9647 - f1_m: 0.7101 - precision_m: 0.5506 - recall_m: 1.0000 - 80ms/epoch - 2ms/step\n",
      "Epoch 160/200\n",
      "33/33 - 0s - loss: 0.0889 - accuracy: 0.9659 - f1_m: 0.7101 - precision_m: 0.5506 - recall_m: 1.0000 - 67ms/epoch - 2ms/step\n",
      "Epoch 161/200\n",
      "33/33 - 0s - loss: 0.0890 - accuracy: 0.9654 - f1_m: 0.7101 - precision_m: 0.5506 - recall_m: 1.0000 - 67ms/epoch - 2ms/step\n",
      "Epoch 162/200\n",
      "33/33 - 0s - loss: 0.0888 - accuracy: 0.9656 - f1_m: 0.7102 - precision_m: 0.5506 - recall_m: 1.0000 - 98ms/epoch - 3ms/step\n",
      "Epoch 163/200\n",
      "33/33 - 0s - loss: 0.0884 - accuracy: 0.9660 - f1_m: 0.7101 - precision_m: 0.5506 - recall_m: 1.0000 - 83ms/epoch - 3ms/step\n",
      "Epoch 164/200\n",
      "33/33 - 0s - loss: 0.0885 - accuracy: 0.9657 - f1_m: 0.7101 - precision_m: 0.5506 - recall_m: 1.0000 - 79ms/epoch - 2ms/step\n",
      "Epoch 165/200\n",
      "33/33 - 0s - loss: 0.0890 - accuracy: 0.9657 - f1_m: 0.7101 - precision_m: 0.5506 - recall_m: 1.0000 - 90ms/epoch - 3ms/step\n",
      "Epoch 166/200\n",
      "33/33 - 0s - loss: 0.0882 - accuracy: 0.9664 - f1_m: 0.7101 - precision_m: 0.5506 - recall_m: 1.0000 - 84ms/epoch - 3ms/step\n",
      "Epoch 167/200\n",
      "33/33 - 0s - loss: 0.0886 - accuracy: 0.9655 - f1_m: 0.7101 - precision_m: 0.5506 - recall_m: 1.0000 - 80ms/epoch - 2ms/step\n",
      "Epoch 168/200\n",
      "33/33 - 0s - loss: 0.0883 - accuracy: 0.9664 - f1_m: 0.7101 - precision_m: 0.5506 - recall_m: 1.0000 - 92ms/epoch - 3ms/step\n",
      "Epoch 169/200\n",
      "33/33 - 0s - loss: 0.0881 - accuracy: 0.9662 - f1_m: 0.7101 - precision_m: 0.5506 - recall_m: 1.0000 - 76ms/epoch - 2ms/step\n",
      "Epoch 170/200\n",
      "33/33 - 0s - loss: 0.0882 - accuracy: 0.9658 - f1_m: 0.7101 - precision_m: 0.5506 - recall_m: 1.0000 - 68ms/epoch - 2ms/step\n",
      "Epoch 171/200\n",
      "33/33 - 0s - loss: 0.0881 - accuracy: 0.9658 - f1_m: 0.7101 - precision_m: 0.5506 - recall_m: 1.0000 - 80ms/epoch - 2ms/step\n",
      "Epoch 172/200\n",
      "33/33 - 0s - loss: 0.0875 - accuracy: 0.9668 - f1_m: 0.7101 - precision_m: 0.5506 - recall_m: 1.0000 - 108ms/epoch - 3ms/step\n",
      "Epoch 173/200\n",
      "33/33 - 0s - loss: 0.0881 - accuracy: 0.9659 - f1_m: 0.7101 - precision_m: 0.5506 - recall_m: 1.0000 - 77ms/epoch - 2ms/step\n",
      "Epoch 174/200\n",
      "33/33 - 0s - loss: 0.0877 - accuracy: 0.9667 - f1_m: 0.7101 - precision_m: 0.5506 - recall_m: 1.0000 - 69ms/epoch - 2ms/step\n",
      "Epoch 175/200\n",
      "33/33 - 0s - loss: 0.0875 - accuracy: 0.9666 - f1_m: 0.7101 - precision_m: 0.5506 - recall_m: 1.0000 - 97ms/epoch - 3ms/step\n",
      "Epoch 176/200\n",
      "33/33 - 0s - loss: 0.0878 - accuracy: 0.9662 - f1_m: 0.7101 - precision_m: 0.5506 - recall_m: 1.0000 - 84ms/epoch - 3ms/step\n",
      "Epoch 177/200\n",
      "33/33 - 0s - loss: 0.0880 - accuracy: 0.9659 - f1_m: 0.7101 - precision_m: 0.5506 - recall_m: 1.0000 - 83ms/epoch - 3ms/step\n",
      "Epoch 178/200\n",
      "33/33 - 0s - loss: 0.0880 - accuracy: 0.9659 - f1_m: 0.7101 - precision_m: 0.5506 - recall_m: 1.0000 - 69ms/epoch - 2ms/step\n",
      "Epoch 179/200\n",
      "33/33 - 0s - loss: 0.0883 - accuracy: 0.9661 - f1_m: 0.7101 - precision_m: 0.5506 - recall_m: 1.0000 - 81ms/epoch - 2ms/step\n",
      "Epoch 180/200\n",
      "33/33 - 0s - loss: 0.0881 - accuracy: 0.9659 - f1_m: 0.7101 - precision_m: 0.5506 - recall_m: 1.0000 - 61ms/epoch - 2ms/step\n",
      "Epoch 181/200\n",
      "33/33 - 0s - loss: 0.0878 - accuracy: 0.9662 - f1_m: 0.7101 - precision_m: 0.5506 - recall_m: 1.0000 - 56ms/epoch - 2ms/step\n",
      "Epoch 182/200\n",
      "33/33 - 0s - loss: 0.0875 - accuracy: 0.9664 - f1_m: 0.7101 - precision_m: 0.5506 - recall_m: 1.0000 - 85ms/epoch - 3ms/step\n",
      "Epoch 183/200\n",
      "33/33 - 0s - loss: 0.0872 - accuracy: 0.9665 - f1_m: 0.7101 - precision_m: 0.5506 - recall_m: 1.0000 - 64ms/epoch - 2ms/step\n",
      "Epoch 184/200\n",
      "33/33 - 0s - loss: 0.0878 - accuracy: 0.9657 - f1_m: 0.7101 - precision_m: 0.5506 - recall_m: 1.0000 - 67ms/epoch - 2ms/step\n",
      "Epoch 185/200\n",
      "33/33 - 0s - loss: 0.0868 - accuracy: 0.9666 - f1_m: 0.7101 - precision_m: 0.5506 - recall_m: 1.0000 - 83ms/epoch - 3ms/step\n",
      "Epoch 186/200\n",
      "33/33 - 0s - loss: 0.0876 - accuracy: 0.9661 - f1_m: 0.7101 - precision_m: 0.5506 - recall_m: 1.0000 - 84ms/epoch - 3ms/step\n",
      "Epoch 187/200\n",
      "33/33 - 0s - loss: 0.0865 - accuracy: 0.9663 - f1_m: 0.7101 - precision_m: 0.5506 - recall_m: 1.0000 - 65ms/epoch - 2ms/step\n",
      "Epoch 188/200\n",
      "33/33 - 0s - loss: 0.0863 - accuracy: 0.9670 - f1_m: 0.7102 - precision_m: 0.5507 - recall_m: 1.0000 - 67ms/epoch - 2ms/step\n",
      "Epoch 189/200\n",
      "33/33 - 0s - loss: 0.0869 - accuracy: 0.9663 - f1_m: 0.7101 - precision_m: 0.5506 - recall_m: 1.0000 - 68ms/epoch - 2ms/step\n",
      "Epoch 190/200\n",
      "33/33 - 0s - loss: 0.0865 - accuracy: 0.9670 - f1_m: 0.7101 - precision_m: 0.5506 - recall_m: 1.0000 - 65ms/epoch - 2ms/step\n",
      "Epoch 191/200\n",
      "33/33 - 0s - loss: 0.0864 - accuracy: 0.9667 - f1_m: 0.7101 - precision_m: 0.5506 - recall_m: 1.0000 - 66ms/epoch - 2ms/step\n",
      "Epoch 192/200\n",
      "33/33 - 0s - loss: 0.0859 - accuracy: 0.9669 - f1_m: 0.7101 - precision_m: 0.5506 - recall_m: 1.0000 - 69ms/epoch - 2ms/step\n",
      "Epoch 193/200\n",
      "33/33 - 0s - loss: 0.0867 - accuracy: 0.9666 - f1_m: 0.7101 - precision_m: 0.5506 - recall_m: 1.0000 - 74ms/epoch - 2ms/step\n",
      "Epoch 194/200\n",
      "33/33 - 0s - loss: 0.0866 - accuracy: 0.9661 - f1_m: 0.7101 - precision_m: 0.5506 - recall_m: 1.0000 - 126ms/epoch - 4ms/step\n",
      "Epoch 195/200\n",
      "33/33 - 0s - loss: 0.0874 - accuracy: 0.9659 - f1_m: 0.7102 - precision_m: 0.5506 - recall_m: 1.0000 - 68ms/epoch - 2ms/step\n",
      "Epoch 196/200\n",
      "33/33 - 0s - loss: 0.0859 - accuracy: 0.9668 - f1_m: 0.7101 - precision_m: 0.5506 - recall_m: 1.0000 - 80ms/epoch - 2ms/step\n",
      "Epoch 197/200\n",
      "33/33 - 0s - loss: 0.0863 - accuracy: 0.9672 - f1_m: 0.7101 - precision_m: 0.5506 - recall_m: 1.0000 - 70ms/epoch - 2ms/step\n",
      "Epoch 198/200\n",
      "33/33 - 0s - loss: 0.0863 - accuracy: 0.9665 - f1_m: 0.7101 - precision_m: 0.5506 - recall_m: 1.0000 - 74ms/epoch - 2ms/step\n",
      "Epoch 199/200\n",
      "33/33 - 0s - loss: 0.0858 - accuracy: 0.9666 - f1_m: 0.7101 - precision_m: 0.5506 - recall_m: 1.0000 - 75ms/epoch - 2ms/step\n",
      "Epoch 200/200\n",
      "33/33 - 0s - loss: 0.0863 - accuracy: 0.9667 - f1_m: 0.7101 - precision_m: 0.5506 - recall_m: 0.9999 - 64ms/epoch - 2ms/step\n"
     ]
    }
   ],
   "source": [
    "#Build the feed forward neural network model\n",
    "def build_model():\n",
    "    model = Sequential()\n",
    "    model.add(Dense(20, input_dim=56, activation='relu'))\n",
    "    model.add(Dense(20, activation='relu'))\n",
    "    model.add(Dense(20, activation='softmax')) #for multiclass classification\n",
    "    #Compile the model\n",
    "    model.compile(loss='sparse_categorical_crossentropy', optimizer='adam',\n",
    "                  metrics=['accuracy',f1_m,precision_m, recall_m]\n",
    "                 )\n",
    "    return model\n",
    "\n",
    "#institate the model\n",
    "model = build_model()\n",
    "\n",
    "#fit the model\n",
    "start = time.time()\n",
    "history=model.fit(X_train, y_train, epochs=200, batch_size=2000,verbose=2)\n",
    "end_train = time.time()"
   ]
  },
  {
   "cell_type": "code",
   "execution_count": 47,
   "id": "b739eebd",
   "metadata": {},
   "outputs": [
    {
     "data": {
      "image/png": "[encoded data removed]",
      "text/plain": [
       "<Figure size 640x480 with 1 Axes>"
      ]
     },
     "metadata": {},
     "output_type": "display_data"
    }
   ],
   "source": [
    "plt.plot(history.history['accuracy'])\n",
    "plt.title('model accuracy')\n",
    "plt.ylabel('accuracy')\n",
    "plt.xlabel('epoch')\n",
    "plt.legend(['train', 'test'], loc='upper left')\n",
    "plt.show()"
   ]
  },
  {
   "cell_type": "code",
   "execution_count": 48,
   "id": "4724858f",
   "metadata": {},
   "outputs": [
    {
     "data": {
      "image/png": "[encoded data removed]",
      "text/plain": [
       "<Figure size 640x480 with 1 Axes>"
      ]
     },
     "metadata": {},
     "output_type": "display_data"
    }
   ],
   "source": [
    "#epochs vs loss\n",
    "plt.plot(history.history['loss'])\n",
    "plt.title('model loss')\n",
    "plt.ylabel('loss')\n",
    "plt.xlabel('epoch')\n",
    "plt.legend(['train', 'test'], loc='upper left')\n",
    "plt.show()"
   ]
  },
  {
   "cell_type": "code",
   "execution_count": 49,
   "id": "53b46b3e",
   "metadata": {},
   "outputs": [
    {
     "data": {
      "image/png": "[encoded data removed]",
      "text/plain": [
       "<Figure size 640x480 with 1 Axes>"
      ]
     },
     "metadata": {},
     "output_type": "display_data"
    }
   ],
   "source": [
    "plt.plot(history.history['f1_m'])\n",
    "plt.plot(history.history['precision_m'])\n",
    "plt.plot(history.history['recall_m'])\n",
    "plt.title('model metrics')\n",
    "plt.ylabel('metrics')\n",
    "plt.xlabel('epoch')\n",
    "plt.legend(['f1_m', 'precision_m', 'recall_m'], loc='upper left')\n",
    "plt.show()"
   ]
  },
  {
   "cell_type": "code",
   "execution_count": 50,
   "id": "2375602c",
   "metadata": {},
   "outputs": [
    {
     "name": "stdout",
     "output_type": "stream",
     "text": [
      "515/515 [==============================] - 1s 2ms/step\n"
     ]
    }
   ],
   "source": [
    "#confusion matrix\n",
    "from sklearn.metrics import confusion_matrix\n",
    "y_pred = model.predict(X_test)\n",
    "y_pred = np.argmax(y_pred, axis=1)"
   ]
  },
  {
   "cell_type": "code",
   "execution_count": 51,
   "id": "73c95ae3",
   "metadata": {},
   "outputs": [
    {
     "data": {
      "image/png": "[encoded data removed]",
      "text/plain": [
       "<Figure size 640x480 with 1 Axes>"
      ]
     },
     "metadata": {},
     "output_type": "display_data"
    }
   ],
   "source": [
    "#plot bar chart for traininig and testing accuracy\n",
    "plt.bar(['Train','Test'],[history.history['accuracy'][-1],accuracy_score(y_test, y_pred)],color=['skyblue','pink'])\n",
    "plt.title('Train vs Test Accuracy')\n",
    "plt.ylabel('Accuracy')\n",
    "plt.show()"
   ]
  },
  {
   "cell_type": "code",
   "execution_count": 52,
   "id": "6cd97cf7",
   "metadata": {},
   "outputs": [
    {
     "data": {
      "image/png": "[encoded data removed]",
      "text/plain": [
       "<Figure size 1000x700 with 2 Axes>"
      ]
     },
     "metadata": {},
     "output_type": "display_data"
    }
   ],
   "source": [
    "from sklearn.metrics import confusion_matrix\n",
    "import seaborn as sns\n",
    "import matplotlib.pyplot as plt\n",
    "import numpy as np\n",
    "y_test = np.argmax(y_test, axis=1) if len(y_test.shape) > 1 else y_test\n",
    "y_pred = np.argmax(y_pred, axis=1) if len(y_pred.shape) > 1 else y_pred\n",
    "# Confusion Matrix\n",
    "cm = confusion_matrix(y_test, y_pred)\n",
    "plt.figure(figsize=(10, 7))\n",
    "sns.heatmap(cm, annot=True, fmt='d', cmap='Blues')\n",
    "plt.xlabel('Predicted')\n",
    "plt.ylabel('Truth')\n",
    "plt.title('Confusion Matrix')\n",
    "plt.show()\n"
   ]
  },
  {
   "cell_type": "code",
   "execution_count": 53,
   "id": "702075e2",
   "metadata": {},
   "outputs": [
    {
     "name": "stdout",
     "output_type": "stream",
     "text": [
      "Training Accuracy: 0.9666590690612793\n",
      "Testing Accuracy: 0.9643529483208841\n"
     ]
    }
   ],
   "source": [
    "#print the training and testing accuracy\n",
    "print('Training Accuracy:',history.history['accuracy'][-1])\n",
    "print('Testing Accuracy:',accuracy_score(y_test, y_pred))"
   ]
  },
  {
   "cell_type": "code",
   "execution_count": 54,
   "id": "b2cc02cd",
   "metadata": {},
   "outputs": [
    {
     "data": {
      "text/html": [
       "<div>\n",
       "<style scoped>\n",
       "    .dataframe tbody tr th:only-of-type {\n",
       "        vertical-align: middle;\n",
       "    }\n",
       "\n",
       "    .dataframe tbody tr th {\n",
       "        vertical-align: top;\n",
       "    }\n",
       "\n",
       "    .dataframe thead th {\n",
       "        text-align: right;\n",
       "    }\n",
       "</style>\n",
       "<table border=\"1\" class=\"dataframe\">\n",
       "  <thead>\n",
       "    <tr style=\"text-align: right;\">\n",
       "      <th></th>\n",
       "      <th>Accuracy</th>\n",
       "      <th>Recall</th>\n",
       "      <th>Precision</th>\n",
       "      <th>F1-Score</th>\n",
       "      <th>time to train</th>\n",
       "      <th>time to predict</th>\n",
       "      <th>total time</th>\n",
       "    </tr>\n",
       "  </thead>\n",
       "  <tbody>\n",
       "    <tr>\n",
       "      <th>Neural Network</th>\n",
       "      <td>0.964353</td>\n",
       "      <td>0.964353</td>\n",
       "      <td>0.964396</td>\n",
       "      <td>0.964364</td>\n",
       "      <td>17.776043</td>\n",
       "      <td>56.929449</td>\n",
       "      <td>74.705492</td>\n",
       "    </tr>\n",
       "  </tbody>\n",
       "</table>\n",
       "</div>"
      ],
      "text/plain": [
       "                Accuracy    Recall Precision  F1-Score time to train   \n",
       "Neural Network  0.964353  0.964353  0.964396  0.964364     17.776043  \\\n",
       "\n",
       "               time to predict total time  \n",
       "Neural Network       56.929449  74.705492  "
      ]
     },
     "execution_count": 54,
     "metadata": {},
     "output_type": "execute_result"
    }
   ],
   "source": [
    "model_performance.loc['Neural Network','Accuracy'] = accuracy_score(y_test, y_pred)\n",
    "model_performance.loc['Neural Network','Recall'] = recall_score(y_test, y_pred, average='weighted')\n",
    "model_performance.loc['Neural Network','Precision'] = precision_score(y_test, y_pred, average='weighted')\n",
    "model_performance.loc['Neural Network','F1-Score'] = f1_score(y_test, y_pred, average='weighted')\n",
    "model_performance.loc['Neural Network','time to train'] = end_train-start\n",
    "model_performance.loc['Neural Network','time to predict'] = time.time()-end_train\n",
    "model_performance.loc['Neural Network','total time'] = time.time()-start\n",
    "model_performance"
   ]
  },
  {
   "cell_type": "code",
   "execution_count": 55,
   "id": "7a5352c7",
   "metadata": {},
   "outputs": [
    {
     "data": {
      "application/vnd.plotly.v1+json": {
       "config": {
        "plotlyServerURL": "https://plot.ly"
       },
       "data": [
        {
         "name": "Accuracy",
         "type": "bar",
         "x": [
          "Neural Network"
         ],
         "y": [
          0.9643529483208841
         ]
        },
        {
         "name": "Recall",
         "type": "bar",
         "x": [
          "Neural Network"
         ],
         "y": [
          0.9643529483208841
         ]
        },
        {
         "name": "Precision",
         "type": "bar",
         "x": [
          "Neural Network"
         ],
         "y": [
          0.96439580387687
         ]
        },
        {
         "name": "F1-Score",
         "type": "bar",
         "x": [
          "Neural Network"
         ],
         "y": [
          0.964364302778369
         ]
        },
        {
         "name": "time to train",
         "type": "bar",
         "x": [
          "Neural Network"
         ],
         "y": [
          17.776042699813843
         ]
        },
        {
         "name": "time to predict",
         "type": "bar",
         "x": [
          "Neural Network"
         ],
         "y": [
          56.9294490814209
         ]
        },
        {
         "name": "total time",
         "type": "bar",
         "x": [
          "Neural Network"
         ],
         "y": [
          74.70549178123474
         ]
        }
       ],
       "layout": {
        "barmode": "group",
        "template": {
         "data": {
          "bar": [
           {
            "error_x": {
             "color": "#2a3f5f"
            },
            "error_y": {
             "color": "#2a3f5f"
            },
            "marker": {
             "line": {
              "color": "#E5ECF6",
              "width": 0.5
             },
             "pattern": {
              "fillmode": "overlay",
              "size": 10,
              "solidity": 0.2
             }
            },
            "type": "bar"
           }
          ],
          "barpolar": [
           {
            "marker": {
             "line": {
              "color": "#E5ECF6",
              "width": 0.5
             },
             "pattern": {
              "fillmode": "overlay",
              "size": 10,
              "solidity": 0.2
             }
            },
            "type": "barpolar"
           }
          ],
          "carpet": [
           {
            "aaxis": {
             "endlinecolor": "#2a3f5f",
             "gridcolor": "white",
             "linecolor": "white",
             "minorgridcolor": "white",
             "startlinecolor": "#2a3f5f"
            },
            "baxis": {
             "endlinecolor": "#2a3f5f",
             "gridcolor": "white",
             "linecolor": "white",
             "minorgridcolor": "white",
             "startlinecolor": "#2a3f5f"
            },
            "type": "carpet"
           }
          ],
          "choropleth": [
           {
            "colorbar": {
             "outlinewidth": 0,
             "ticks": ""
            },
            "type": "choropleth"
           }
          ],
          "contour": [
           {
            "colorbar": {
             "outlinewidth": 0,
             "ticks": ""
            },
            "colorscale": [
             [
              0,
              "#0d0887"
             ],
             [
              0.1111111111111111,
              "#46039f"
             ],
             [
              0.2222222222222222,
              "#7201a8"
             ],
             [
              0.3333333333333333,
              "#9c179e"
             ],
             [
              0.4444444444444444,
              "#bd3786"
             ],
             [
              0.5555555555555556,
              "#d8576b"
             ],
             [
              0.6666666666666666,
              "#ed7953"
             ],
             [
              0.7777777777777778,
              "#fb9f3a"
             ],
             [
              0.8888888888888888,
              "#fdca26"
             ],
             [
              1,
              "#f0f921"
             ]
            ],
            "type": "contour"
           }
          ],
          "contourcarpet": [
           {
            "colorbar": {
             "outlinewidth": 0,
             "ticks": ""
            },
            "type": "contourcarpet"
           }
          ],
          "heatmap": [
           {
            "colorbar": {
             "outlinewidth": 0,
             "ticks": ""
            },
            "colorscale": [
             [
              0,
              "#0d0887"
             ],
             [
              0.1111111111111111,
              "#46039f"
             ],
             [
              0.2222222222222222,
              "#7201a8"
             ],
             [
              0.3333333333333333,
              "#9c179e"
             ],
             [
              0.4444444444444444,
              "#bd3786"
             ],
             [
              0.5555555555555556,
              "#d8576b"
             ],
             [
              0.6666666666666666,
              "#ed7953"
             ],
             [
              0.7777777777777778,
              "#fb9f3a"
             ],
             [
              0.8888888888888888,
              "#fdca26"
             ],
             [
              1,
              "#f0f921"
             ]
            ],
            "type": "heatmap"
           }
          ],
          "heatmapgl": [
           {
            "colorbar": {
             "outlinewidth": 0,
             "ticks": ""
            },
            "colorscale": [
             [
              0,
              "#0d0887"
             ],
             [
              0.1111111111111111,
              "#46039f"
             ],
             [
              0.2222222222222222,
              "#7201a8"
             ],
             [
              0.3333333333333333,
              "#9c179e"
             ],
             [
              0.4444444444444444,
              "#bd3786"
             ],
             [
              0.5555555555555556,
              "#d8576b"
             ],
             [
              0.6666666666666666,
              "#ed7953"
             ],
             [
              0.7777777777777778,
              "#fb9f3a"
             ],
             [
              0.8888888888888888,
              "#fdca26"
             ],
             [
              1,
              "#f0f921"
             ]
            ],
            "type": "heatmapgl"
           }
          ],
          "histogram": [
           {
            "marker": {
             "pattern": {
              "fillmode": "overlay",
              "size": 10,
              "solidity": 0.2
             }
            },
            "type": "histogram"
           }
          ],
          "histogram2d": [
           {
            "colorbar": {
             "outlinewidth": 0,
             "ticks": ""
            },
            "colorscale": [
             [
              0,
              "#0d0887"
             ],
             [
              0.1111111111111111,
              "#46039f"
             ],
             [
              0.2222222222222222,
              "#7201a8"
             ],
             [
              0.3333333333333333,
              "#9c179e"
             ],
             [
              0.4444444444444444,
              "#bd3786"
             ],
             [
              0.5555555555555556,
              "#d8576b"
             ],
             [
              0.6666666666666666,
              "#ed7953"
             ],
             [
              0.7777777777777778,
              "#fb9f3a"
             ],
             [
              0.8888888888888888,
              "#fdca26"
             ],
             [
              1,
              "#f0f921"
             ]
            ],
            "type": "histogram2d"
           }
          ],
          "histogram2dcontour": [
           {
            "colorbar": {
             "outlinewidth": 0,
             "ticks": ""
            },
            "colorscale": [
             [
              0,
              "#0d0887"
             ],
             [
              0.1111111111111111,
              "#46039f"
             ],
             [
              0.2222222222222222,
              "#7201a8"
             ],
             [
              0.3333333333333333,
              "#9c179e"
             ],
             [
              0.4444444444444444,
              "#bd3786"
             ],
             [
              0.5555555555555556,
              "#d8576b"
             ],
             [
              0.6666666666666666,
              "#ed7953"
             ],
             [
              0.7777777777777778,
              "#fb9f3a"
             ],
             [
              0.8888888888888888,
              "#fdca26"
             ],
             [
              1,
              "#f0f921"
             ]
            ],
            "type": "histogram2dcontour"
           }
          ],
          "mesh3d": [
           {
            "colorbar": {
             "outlinewidth": 0,
             "ticks": ""
            },
            "type": "mesh3d"
           }
          ],
          "parcoords": [
           {
            "line": {
             "colorbar": {
              "outlinewidth": 0,
              "ticks": ""
             }
            },
            "type": "parcoords"
           }
          ],
          "pie": [
           {
            "automargin": true,
            "type": "pie"
           }
          ],
          "scatter": [
           {
            "fillpattern": {
             "fillmode": "overlay",
             "size": 10,
             "solidity": 0.2
            },
            "type": "scatter"
           }
          ],
          "scatter3d": [
           {
            "line": {
             "colorbar": {
              "outlinewidth": 0,
              "ticks": ""
             }
            },
            "marker": {
             "colorbar": {
              "outlinewidth": 0,
              "ticks": ""
             }
            },
            "type": "scatter3d"
           }
          ],
          "scattercarpet": [
           {
            "marker": {
             "colorbar": {
              "outlinewidth": 0,
              "ticks": ""
             }
            },
            "type": "scattercarpet"
           }
          ],
          "scattergeo": [
           {
            "marker": {
             "colorbar": {
              "outlinewidth": 0,
              "ticks": ""
             }
            },
            "type": "scattergeo"
           }
          ],
          "scattergl": [
           {
            "marker": {
             "colorbar": {
              "outlinewidth": 0,
              "ticks": ""
             }
            },
            "type": "scattergl"
           }
          ],
          "scattermapbox": [
           {
            "marker": {
             "colorbar": {
              "outlinewidth": 0,
              "ticks": ""
             }
            },
            "type": "scattermapbox"
           }
          ],
          "scatterpolar": [
           {
            "marker": {
             "colorbar": {
              "outlinewidth": 0,
              "ticks": ""
             }
            },
            "type": "scatterpolar"
           }
          ],
          "scatterpolargl": [
           {
            "marker": {
             "colorbar": {
              "outlinewidth": 0,
              "ticks": ""
             }
            },
            "type": "scatterpolargl"
           }
          ],
          "scatterternary": [
           {
            "marker": {
             "colorbar": {
              "outlinewidth": 0,
              "ticks": ""
             }
            },
            "type": "scatterternary"
           }
          ],
          "surface": [
           {
            "colorbar": {
             "outlinewidth": 0,
             "ticks": ""
            },
            "colorscale": [
             [
              0,
              "#0d0887"
             ],
             [
              0.1111111111111111,
              "#46039f"
             ],
             [
              0.2222222222222222,
              "#7201a8"
             ],
             [
              0.3333333333333333,
              "#9c179e"
             ],
             [
              0.4444444444444444,
              "#bd3786"
             ],
             [
              0.5555555555555556,
              "#d8576b"
             ],
             [
              0.6666666666666666,
              "#ed7953"
             ],
             [
              0.7777777777777778,
              "#fb9f3a"
             ],
             [
              0.8888888888888888,
              "#fdca26"
             ],
             [
              1,
              "#f0f921"
             ]
            ],
            "type": "surface"
           }
          ],
          "table": [
           {
            "cells": {
             "fill": {
              "color": "#EBF0F8"
             },
             "line": {
              "color": "white"
             }
            },
            "header": {
             "fill": {
              "color": "#C8D4E3"
             },
             "line": {
              "color": "white"
             }
            },
            "type": "table"
           }
          ]
         },
         "layout": {
          "annotationdefaults": {
           "arrowcolor": "#2a3f5f",
           "arrowhead": 0,
           "arrowwidth": 1
          },
          "autotypenumbers": "strict",
          "coloraxis": {
           "colorbar": {
            "outlinewidth": 0,
            "ticks": ""
           }
          },
          "colorscale": {
           "diverging": [
            [
             0,
             "#8e0152"
            ],
            [
             0.1,
             "#c51b7d"
            ],
            [
             0.2,
             "#de77ae"
            ],
            [
             0.3,
             "#f1b6da"
            ],
            [
             0.4,
             "#fde0ef"
            ],
            [
             0.5,
             "#f7f7f7"
            ],
            [
             0.6,
             "#e6f5d0"
            ],
            [
             0.7,
             "#b8e186"
            ],
            [
             0.8,
             "#7fbc41"
            ],
            [
             0.9,
             "#4d9221"
            ],
            [
             1,
             "#276419"
            ]
           ],
           "sequential": [
            [
             0,
             "#0d0887"
            ],
            [
             0.1111111111111111,
             "#46039f"
            ],
            [
             0.2222222222222222,
             "#7201a8"
            ],
            [
             0.3333333333333333,
             "#9c179e"
            ],
            [
             0.4444444444444444,
             "#bd3786"
            ],
            [
             0.5555555555555556,
             "#d8576b"
            ],
            [
             0.6666666666666666,
             "#ed7953"
            ],
            [
             0.7777777777777778,
             "#fb9f3a"
            ],
            [
             0.8888888888888888,
             "#fdca26"
            ],
            [
             1,
             "#f0f921"
            ]
           ],
           "sequentialminus": [
            [
             0,
             "#0d0887"
            ],
            [
             0.1111111111111111,
             "#46039f"
            ],
            [
             0.2222222222222222,
             "#7201a8"
            ],
            [
             0.3333333333333333,
             "#9c179e"
            ],
            [
             0.4444444444444444,
             "#bd3786"
            ],
            [
             0.5555555555555556,
             "#d8576b"
            ],
            [
             0.6666666666666666,
             "#ed7953"
            ],
            [
             0.7777777777777778,
             "#fb9f3a"
            ],
            [
             0.8888888888888888,
             "#fdca26"
            ],
            [
             1,
             "#f0f921"
            ]
           ]
          },
          "colorway": [
           "#636efa",
           "#EF553B",
           "#00cc96",
           "#ab63fa",
           "#FFA15A",
           "#19d3f3",
           "#FF6692",
           "#B6E880",
           "#FF97FF",
           "#FECB52"
          ],
          "font": {
           "color": "#2a3f5f"
          },
          "geo": {
           "bgcolor": "white",
           "lakecolor": "white",
           "landcolor": "#E5ECF6",
           "showlakes": true,
           "showland": true,
           "subunitcolor": "white"
          },
          "hoverlabel": {
           "align": "left"
          },
          "hovermode": "closest",
          "mapbox": {
           "style": "light"
          },
          "paper_bgcolor": "white",
          "plot_bgcolor": "#E5ECF6",
          "polar": {
           "angularaxis": {
            "gridcolor": "white",
            "linecolor": "white",
            "ticks": ""
           },
           "bgcolor": "#E5ECF6",
           "radialaxis": {
            "gridcolor": "white",
            "linecolor": "white",
            "ticks": ""
           }
          },
          "scene": {
           "xaxis": {
            "backgroundcolor": "#E5ECF6",
            "gridcolor": "white",
            "gridwidth": 2,
            "linecolor": "white",
            "showbackground": true,
            "ticks": "",
            "zerolinecolor": "white"
           },
           "yaxis": {
            "backgroundcolor": "#E5ECF6",
            "gridcolor": "white",
            "gridwidth": 2,
            "linecolor": "white",
            "showbackground": true,
            "ticks": "",
            "zerolinecolor": "white"
           },
           "zaxis": {
            "backgroundcolor": "#E5ECF6",
            "gridcolor": "white",
            "gridwidth": 2,
            "linecolor": "white",
            "showbackground": true,
            "ticks": "",
            "zerolinecolor": "white"
           }
          },
          "shapedefaults": {
           "line": {
            "color": "#2a3f5f"
           }
          },
          "ternary": {
           "aaxis": {
            "gridcolor": "white",
            "linecolor": "white",
            "ticks": ""
           },
           "baxis": {
            "gridcolor": "white",
            "linecolor": "white",
            "ticks": ""
           },
           "bgcolor": "#E5ECF6",
           "caxis": {
            "gridcolor": "white",
            "linecolor": "white",
            "ticks": ""
           }
          },
          "title": {
           "x": 0.05
          },
          "xaxis": {
           "automargin": true,
           "gridcolor": "white",
           "linecolor": "white",
           "ticks": "",
           "title": {
            "standoff": 15
           },
           "zerolinecolor": "white",
           "zerolinewidth": 2
          },
          "yaxis": {
           "automargin": true,
           "gridcolor": "white",
           "linecolor": "white",
           "ticks": "",
           "title": {
            "standoff": 15
           },
           "zerolinecolor": "white",
           "zerolinewidth": 2
          }
         }
        },
        "title": {
         "text": "Model Performance Metrics"
        }
       }
      }
     },
     "metadata": {},
     "output_type": "display_data"
    }
   ],
   "source": [
    "#plot the performance metrics\n",
    "fig = go.Figure(data=[\n",
    "    go.Bar(name='Accuracy', x=model_performance.index, y=model_performance['Accuracy']),\n",
    "    go.Bar(name='Recall', x=model_performance.index, y=model_performance['Recall']),\n",
    "    go.Bar(name='Precision', x=model_performance.index, y=model_performance['Precision']),\n",
    "    go.Bar(name='F1-Score', x=model_performance.index, y=model_performance['F1-Score']),\n",
    "    go.Bar(name='time to train', x=model_performance.index, y=model_performance['time to train']),\n",
    "    go.Bar(name='time to predict', x=model_performance.index, y=model_performance['time to predict']),\n",
    "    go.Bar(name='total time', x=model_performance.index, y=model_performance['total time'])\n",
    "])\n",
    "\n",
    "fig.update_layout(barmode='group', title='Model Performance Metrics')\n",
    "fig.show()"
   ]
  },
  {
   "cell_type": "code",
   "execution_count": 56,
   "id": "06125e14",
   "metadata": {},
   "outputs": [],
   "source": [
    "#save the model\n",
    "model.save('LSTM_model.h5')"
   ]
  },
  {
   "cell_type": "code",
   "execution_count": 57,
   "id": "ad6aaafc",
   "metadata": {},
   "outputs": [],
   "source": [
    "#load the model\n",
    "from keras.models import load_model\n",
    "model = load_model('LSTM_model.h5', custom_objects={'f1_m': f1_m, 'precision_m':precision_m, 'recall_m':recall_m})"
   ]
  },
  {
   "cell_type": "code",
   "execution_count": 94,
   "id": "96909162",
   "metadata": {},
   "outputs": [
    {
     "name": "stdout",
     "output_type": "stream",
     "text": [
      "1/1 [==============================] - 0s 85ms/step\n",
      "Predicted class labels for the sample data: [0]\n",
      "Predicted class labels for the sample data: ['Attack']\n"
     ]
    }
   ],
   "source": [
    "import pandas as pd\n",
    "import numpy as np\n",
    "from tensorflow.keras.models import load_model\n",
    "from sklearn.preprocessing import StandardScaler\n",
    "from sklearn.compose import ColumnTransformer\n",
    "from sklearn.preprocessing import OneHotEncoder\n",
    "\n",
    "# Load the model\n",
    "model = load_model('LSTM_model.h5', custom_objects={'f1_m': f1_m, 'precision_m': precision_m, 'recall_m': recall_m})\n",
    "\n",
    "# Load the sample data\n",
    "df_sample = pd.read_csv('sample_data.csv')\n",
    "df_sample.head()\n",
    "\n",
    "# Check for missing values in the dataframe\n",
    "\n",
    "# Replace any placeholder for missing data (e.g., \"?\" or \"\") with NaN\n",
    "df_sample = df_sample.replace(\"?\", np.nan)\n",
    "\n",
    "# Handle missing values for numerical columns\n",
    "numerical_columns = df_sample.select_dtypes(include=[np.number]).columns\n",
    "df_sample[numerical_columns] = df_sample[numerical_columns].fillna(df_sample[numerical_columns].mean())\n",
    "\n",
    "# Handle missing values for categorical columns (fill with the most frequent value)\n",
    "categorical_columns = df_sample.select_dtypes(exclude=[np.number]).columns\n",
    "for col in categorical_columns:\n",
    "    df_sample[col].fillna(df_sample[col].mode()[0], inplace=True)\n",
    "\n",
    "# Check for missing values after handling them\n",
    "\n",
    "# Handle categorical features (proto, service, state)\n",
    "ct = ColumnTransformer(transformers=[('encoder', OneHotEncoder(), [1, 2, 3])], remainder='passthrough')\n",
    "X_sample = np.array(ct.fit_transform(df_sample))\n",
    "\n",
    "# Check the shape after transformation\n",
    "\n",
    "# Scale the numerical features\n",
    "sc = StandardScaler()\n",
    "X_sample[:, 18:] = sc.fit_transform(X_sample[:, 18:])\n",
    "\n",
    "# Check the final shape after scaling\n",
    "\n",
    "# Padding if the number of features is less than expected\n",
    "expected_features = 56\n",
    "if X_sample.shape[1] < expected_features:\n",
    "    padding = np.zeros((X_sample.shape[0], expected_features - X_sample.shape[1]))\n",
    "    X_sample = np.hstack((X_sample, padding))  # Add padding columns with zero values\n",
    "\n",
    "# Ensure the shape matches the model's input (56 features)\n",
    "if X_sample.shape[1] != expected_features:\n",
    "    raise ValueError(f\"Mismatch in feature count: Expected {expected_features}, got {X_sample.shape[1]}\")\n",
    "\n",
    "# Make predictions\n",
    "y_pred_sample = model.predict(X_sample)\n",
    "y_pred_sample = np.argmax(y_pred_sample, axis=1)  # Convert predictions to class labels\n",
    "\n",
    "# Print the predicted class labels\n",
    "print('Predicted class labels for the sample data:', y_pred_sample)\n",
    "\n",
    "#print class labels attack or normal\n",
    "class_labels = {0: 'Attack', 1: 'Normal'}\n",
    "y_pred_sample = [class_labels[i] for i in y_pred_sample]\n",
    "print('Predicted class labels for the sample data:', y_pred_sample)\n"
   ]
  }
 ],
 "metadata": {
  "kernelspec": {
   "display_name": "Python 3",
   "language": "python",
   "name": "python3"
  },
  "language_info": {
   "codemirror_mode": {
    "name": "ipython",
    "version": 3
   },
   "file_extension": ".py",
   "mimetype": "text/x-python",
   "name": "python",
   "nbconvert_exporter": "python",
   "pygments_lexer": "ipython3",
   "version": "3.11.4"
  },
  "papermill": {
   "default_parameters": {},
   "duration": 181.120244,
   "end_time": "2023-09-07T03:15:13.290613",
   "environment_variables": {},
   "exception": null,
   "input_path": "__notebook__.ipynb",
   "output_path": "__notebook__.ipynb",
   "parameters": {},
   "start_time": "2023-09-07T03:12:12.170369",
   "version": "2.3.4"
  }
 },
 "nbformat": 4,
 "nbformat_minor": 5
}
